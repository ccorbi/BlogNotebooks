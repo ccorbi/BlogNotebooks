{
 "cells": [
  {
   "cell_type": "code",
   "execution_count": 1,
   "metadata": {
    "collapsed": true
   },
   "outputs": [],
   "source": [
    "import nltk\n",
    "import numpy as np\n",
    "import pandas as pd\n",
    "import pickle\n",
    "import string\n",
    "from sklearn.preprocessing import OneHotEncoder\n"
   ]
  },
  {
   "cell_type": "code",
   "execution_count": null,
   "metadata": {
    "collapsed": true
   },
   "outputs": [],
   "source": [
    "print('a')"
   ]
  },
  {
   "cell_type": "code",
   "execution_count": 2,
   "metadata": {
    "collapsed": true
   },
   "outputs": [],
   "source": [
    "%matplotlib inline"
   ]
  },
  {
   "cell_type": "code",
   "execution_count": 3,
   "metadata": {
    "collapsed": true
   },
   "outputs": [],
   "source": [
    "pubmed = pickle.load( open( \"./Pubmed/bins/pubmed_2012.p\", \"rb\" )  )"
   ]
  },
  {
   "cell_type": "code",
   "execution_count": 4,
   "metadata": {},
   "outputs": [
    {
     "data": {
      "text/html": [
       "<div>\n",
       "<style>\n",
       "    .dataframe thead tr:only-child th {\n",
       "        text-align: right;\n",
       "    }\n",
       "\n",
       "    .dataframe thead th {\n",
       "        text-align: left;\n",
       "    }\n",
       "\n",
       "    .dataframe tbody tr th {\n",
       "        vertical-align: top;\n",
       "    }\n",
       "</style>\n",
       "<table border=\"1\" class=\"dataframe\">\n",
       "  <thead>\n",
       "    <tr style=\"text-align: right;\">\n",
       "      <th></th>\n",
       "      <th>pubmedid</th>\n",
       "      <th>year</th>\n",
       "      <th>title</th>\n",
       "      <th>jounal</th>\n",
       "      <th>lang</th>\n",
       "    </tr>\n",
       "  </thead>\n",
       "  <tbody>\n",
       "    <tr>\n",
       "      <th>86865</th>\n",
       "      <td>22251577</td>\n",
       "      <td>2012</td>\n",
       "      <td>Concentration fluctuations in binary fluid mem...</td>\n",
       "      <td>Journal of physics. Condensed matter : an Inst...</td>\n",
       "      <td>eng</td>\n",
       "    </tr>\n",
       "    <tr>\n",
       "      <th>86866</th>\n",
       "      <td>22251578</td>\n",
       "      <td>2012</td>\n",
       "      <td>The role of attractive many-body interaction i...</td>\n",
       "      <td>Journal of physics. Condensed matter : an Inst...</td>\n",
       "      <td>eng</td>\n",
       "    </tr>\n",
       "    <tr>\n",
       "      <th>86867</th>\n",
       "      <td>22251579</td>\n",
       "      <td>2012</td>\n",
       "      <td>Stochastic method for accommodation of equilib...</td>\n",
       "      <td>Journal of physics. Condensed matter : an Inst...</td>\n",
       "      <td>eng</td>\n",
       "    </tr>\n",
       "    <tr>\n",
       "      <th>86868</th>\n",
       "      <td>22251580</td>\n",
       "      <td>2012</td>\n",
       "      <td>Hidden octupole order in URu₂Si₂.</td>\n",
       "      <td>Journal of physics. Condensed matter : an Inst...</td>\n",
       "      <td>eng</td>\n",
       "    </tr>\n",
       "    <tr>\n",
       "      <th>86869</th>\n",
       "      <td>22251581</td>\n",
       "      <td>2012</td>\n",
       "      <td>Negative refraction via domain wall resonances...</td>\n",
       "      <td>Journal of physics. Condensed matter : an Inst...</td>\n",
       "      <td>eng</td>\n",
       "    </tr>\n",
       "    <tr>\n",
       "      <th>86870</th>\n",
       "      <td>22251582</td>\n",
       "      <td>2012</td>\n",
       "      <td>Complex phase behaviour from simple potentials.</td>\n",
       "      <td>Journal of physics. Condensed matter : an Inst...</td>\n",
       "      <td>eng</td>\n",
       "    </tr>\n",
       "    <tr>\n",
       "      <th>86871</th>\n",
       "      <td>22251583</td>\n",
       "      <td>2012</td>\n",
       "      <td>Interfaces and fluctuations in confined polyme...</td>\n",
       "      <td>Journal of physics. Condensed matter : an Inst...</td>\n",
       "      <td>eng</td>\n",
       "    </tr>\n",
       "    <tr>\n",
       "      <th>86872</th>\n",
       "      <td>22251584</td>\n",
       "      <td>2012</td>\n",
       "      <td>Ultraviolet photoinduced weak bonds in aryl-su...</td>\n",
       "      <td>Journal of physics. Condensed matter : an Inst...</td>\n",
       "      <td>eng</td>\n",
       "    </tr>\n",
       "    <tr>\n",
       "      <th>86873</th>\n",
       "      <td>22251585</td>\n",
       "      <td>2012</td>\n",
       "      <td>A simple physical description of DNA dynamics:...</td>\n",
       "      <td>Journal of physics. Condensed matter : an Inst...</td>\n",
       "      <td>eng</td>\n",
       "    </tr>\n",
       "    <tr>\n",
       "      <th>86874</th>\n",
       "      <td>22251586</td>\n",
       "      <td>2012</td>\n",
       "      <td>In situ XAFS and XRD studies of pressure-induc...</td>\n",
       "      <td>Journal of physics. Condensed matter : an Inst...</td>\n",
       "      <td>eng</td>\n",
       "    </tr>\n",
       "  </tbody>\n",
       "</table>\n",
       "</div>"
      ],
      "text/plain": [
       "       pubmedid  year                                              title  \\\n",
       "86865  22251577  2012  Concentration fluctuations in binary fluid mem...   \n",
       "86866  22251578  2012  The role of attractive many-body interaction i...   \n",
       "86867  22251579  2012  Stochastic method for accommodation of equilib...   \n",
       "86868  22251580  2012                  Hidden octupole order in URu₂Si₂.   \n",
       "86869  22251581  2012  Negative refraction via domain wall resonances...   \n",
       "86870  22251582  2012    Complex phase behaviour from simple potentials.   \n",
       "86871  22251583  2012  Interfaces and fluctuations in confined polyme...   \n",
       "86872  22251584  2012  Ultraviolet photoinduced weak bonds in aryl-su...   \n",
       "86873  22251585  2012  A simple physical description of DNA dynamics:...   \n",
       "86874  22251586  2012  In situ XAFS and XRD studies of pressure-induc...   \n",
       "\n",
       "                                                  jounal lang  \n",
       "86865  Journal of physics. Condensed matter : an Inst...  eng  \n",
       "86866  Journal of physics. Condensed matter : an Inst...  eng  \n",
       "86867  Journal of physics. Condensed matter : an Inst...  eng  \n",
       "86868  Journal of physics. Condensed matter : an Inst...  eng  \n",
       "86869  Journal of physics. Condensed matter : an Inst...  eng  \n",
       "86870  Journal of physics. Condensed matter : an Inst...  eng  \n",
       "86871  Journal of physics. Condensed matter : an Inst...  eng  \n",
       "86872  Journal of physics. Condensed matter : an Inst...  eng  \n",
       "86873  Journal of physics. Condensed matter : an Inst...  eng  \n",
       "86874  Journal of physics. Condensed matter : an Inst...  eng  "
      ]
     },
     "execution_count": 4,
     "metadata": {},
     "output_type": "execute_result"
    }
   ],
   "source": [
    "pubmed.head(10)"
   ]
  },
  {
   "cell_type": "code",
   "execution_count": 8,
   "metadata": {
    "collapsed": true
   },
   "outputs": [],
   "source": [
    "values = dict()"
   ]
  },
  {
   "cell_type": "code",
   "execution_count": 9,
   "metadata": {
    "collapsed": true
   },
   "outputs": [],
   "source": [
    "for i, row in pubmed.iterrows():\n",
    "    for c in row['title'].lower():\n",
    "        if c not in values:\n",
    "            values[c] =1\n",
    "        "
   ]
  },
  {
   "cell_type": "code",
   "execution_count": 10,
   "metadata": {},
   "outputs": [
    {
     "data": {
      "text/plain": [
       "315"
      ]
     },
     "execution_count": 10,
     "metadata": {},
     "output_type": "execute_result"
    }
   ],
   "source": [
    "len(values)"
   ]
  },
  {
   "cell_type": "code",
   "execution_count": 11,
   "metadata": {},
   "outputs": [
    {
     "data": {
      "text/plain": [
       "1"
      ]
     },
     "execution_count": 11,
     "metadata": {},
     "output_type": "execute_result"
    }
   ],
   "source": [
    "values[' ']"
   ]
  },
  {
   "cell_type": "code",
   "execution_count": 12,
   "metadata": {
    "collapsed": true
   },
   "outputs": [],
   "source": [
    "# word to id dict\n",
    "chr_to_id = {token: idx for idx, token in enumerate(values)}\n",
    "id_to_chr = {idx: token for idx, token in enumerate(values)}\n",
    "\n",
    "\n",
    "# convert token lists to token-id lists, e.g. [[1, 2], [2, 2]] here\n",
    "#token_ids = [[word_to_id[token] for token in tokens_doc] for tokens_doc in tokens_docs]"
   ]
  },
  {
   "cell_type": "code",
   "execution_count": 13,
   "metadata": {},
   "outputs": [
    {
     "data": {
      "text/plain": [
       "315"
      ]
     },
     "execution_count": 13,
     "metadata": {},
     "output_type": "execute_result"
    }
   ],
   "source": [
    "len(chr_to_id)"
   ]
  },
  {
   "cell_type": "code",
   "execution_count": 14,
   "metadata": {
    "collapsed": true
   },
   "outputs": [],
   "source": [
    "# generate a continuous text woth all the titles. \n",
    "pubmed_corpus = list()\n",
    "for i, row in pubmed.iterrows():\n",
    "    pubmed_corpus.append(row['title'].lower())\n",
    "\n",
    "pubmed_corpus = ' '.join(pubmed_corpus)"
   ]
  },
  {
   "cell_type": "code",
   "execution_count": 17,
   "metadata": {},
   "outputs": [
    {
     "name": "stdout",
     "output_type": "stream",
     "text": [
      "Total Patterns:  18380182\n"
     ]
    }
   ],
   "source": [
    "# float window 5 to 1\n",
    "n_chars_corpus = len(pubmed_corpus)\n",
    "max_len = 50\n",
    "overlap = 5\n",
    "dataX = []\n",
    "dataY = []\n",
    "for i in range(0, n_chars_corpus - max_len, overlap):\n",
    "\tseq_in = pubmed_corpus[i:i + max_len]\n",
    "\tseq_target = pubmed_corpus[i + max_len]\n",
    "\tdataX.append([chr_to_id[char] for char in seq_in])\n",
    "\tdataY.append(chr_to_id[seq_target])\n",
    "n_patterns = len(dataX)\n",
    "print \"Total Patterns: \", n_patterns\n"
   ]
  },
  {
   "cell_type": "code",
   "execution_count": 18,
   "metadata": {},
   "outputs": [
    {
     "name": "stderr",
     "output_type": "stream",
     "text": [
      "Using TensorFlow backend.\n"
     ]
    }
   ],
   "source": [
    "from keras.preprocessing import sequence\n",
    "from keras.models import Sequential\n",
    "from keras.layers import Dense, Embedding, Dropout, Activation\n",
    "from keras.layers import LSTM\n",
    "from keras.datasets import imdb\n",
    "from keras.optimizers import RMSprop\n",
    "from keras.callbacks import ModelCheckpoint"
   ]
  },
  {
   "cell_type": "code",
   "execution_count": null,
   "metadata": {
    "collapsed": true
   },
   "outputs": [],
   "source": []
  },
  {
   "cell_type": "code",
   "execution_count": 19,
   "metadata": {},
   "outputs": [
    {
     "ename": "MemoryError",
     "evalue": "",
     "output_type": "error",
     "traceback": [
      "\u001b[1;31m---------------------------------------------------------------------------\u001b[0m",
      "\u001b[1;31mMemoryError\u001b[0m                               Traceback (most recent call last)",
      "\u001b[1;32m<ipython-input-19-43600d78066a>\u001b[0m in \u001b[0;36m<module>\u001b[1;34m()\u001b[0m\n\u001b[1;32m----> 1\u001b[1;33m \u001b[0mX\u001b[0m \u001b[1;33m=\u001b[0m \u001b[0mnp\u001b[0m\u001b[1;33m.\u001b[0m\u001b[0mzeros\u001b[0m\u001b[1;33m(\u001b[0m\u001b[1;33m(\u001b[0m\u001b[0mn_patterns\u001b[0m\u001b[1;33m,\u001b[0m \u001b[0mmax_len\u001b[0m\u001b[1;33m,\u001b[0m \u001b[0mlen\u001b[0m\u001b[1;33m(\u001b[0m\u001b[0mchr_to_id\u001b[0m\u001b[1;33m)\u001b[0m\u001b[1;33m)\u001b[0m\u001b[1;33m,\u001b[0m \u001b[0mdtype\u001b[0m\u001b[1;33m=\u001b[0m\u001b[0mnp\u001b[0m\u001b[1;33m.\u001b[0m\u001b[0mbool\u001b[0m\u001b[1;33m)\u001b[0m\u001b[1;33m\u001b[0m\u001b[0m\n\u001b[0m\u001b[0;32m      2\u001b[0m \u001b[0my\u001b[0m \u001b[1;33m=\u001b[0m \u001b[0mnp\u001b[0m\u001b[1;33m.\u001b[0m\u001b[0mzeros\u001b[0m\u001b[1;33m(\u001b[0m\u001b[1;33m(\u001b[0m\u001b[0mn_patterns\u001b[0m\u001b[1;33m,\u001b[0m \u001b[0mlen\u001b[0m\u001b[1;33m(\u001b[0m\u001b[0mchr_to_id\u001b[0m\u001b[1;33m)\u001b[0m\u001b[1;33m)\u001b[0m\u001b[1;33m,\u001b[0m \u001b[0mdtype\u001b[0m\u001b[1;33m=\u001b[0m\u001b[0mnp\u001b[0m\u001b[1;33m.\u001b[0m\u001b[0mbool\u001b[0m\u001b[1;33m)\u001b[0m\u001b[1;33m\u001b[0m\u001b[0m\n\u001b[0;32m      3\u001b[0m \u001b[1;33m\u001b[0m\u001b[0m\n\u001b[0;32m      4\u001b[0m \u001b[1;33m\u001b[0m\u001b[0m\n\u001b[0;32m      5\u001b[0m \u001b[1;33m\u001b[0m\u001b[0m\n",
      "\u001b[1;31mMemoryError\u001b[0m: "
     ]
    }
   ],
   "source": [
    "X = np.zeros((n_patterns, max_len, len(chr_to_id)), dtype=np.bool)\n",
    "y = np.zeros((n_patterns, len(chr_to_id)), dtype=np.bool)\n",
    "\n",
    "\n",
    "\n",
    "# vectorize in LSTM format   \n",
    "for idx,title in enumerate(dataX):\n",
    "    for jdx, c in enumerate(title):\n",
    "        X[idx, jdx, c] = 1\n",
    "    y[idx, dataY[idx]] = 1\n",
    "        \n",
    "        \n",
    "    \n",
    "    "
   ]
  },
  {
   "cell_type": "code",
   "execution_count": null,
   "metadata": {
    "collapsed": true
   },
   "outputs": [],
   "source": [
    "# build the model: a single LSTM\n",
    "print('Build model...')\n",
    "model = Sequential()\n",
    "model.add(LSTM(256, input_shape=(max_len, len(chr_to_id))))\n",
    "model.add(Dropout(0.2))\n",
    "model.add(Dense(len(chr_to_id)))\n",
    "model.add(Activation('softmax'))\n",
    "\n",
    "#optimizer = RMSprop(lr=0.01)\n",
    "model.compile(loss='categorical_crossentropy', optimizer='adam')"
   ]
  },
  {
   "cell_type": "code",
   "execution_count": null,
   "metadata": {
    "collapsed": true
   },
   "outputs": [],
   "source": [
    "def sample(preds, temperature=1.0):\n",
    "    # helper function to sample an index from a probability array\n",
    "    preds = np.asarray(preds).astype('float64')\n",
    "    preds = np.log(preds) / temperature\n",
    "    exp_preds = np.exp(preds)\n",
    "    preds = exp_preds / np.sum(exp_preds)\n",
    "    probas = np.random.multinomial(1, preds, 1)\n",
    "    return np.argmax(probas)"
   ]
  },
  {
   "cell_type": "code",
   "execution_count": null,
   "metadata": {
    "collapsed": true
   },
   "outputs": [],
   "source": [
    "print('-' * 50)\n",
    "fileName= '2012_char'\n",
    "filepath = fileName+\"-{epoch:02d}-{loss:.4f}.hdf5\"\n",
    "checkpoint = ModelCheckpoint(filepath, monitor='loss', verbose=1, save_best_only=True, mode='min')\n",
    "callbacks_list = [checkpoint]\n",
    "model.fit(X, y, batch_size=256, nb_epoch=20, callbacks=callbacks_list)"
   ]
  },
  {
   "cell_type": "code",
   "execution_count": 57,
   "metadata": {},
   "outputs": [
    {
     "data": {
      "text/plain": [
       "(90000, 170717)"
      ]
     },
     "execution_count": 57,
     "metadata": {},
     "output_type": "execute_result"
    }
   ],
   "source": [
    "y.shape"
   ]
  },
  {
   "cell_type": "code",
   "execution_count": 42,
   "metadata": {
    "collapsed": true
   },
   "outputs": [],
   "source": [
    "import random\n"
   ]
  },
  {
   "cell_type": "code",
   "execution_count": 44,
   "metadata": {},
   "outputs": [
    {
     "data": {
      "text/plain": [
       "14987"
      ]
     },
     "execution_count": 44,
     "metadata": {},
     "output_type": "execute_result"
    }
   ],
   "source": [
    " random.randint(0, len(word_to_id) )"
   ]
  },
  {
   "cell_type": "code",
   "execution_count": null,
   "metadata": {
    "collapsed": true
   },
   "outputs": [],
   "source": [
    "for i in  random.randint(0, len(word_to_id) )"
   ]
  },
  {
   "cell_type": "code",
   "execution_count": 51,
   "metadata": {},
   "outputs": [
    {
     "data": {
      "text/plain": [
       "37609"
      ]
     },
     "execution_count": 51,
     "metadata": {},
     "output_type": "execute_result"
    }
   ],
   "source": [
    "word_to_id['genetics']"
   ]
  },
  {
   "cell_type": "code",
   "execution_count": 59,
   "metadata": {
    "collapsed": true
   },
   "outputs": [],
   "source": [
    "# my seed\n",
    "seed = ['a','novel', 'study', 'on', 'human' ]"
   ]
  },
  {
   "cell_type": "code",
   "execution_count": 60,
   "metadata": {
    "collapsed": true
   },
   "outputs": [],
   "source": [
    "\n",
    "title_ids = return_ids(seed)\n",
    "\n"
   ]
  },
  {
   "cell_type": "code",
   "execution_count": 61,
   "metadata": {},
   "outputs": [
    {
     "data": {
      "text/plain": [
       "[35340, 44721, 42855, 15283, 20841]"
      ]
     },
     "execution_count": 61,
     "metadata": {},
     "output_type": "execute_result"
    }
   ],
   "source": [
    "title_ids"
   ]
  },
  {
   "cell_type": "code",
   "execution_count": 62,
   "metadata": {
    "collapsed": true
   },
   "outputs": [],
   "source": [
    "x = np.zeros((1, max_len, len(word_to_id)))\n",
    "for t, word in enumerate(title_ids):\n",
    "    x[0, t, word] =1 "
   ]
  },
  {
   "cell_type": "code",
   "execution_count": 66,
   "metadata": {
    "collapsed": true
   },
   "outputs": [],
   "source": [
    "pred = model.predict(x)[0]"
   ]
  },
  {
   "cell_type": "code",
   "execution_count": 68,
   "metadata": {},
   "outputs": [
    {
     "data": {
      "text/plain": [
       "(65659,)"
      ]
     },
     "execution_count": 68,
     "metadata": {},
     "output_type": "execute_result"
    }
   ],
   "source": [
    "pred.shape"
   ]
  },
  {
   "cell_type": "code",
   "execution_count": 69,
   "metadata": {},
   "outputs": [
    {
     "data": {
      "text/plain": [
       "38887"
      ]
     },
     "execution_count": 69,
     "metadata": {},
     "output_type": "execute_result"
    }
   ],
   "source": [
    "temperature = 1\n",
    "preds = np.asarray(pred).astype('float64')\n",
    "preds = np.log(preds) / temperature\n",
    "exp_preds = np.exp(preds)\n",
    "preds = exp_preds / np.sum(exp_preds)\n",
    "probas = np.random.multinomial(1, preds, 1)\n",
    "np.argmax(probas)"
   ]
  },
  {
   "cell_type": "code",
   "execution_count": 70,
   "metadata": {},
   "outputs": [
    {
     "data": {
      "text/plain": [
       "u'large'"
      ]
     },
     "execution_count": 70,
     "metadata": {},
     "output_type": "execute_result"
    }
   ],
   "source": [
    "id_to_word[38887]"
   ]
  },
  {
   "cell_type": "code",
   "execution_count": 71,
   "metadata": {},
   "outputs": [
    {
     "data": {
      "text/plain": [
       "u'heart'"
      ]
     },
     "execution_count": 71,
     "metadata": {},
     "output_type": "execute_result"
    }
   ],
   "source": [
    "seed2 = ['novel', 'study', 'on', 'human','large' ]\n",
    "title_ids = return_ids(seed2)\n",
    "\n",
    "x = np.zeros((1, max_len, len(word_to_id)))\n",
    "for t, word in enumerate(title_ids):\n",
    "    x[0, t, word] =1 \n",
    "pred = model.predict(x)[0]\n",
    "temperature = 1\n",
    "preds = np.asarray(pred).astype('float64')\n",
    "preds = np.log(preds) / temperature\n",
    "exp_preds = np.exp(preds)\n",
    "preds = exp_preds / np.sum(exp_preds)\n",
    "probas = np.random.multinomial(1, preds, 1)\n",
    "id_to_word[np.argmax(probas)]"
   ]
  },
  {
   "cell_type": "code",
   "execution_count": null,
   "metadata": {
    "collapsed": true
   },
   "outputs": [],
   "source": [
    "start_index = random.randint(0, len(raw_text) - max_len - 1)\n",
    "#len(word_to_id)\n",
    "import gc\n",
    "for diversity in [0.2, 0.5, 1.0, 1.2]:\n",
    "    print()\n",
    "    print('----- diversity:', diversity)\n",
    "\n",
    "    generated = ''\n",
    "    sentence = raw_text[start_index: start_index + maxlen]\n",
    "    generated += ' '.join([value for value in sentence])\n",
    "    print('----- Generating with seed: \"' + ' '.join([value for value in sentence]) + '\"')\n",
    "    sys.stdout.write(generated)\n",
    "\n",
    "    for i in range(400):\n",
    "        x = np.zeros((1, max_len, len(word_to_id)))\n",
    "        for t, word in enumerate(sentence):\n",
    "            x[0, t, char_indices[word]] = 1.\n",
    "\n",
    "        preds = model.predict(x, verbose=0)[0]\n",
    "        next_index = sample(preds, diversity)\n",
    "        next_char = indices_char[next_index]\n",
    "\n",
    "        generated += next_char + \" \"\n",
    "        sentence = sentence[1:]\n",
    "        sentence.append(next_char)\n",
    "\n",
    "        sys.stdout.write(\" \" + next_char)\n",
    "        sys.stdout.flush()\n",
    "    print()\n",
    "gc.collect()"
   ]
  }
 ],
 "metadata": {
  "anaconda-cloud": {},
  "kernelspec": {
   "display_name": "Python [conda root]",
   "language": "python",
   "name": "conda-root-py"
  },
  "language_info": {
   "codemirror_mode": {
    "name": "ipython",
    "version": 3
   },
   "file_extension": ".py",
   "mimetype": "text/x-python",
   "name": "python",
   "nbconvert_exporter": "python",
   "pygments_lexer": "ipython3",
   "version": "3.5.4"
  },
  "nav_menu": {},
  "toc": {
   "navigate_menu": true,
   "number_sections": true,
   "sideBar": true,
   "threshold": 6,
   "toc_cell": false,
   "toc_section_display": "block",
   "toc_window_display": false
  }
 },
 "nbformat": 4,
 "nbformat_minor": 2
}
