{
 "cells": [
  {
   "cell_type": "code",
   "execution_count": 1,
   "metadata": {
    "collapsed": true
   },
   "outputs": [],
   "source": [
    "import torch\n",
    "import torch.nn as nn\n",
    "\n",
    "class RNN(nn.Module):\n",
    "    def __init__(self, input_size, hidden_size, output_size):\n",
    "        super(RNN, self).__init__()\n",
    "        self.hidden_size = hidden_size\n",
    "\n",
    "        self.i2h = nn.Linear(n_categories + input_size + hidden_size, hidden_size)\n",
    "        self.i2o = nn.Linear(n_categories + input_size + hidden_size, output_size)\n",
    "        self.o2o = nn.Linear(hidden_size + output_size, output_size)\n",
    "        self.dropout = nn.Dropout(0.1)\n",
    "        self.softmax = nn.LogSoftmax(dim=1)\n",
    "\n",
    "    def forward(self, category, input, hidden):\n",
    "        input_combined = torch.cat((category, input, hidden), 1)\n",
    "        hidden = self.i2h(input_combined)\n",
    "        output = self.i2o(input_combined)\n",
    "        output_combined = torch.cat((hidden, output), 1)\n",
    "        output = self.o2o(output_combined)\n",
    "        output = self.dropout(output)\n",
    "        output = self.softmax(output)\n",
    "        return output, hidden\n",
    "\n",
    "    def initHidden(self):\n",
    "        return torch.zeros(1, self.hidden_size)"
   ]
  },
  {
   "cell_type": "code",
   "execution_count": 2,
   "metadata": {
    "collapsed": true
   },
   "outputs": [],
   "source": [
    "n_categories = 3\n",
    "all_categories =  [('H', 'G', 'I' ), \n",
    "                   ('E','B'), \n",
    "                   ('S','T','C','-')]\n",
    "\n",
    "all_letters = ['_','C', 'V', 'T', 'F', 'Y', 'A', 'P', 'W', 'I', 'M', 'L', 'S', 'G', 'H', 'D', 'E', 'N', 'Q', 'R', 'K']\n",
    "n_letters = len(all_letters)\n",
    "char_to_int = dict((c, i) for i, c in enumerate(all_letters))\n",
    "\n",
    "int_to_char = dict((c, i) for i, c in char_to_int.items())\n",
    "#print(n_chars)\n",
    "\n",
    "\n",
    "# One-hot vector for category\n",
    "def categoryTensor(category):\n",
    "    li = all_categories.index(category)\n",
    "    tensor = torch.zeros(1, n_categories)\n",
    "    tensor[0][li] = 1\n",
    "    return tensor\n",
    "\n",
    "# One-hot matrix of first to last letters (not including EOS) for input\n",
    "def inputTensor(line):\n",
    "    tensor = torch.zeros(len(line), 1, n_letters)\n",
    "    for li in range(len(line)):\n",
    "        letter = line[li]\n",
    "        tensor[li][0][all_letters.index(letter)] = 1\n",
    "    return tensor\n",
    "\n",
    "# LongTensor of second letter to end (EOS) for target\n",
    "def targetTensor(line):\n",
    "    letter_indexes = [all_letters.index(line[li]) for li in range(1, len(line))]\n",
    "    letter_indexes.append( all_letters.index('_' )) # EOS\n",
    "    return torch.LongTensor(letter_indexes)"
   ]
  },
  {
   "cell_type": "code",
   "execution_count": 3,
   "metadata": {
    "collapsed": true
   },
   "outputs": [],
   "source": [
    "import pickle\n",
    "import random"
   ]
  },
  {
   "cell_type": "code",
   "execution_count": 4,
   "metadata": {
    "collapsed": true
   },
   "outputs": [],
   "source": [
    "dataset = pickle.load(open('./20180609-3Q_len10.pkl','rb'))"
   ]
  },
  {
   "cell_type": "code",
   "execution_count": 5,
   "metadata": {
    "collapsed": true
   },
   "outputs": [],
   "source": [
    "random.seed = 42"
   ]
  },
  {
   "cell_type": "code",
   "execution_count": 6,
   "metadata": {
    "collapsed": true
   },
   "outputs": [],
   "source": [
    "training= list()\n",
    "\n",
    "for c in all_categories:\n",
    "    random.shuffle(dataset[c] )\n",
    "    for i in range(20000):\n",
    "        try:\n",
    "            cate = categoryTensor(c).cuda()\n",
    "            itensor = inputTensor(dataset[c][i]).cuda()\n",
    "            ttensor = targetTensor(dataset[c][i]).cuda()\n",
    "            training.append([cate, itensor, ttensor ])\n",
    "        except ValueError:\n",
    "            pass"
   ]
  },
  {
   "cell_type": "code",
   "execution_count": 7,
   "metadata": {
    "collapsed": true
   },
   "outputs": [],
   "source": [
    "criterion = nn.NLLLoss()\n",
    "\n",
    "learning_rate = 0.0001\n",
    "\n",
    "def train(category_tensor, input_line_tensor, target_line_tensor):\n",
    "    target = target_line_tensor.clone()\n",
    "    target = target.unsqueeze_(-1)\n",
    "    hidden = rnn.initHidden().cuda()\n",
    "\n",
    "    rnn.zero_grad()\n",
    "\n",
    "    loss = 0\n",
    "\n",
    "    for i in range(input_line_tensor.size(0)):\n",
    "        output, hidden = rnn(category_tensor, input_line_tensor[i], hidden)\n",
    "        #print(i)\n",
    "        l = criterion(output, target[i])\n",
    "        loss += l\n",
    "\n",
    "    loss.backward()\n",
    "\n",
    "    for p in rnn.parameters():\n",
    "        p.data.add_(-learning_rate, p.grad.data)\n",
    "\n",
    "    return output, loss.item() / input_line_tensor.size(0)"
   ]
  },
  {
   "cell_type": "code",
   "execution_count": 8,
   "metadata": {
    "collapsed": true
   },
   "outputs": [],
   "source": [
    "random.shuffle(training)"
   ]
  },
  {
   "cell_type": "code",
   "execution_count": 11,
   "metadata": {},
   "outputs": [
    {
     "name": "stdout",
     "output_type": "stream",
     "text": [
      "(0 0%) 3.0432\n",
      "(5000 8%) 2.8605\n",
      "(10000 16%) 2.9566\n",
      "(15000 25%) 2.6400\n",
      "(20000 33%) 2.9212\n",
      "(25000 41%) 2.6808\n",
      "(30000 50%) 2.4905\n",
      "(35000 58%) 2.7767\n",
      "(40000 66%) 2.5985\n",
      "(45000 75%) 2.5732\n",
      "(50000 83%) 2.6380\n",
      "(55000 91%) 2.7159\n"
     ]
    }
   ],
   "source": [
    "rnn = RNN(n_letters, 256, n_letters).cuda()\n",
    "\n",
    "n_iters = len(training)\n",
    "print_every = 5000\n",
    "plot_every = 500\n",
    "all_losses = []\n",
    "total_loss = 0 # Reset every plot_every iters\n",
    "\n",
    "#start = time.time()\n",
    "\n",
    "for idx,item in enumerate(training):\n",
    "    #print(item)\n",
    "    output, loss = train(item[0],item[1],item[2])\n",
    "    total_loss += loss\n",
    "\n",
    "    if idx % print_every == 0:\n",
    "        print('(%d %d%%) %.4f' % ( idx, idx / n_iters * 100, loss))\n",
    "\n",
    "    if idx % plot_every == 0:\n",
    "        all_losses.append(total_loss / plot_every)\n",
    "        total_loss = 0"
   ]
  },
  {
   "cell_type": "code",
   "execution_count": 12,
   "metadata": {
    "collapsed": true
   },
   "outputs": [],
   "source": [
    "%matplotlib inline"
   ]
  },
  {
   "cell_type": "code",
   "execution_count": 17,
   "metadata": {},
   "outputs": [
    {
     "data": {
      "text/plain": [
       "[<matplotlib.lines.Line2D at 0x7fcbcd4fbcc0>]"
      ]
     },
     "execution_count": 17,
     "metadata": {},
     "output_type": "execute_result"
    },
    {
     "data": {
      "image/png": "[encoded data removed]",
      "text/plain": [
       "<matplotlib.figure.Figure at 0x7fcbcd575208>"
      ]
     },
     "metadata": {},
     "output_type": "display_data"
    }
   ],
   "source": [
    "import matplotlib.pyplot as plt\n",
    "import matplotlib.ticker as ticker\n",
    "\n",
    "plt.figure()\n",
    "plt.plot(all_losses[1:])"
   ]
  },
  {
   "cell_type": "code",
   "execution_count": null,
   "metadata": {
    "collapsed": true
   },
   "outputs": [],
   "source": []
  },
  {
   "cell_type": "code",
   "execution_count": null,
   "metadata": {
    "collapsed": true
   },
   "outputs": [],
   "source": []
  },
  {
   "cell_type": "code",
   "execution_count": 18,
   "metadata": {},
   "outputs": [
    {
     "name": "stdout",
     "output_type": "stream",
     "text": [
      "(0 0%) 2.3870\n",
      "(5000 8%) 2.6152\n",
      "(10000 16%) 2.6670\n",
      "(15000 25%) 2.5129\n",
      "(20000 33%) 2.7249\n",
      "(25000 41%) 2.5919\n",
      "(30000 50%) 2.7963\n",
      "(35000 58%) 2.6307\n",
      "(40000 66%) 2.6485\n",
      "(45000 75%) 2.7574\n",
      "(50000 83%) 2.5850\n",
      "(55000 91%) 2.4608\n",
      "(0 0%) 2.4056\n",
      "(5000 8%) 2.5881\n",
      "(10000 16%) 2.5435\n",
      "(15000 25%) 2.5212\n",
      "(20000 33%) 2.8779\n",
      "(25000 41%) 2.6066\n",
      "(30000 50%) 2.5965\n",
      "(35000 58%) 2.5564\n",
      "(40000 66%) 2.5265\n",
      "(45000 75%) 2.4457\n",
      "(50000 83%) 2.6546\n",
      "(55000 91%) 2.4174\n",
      "(0 0%) 2.3828\n",
      "(5000 8%) 2.5662\n",
      "(10000 16%) 2.5937\n",
      "(15000 25%) 2.5847\n",
      "(20000 33%) 2.8928\n",
      "(25000 41%) 2.7397\n",
      "(30000 50%) 2.7376\n",
      "(35000 58%) 2.6379\n",
      "(40000 66%) 2.6364\n",
      "(45000 75%) 2.5947\n",
      "(50000 83%) 2.6477\n",
      "(55000 91%) 2.4414\n",
      "(0 0%) 2.3898\n",
      "(5000 8%) 2.6812\n",
      "(10000 16%) 2.7021\n",
      "(15000 25%) 2.5732\n",
      "(20000 33%) 2.7421\n",
      "(25000 41%) 2.6980\n",
      "(30000 50%) 2.6023\n",
      "(35000 58%) 2.5516\n",
      "(40000 66%) 2.6536\n",
      "(45000 75%) 2.5763\n",
      "(50000 83%) 2.5498\n",
      "(55000 91%) 2.4372\n",
      "(0 0%) 2.3184\n",
      "(5000 8%) 2.5269\n",
      "(10000 16%) 2.6799\n",
      "(15000 25%) 2.5664\n",
      "(20000 33%) 2.8361\n",
      "(25000 41%) 2.8807\n",
      "(30000 50%) 2.5700\n",
      "(35000 58%) 2.5676\n",
      "(40000 66%) 2.5270\n",
      "(45000 75%) 2.6543\n",
      "(50000 83%) 2.4897\n",
      "(55000 91%) 2.3805\n"
     ]
    }
   ],
   "source": [
    "for e in range(5):\n",
    "    for idx,item in enumerate(training):\n",
    "        #print(item)\n",
    "        output, loss = train(item[0],item[1],item[2])\n",
    "        total_loss += loss\n",
    "\n",
    "        if idx % print_every == 0:\n",
    "            print('(%d %d%%) %.4f' % ( idx, idx / n_iters * 100, loss))\n",
    "\n",
    "        if idx % plot_every == 0:\n",
    "            all_losses.append(total_loss / plot_every)\n",
    "            total_loss = 0"
   ]
  },
  {
   "cell_type": "code",
   "execution_count": 19,
   "metadata": {},
   "outputs": [
    {
     "data": {
      "text/plain": [
       "[<matplotlib.lines.Line2D at 0x7fcbcd4e0898>]"
      ]
     },
     "execution_count": 19,
     "metadata": {},
     "output_type": "execute_result"
    },
    {
     "data": {
      "image/png": "[encoded data removed]",
      "text/plain": [
       "<matplotlib.figure.Figure at 0x7fcbcd5515f8>"
      ]
     },
     "metadata": {},
     "output_type": "display_data"
    }
   ],
   "source": [
    "plt.plot(all_losses[1:])"
   ]
  },
  {
   "cell_type": "code",
   "execution_count": 20,
   "metadata": {
    "collapsed": true
   },
   "outputs": [],
   "source": [
    "def sample(category, start_letter='A'):\n",
    "    max_length= 9\n",
    "    with torch.no_grad():  # no need to track history in sampling\n",
    "        category_tensor = categoryTensor(category).cuda()\n",
    "        input = inputTensor(start_letter).cuda()\n",
    "        hidden = rnn.initHidden().cuda()\n",
    "\n",
    "        output_name = start_letter\n",
    "\n",
    "        for i in range(max_length):\n",
    "            output, hidden = rnn(category_tensor, input[0], hidden)\n",
    "            topv, topi = output.topk(1)\n",
    "            topi = topi[0][0]\n",
    "            #if topi == n_letters - 1:\n",
    "            #    break\n",
    "            #else:\n",
    "            letter = all_letters[topi]\n",
    "            output_name += letter\n",
    "            input = inputTensor(letter).cuda()\n",
    "\n",
    "        return output_name\n",
    "\n",
    "# Get multiple samples from one category and multiple starting letters\n",
    "def samples(category, start_letters='ACW'):\n",
    "    for start_letter in start_letters:\n",
    "        print(sample(category, start_letter))"
   ]
  },
  {
   "cell_type": "code",
   "execution_count": 21,
   "metadata": {},
   "outputs": [
    {
     "name": "stdout",
     "output_type": "stream",
     "text": [
      "AEELLELLKE\n",
      "CEELLELLKE\n",
      "WELLKALLEL\n"
     ]
    }
   ],
   "source": [
    "samples(('H', 'G', 'I' ))"
   ]
  },
  {
   "cell_type": "code",
   "execution_count": null,
   "metadata": {
    "collapsed": true
   },
   "outputs": [],
   "source": []
  }
 ],
 "metadata": {
  "kernelspec": {
   "display_name": "Python 3",
   "language": "python",
   "name": "python3"
  },
  "language_info": {
   "codemirror_mode": {
    "name": "ipython",
    "version": 3
   },
   "file_extension": ".py",
   "mimetype": "text/x-python",
   "name": "python",
   "nbconvert_exporter": "python",
   "pygments_lexer": "ipython3",
   "version": "3.6.3"
  }
 },
 "nbformat": 4,
 "nbformat_minor": 2
}
