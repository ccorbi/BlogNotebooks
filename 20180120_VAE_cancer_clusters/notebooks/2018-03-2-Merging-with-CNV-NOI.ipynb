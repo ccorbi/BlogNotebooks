{
 "cells": [
  {
   "cell_type": "code",
   "execution_count": 1,
   "metadata": {},
   "outputs": [],
   "source": [
    "import pandas as pd"
   ]
  },
  {
   "cell_type": "code",
   "execution_count": 2,
   "metadata": {},
   "outputs": [],
   "source": [
    "meta_expt = pd.read_csv('METABRIC_Gene_Expression_data_NOI.txt', sep='\\t')\n"
   ]
  },
  {
   "cell_type": "code",
   "execution_count": 3,
   "metadata": {},
   "outputs": [
    {
     "data": {
      "text/html": [
       "<div>\n",
       "<style scoped>\n",
       "    .dataframe tbody tr th:only-of-type {\n",
       "        vertical-align: middle;\n",
       "    }\n",
       "\n",
       "    .dataframe tbody tr th {\n",
       "        vertical-align: top;\n",
       "    }\n",
       "\n",
       "    .dataframe thead th {\n",
       "        text-align: right;\n",
       "    }\n",
       "</style>\n",
       "<table border=\"1\" class=\"dataframe\">\n",
       "  <thead>\n",
       "    <tr style=\"text-align: right;\">\n",
       "      <th></th>\n",
       "      <th>Hugo_Symbol</th>\n",
       "      <th>MB-0362</th>\n",
       "      <th>MB-0346</th>\n",
       "      <th>MB-0386</th>\n",
       "      <th>MB-0574</th>\n",
       "      <th>MB-0503</th>\n",
       "      <th>MB-0641</th>\n",
       "      <th>MB-0201</th>\n",
       "      <th>MB-0218</th>\n",
       "      <th>MB-0316</th>\n",
       "      <th>...</th>\n",
       "      <th>MB-6122</th>\n",
       "      <th>MB-6192</th>\n",
       "      <th>MB-4820</th>\n",
       "      <th>MB-5527</th>\n",
       "      <th>MB-5167</th>\n",
       "      <th>MB-5465</th>\n",
       "      <th>MB-5453</th>\n",
       "      <th>MB-5471</th>\n",
       "      <th>MB-5127</th>\n",
       "      <th>MB-4313</th>\n",
       "    </tr>\n",
       "  </thead>\n",
       "  <tbody>\n",
       "    <tr>\n",
       "      <th>0</th>\n",
       "      <td>RERE</td>\n",
       "      <td>8.676978</td>\n",
       "      <td>9.653589</td>\n",
       "      <td>9.033589</td>\n",
       "      <td>8.814855</td>\n",
       "      <td>9.274265</td>\n",
       "      <td>9.286585</td>\n",
       "      <td>8.437347</td>\n",
       "      <td>8.569973</td>\n",
       "      <td>8.892102</td>\n",
       "      <td>...</td>\n",
       "      <td>8.756024</td>\n",
       "      <td>8.804947</td>\n",
       "      <td>9.991215</td>\n",
       "      <td>9.595923</td>\n",
       "      <td>9.637249</td>\n",
       "      <td>8.131637</td>\n",
       "      <td>9.606915</td>\n",
       "      <td>9.049296</td>\n",
       "      <td>8.858622</td>\n",
       "      <td>8.415867</td>\n",
       "    </tr>\n",
       "    <tr>\n",
       "      <th>1</th>\n",
       "      <td>RNF165</td>\n",
       "      <td>6.075331</td>\n",
       "      <td>6.687887</td>\n",
       "      <td>5.910885</td>\n",
       "      <td>5.628740</td>\n",
       "      <td>5.908698</td>\n",
       "      <td>6.206729</td>\n",
       "      <td>6.095592</td>\n",
       "      <td>6.383530</td>\n",
       "      <td>5.773691</td>\n",
       "      <td>...</td>\n",
       "      <td>7.101087</td>\n",
       "      <td>5.601472</td>\n",
       "      <td>7.103160</td>\n",
       "      <td>6.418987</td>\n",
       "      <td>6.203370</td>\n",
       "      <td>9.101942</td>\n",
       "      <td>7.427494</td>\n",
       "      <td>6.850000</td>\n",
       "      <td>6.550450</td>\n",
       "      <td>6.831722</td>\n",
       "    </tr>\n",
       "  </tbody>\n",
       "</table>\n",
       "<p>2 rows × 1905 columns</p>\n",
       "</div>"
      ],
      "text/plain": [
       "  Hugo_Symbol   MB-0362   MB-0346   MB-0386   MB-0574   MB-0503   MB-0641  \\\n",
       "0        RERE  8.676978  9.653589  9.033589  8.814855  9.274265  9.286585   \n",
       "1      RNF165  6.075331  6.687887  5.910885  5.628740  5.908698  6.206729   \n",
       "\n",
       "    MB-0201   MB-0218   MB-0316    ...      MB-6122   MB-6192   MB-4820  \\\n",
       "0  8.437347  8.569973  8.892102    ...     8.756024  8.804947  9.991215   \n",
       "1  6.095592  6.383530  5.773691    ...     7.101087  5.601472  7.103160   \n",
       "\n",
       "    MB-5527   MB-5167   MB-5465   MB-5453   MB-5471   MB-5127   MB-4313  \n",
       "0  9.595923  9.637249  8.131637  9.606915  9.049296  8.858622  8.415867  \n",
       "1  6.418987  6.203370  9.101942  7.427494  6.850000  6.550450  6.831722  \n",
       "\n",
       "[2 rows x 1905 columns]"
      ]
     },
     "execution_count": 3,
     "metadata": {},
     "output_type": "execute_result"
    }
   ],
   "source": [
    "meta_expt.head(2)"
   ]
  },
  {
   "cell_type": "code",
   "execution_count": 4,
   "metadata": {},
   "outputs": [],
   "source": [
    "#remove genes with missing data"
   ]
  },
  {
   "cell_type": "code",
   "execution_count": 5,
   "metadata": {},
   "outputs": [],
   "source": [
    "#meta_expt.to_csv('../data/METABRIC/METABRIC_Gene_Expression.txt',sep='\\t')"
   ]
  },
  {
   "cell_type": "code",
   "execution_count": 6,
   "metadata": {},
   "outputs": [],
   "source": [
    "# generate patients indexs"
   ]
  },
  {
   "cell_type": "code",
   "execution_count": 7,
   "metadata": {},
   "outputs": [
    {
     "data": {
      "text/plain": [
       "Index(['MB-0362', 'MB-0346', 'MB-0386', 'MB-0574', 'MB-0503', 'MB-0641',\n",
       "       'MB-0201', 'MB-0218', 'MB-0316', 'MB-0189',\n",
       "       ...\n",
       "       'MB-6122', 'MB-6192', 'MB-4820', 'MB-5527', 'MB-5167', 'MB-5465',\n",
       "       'MB-5453', 'MB-5471', 'MB-5127', 'MB-4313'],\n",
       "      dtype='object', length=1904)"
      ]
     },
     "execution_count": 7,
     "metadata": {},
     "output_type": "execute_result"
    }
   ],
   "source": [
    "meta_index_expres = meta_expt.columns\n",
    "meta_index_expres = meta_index_expres[1:]\n",
    "meta_index_expres"
   ]
  },
  {
   "cell_type": "code",
   "execution_count": 8,
   "metadata": {},
   "outputs": [],
   "source": [
    "# load Surv and trans"
   ]
  },
  {
   "cell_type": "code",
   "execution_count": 9,
   "metadata": {},
   "outputs": [
    {
     "data": {
      "text/plain": [
       "(2509, 20)"
      ]
     },
     "execution_count": 9,
     "metadata": {},
     "output_type": "execute_result"
    }
   ],
   "source": [
    "surv = pd.read_csv('../data/METABRIC/data_clinical_patient.txt', sep='\\t', skiprows=4)\n",
    "surv.shape"
   ]
  },
  {
   "cell_type": "code",
   "execution_count": 10,
   "metadata": {},
   "outputs": [
    {
     "data": {
      "text/html": [
       "<div>\n",
       "<style scoped>\n",
       "    .dataframe tbody tr th:only-of-type {\n",
       "        vertical-align: middle;\n",
       "    }\n",
       "\n",
       "    .dataframe tbody tr th {\n",
       "        vertical-align: top;\n",
       "    }\n",
       "\n",
       "    .dataframe thead th {\n",
       "        text-align: right;\n",
       "    }\n",
       "</style>\n",
       "<table border=\"1\" class=\"dataframe\">\n",
       "  <thead>\n",
       "    <tr style=\"text-align: right;\">\n",
       "      <th></th>\n",
       "      <th>PATIENT_ID</th>\n",
       "      <th>OS_MONTHS</th>\n",
       "      <th>OS_STATUS</th>\n",
       "      <th>VITAL_STATUS</th>\n",
       "      <th>INTCLUST</th>\n",
       "      <th>COHORT</th>\n",
       "      <th>AGE_AT_DIAGNOSIS</th>\n",
       "      <th>LATERALITY</th>\n",
       "      <th>NPI</th>\n",
       "      <th>ER_IHC</th>\n",
       "      <th>INFERRED_MENOPAUSAL_STATE</th>\n",
       "      <th>BREAST_SURGERY</th>\n",
       "      <th>CELLULARITY</th>\n",
       "      <th>HER2_SNP6</th>\n",
       "      <th>THREEGENE</th>\n",
       "      <th>CLAUDIN_SUBTYPE</th>\n",
       "      <th>CHEMOTHERAPY</th>\n",
       "      <th>HORMONE_THERAPY</th>\n",
       "      <th>RADIO_THERAPY</th>\n",
       "      <th>HISTOLOGICAL_SUBTYPE</th>\n",
       "    </tr>\n",
       "  </thead>\n",
       "  <tbody>\n",
       "    <tr>\n",
       "      <th>0</th>\n",
       "      <td>MB-0000</td>\n",
       "      <td>140.500000</td>\n",
       "      <td>LIVING</td>\n",
       "      <td>Living</td>\n",
       "      <td>4ER+</td>\n",
       "      <td>1.0</td>\n",
       "      <td>75.65</td>\n",
       "      <td>r</td>\n",
       "      <td>6.044</td>\n",
       "      <td>pos</td>\n",
       "      <td>post</td>\n",
       "      <td>MASTECTOMY</td>\n",
       "      <td>NaN</td>\n",
       "      <td>NEUT</td>\n",
       "      <td>ER-/HER2-</td>\n",
       "      <td>claudin-low</td>\n",
       "      <td>NO</td>\n",
       "      <td>YES</td>\n",
       "      <td>YES</td>\n",
       "      <td>IDC</td>\n",
       "    </tr>\n",
       "    <tr>\n",
       "      <th>1</th>\n",
       "      <td>MB-0002</td>\n",
       "      <td>84.633333</td>\n",
       "      <td>LIVING</td>\n",
       "      <td>Living</td>\n",
       "      <td>4ER+</td>\n",
       "      <td>1.0</td>\n",
       "      <td>43.19</td>\n",
       "      <td>r</td>\n",
       "      <td>4.020</td>\n",
       "      <td>pos</td>\n",
       "      <td>pre</td>\n",
       "      <td>BREAST CONSERVING</td>\n",
       "      <td>high</td>\n",
       "      <td>NEUT</td>\n",
       "      <td>ER+/HER2- High Prolif</td>\n",
       "      <td>LumA</td>\n",
       "      <td>NO</td>\n",
       "      <td>YES</td>\n",
       "      <td>YES</td>\n",
       "      <td>IDC</td>\n",
       "    </tr>\n",
       "    <tr>\n",
       "      <th>2</th>\n",
       "      <td>MB-0005</td>\n",
       "      <td>163.100000</td>\n",
       "      <td>DECEASED</td>\n",
       "      <td>Died of Disease</td>\n",
       "      <td>3</td>\n",
       "      <td>1.0</td>\n",
       "      <td>48.87</td>\n",
       "      <td>r</td>\n",
       "      <td>4.030</td>\n",
       "      <td>pos</td>\n",
       "      <td>pre</td>\n",
       "      <td>MASTECTOMY</td>\n",
       "      <td>high</td>\n",
       "      <td>NEUT</td>\n",
       "      <td>NaN</td>\n",
       "      <td>LumB</td>\n",
       "      <td>YES</td>\n",
       "      <td>YES</td>\n",
       "      <td>NO</td>\n",
       "      <td>IDC</td>\n",
       "    </tr>\n",
       "  </tbody>\n",
       "</table>\n",
       "</div>"
      ],
      "text/plain": [
       "  PATIENT_ID   OS_MONTHS OS_STATUS     VITAL_STATUS INTCLUST  COHORT  \\\n",
       "0    MB-0000  140.500000    LIVING           Living     4ER+     1.0   \n",
       "1    MB-0002   84.633333    LIVING           Living     4ER+     1.0   \n",
       "2    MB-0005  163.100000  DECEASED  Died of Disease        3     1.0   \n",
       "\n",
       "   AGE_AT_DIAGNOSIS LATERALITY    NPI ER_IHC INFERRED_MENOPAUSAL_STATE  \\\n",
       "0             75.65          r  6.044    pos                      post   \n",
       "1             43.19          r  4.020    pos                       pre   \n",
       "2             48.87          r  4.030    pos                       pre   \n",
       "\n",
       "      BREAST_SURGERY CELLULARITY HER2_SNP6              THREEGENE  \\\n",
       "0         MASTECTOMY         NaN      NEUT              ER-/HER2-   \n",
       "1  BREAST CONSERVING        high      NEUT  ER+/HER2- High Prolif   \n",
       "2         MASTECTOMY        high      NEUT                    NaN   \n",
       "\n",
       "  CLAUDIN_SUBTYPE CHEMOTHERAPY HORMONE_THERAPY RADIO_THERAPY  \\\n",
       "0     claudin-low           NO             YES           YES   \n",
       "1            LumA           NO             YES           YES   \n",
       "2            LumB          YES             YES            NO   \n",
       "\n",
       "  HISTOLOGICAL_SUBTYPE  \n",
       "0                  IDC  \n",
       "1                  IDC  \n",
       "2                  IDC  "
      ]
     },
     "execution_count": 10,
     "metadata": {},
     "output_type": "execute_result"
    }
   ],
   "source": [
    "surv.head(3)"
   ]
  },
  {
   "cell_type": "code",
   "execution_count": 11,
   "metadata": {},
   "outputs": [],
   "source": [
    "surv.set_index('PATIENT_ID', inplace=True)"
   ]
  },
  {
   "cell_type": "code",
   "execution_count": 12,
   "metadata": {},
   "outputs": [
    {
     "data": {
      "text/html": [
       "<div>\n",
       "<style scoped>\n",
       "    .dataframe tbody tr th:only-of-type {\n",
       "        vertical-align: middle;\n",
       "    }\n",
       "\n",
       "    .dataframe tbody tr th {\n",
       "        vertical-align: top;\n",
       "    }\n",
       "\n",
       "    .dataframe thead th {\n",
       "        text-align: right;\n",
       "    }\n",
       "</style>\n",
       "<table border=\"1\" class=\"dataframe\">\n",
       "  <thead>\n",
       "    <tr style=\"text-align: right;\">\n",
       "      <th></th>\n",
       "      <th>OS_MONTHS</th>\n",
       "      <th>OS_STATUS</th>\n",
       "      <th>VITAL_STATUS</th>\n",
       "      <th>INTCLUST</th>\n",
       "      <th>COHORT</th>\n",
       "      <th>AGE_AT_DIAGNOSIS</th>\n",
       "      <th>LATERALITY</th>\n",
       "      <th>NPI</th>\n",
       "      <th>ER_IHC</th>\n",
       "      <th>INFERRED_MENOPAUSAL_STATE</th>\n",
       "      <th>BREAST_SURGERY</th>\n",
       "      <th>CELLULARITY</th>\n",
       "      <th>HER2_SNP6</th>\n",
       "      <th>THREEGENE</th>\n",
       "      <th>CLAUDIN_SUBTYPE</th>\n",
       "      <th>CHEMOTHERAPY</th>\n",
       "      <th>HORMONE_THERAPY</th>\n",
       "      <th>RADIO_THERAPY</th>\n",
       "      <th>HISTOLOGICAL_SUBTYPE</th>\n",
       "    </tr>\n",
       "    <tr>\n",
       "      <th>PATIENT_ID</th>\n",
       "      <th></th>\n",
       "      <th></th>\n",
       "      <th></th>\n",
       "      <th></th>\n",
       "      <th></th>\n",
       "      <th></th>\n",
       "      <th></th>\n",
       "      <th></th>\n",
       "      <th></th>\n",
       "      <th></th>\n",
       "      <th></th>\n",
       "      <th></th>\n",
       "      <th></th>\n",
       "      <th></th>\n",
       "      <th></th>\n",
       "      <th></th>\n",
       "      <th></th>\n",
       "      <th></th>\n",
       "      <th></th>\n",
       "    </tr>\n",
       "  </thead>\n",
       "  <tbody>\n",
       "    <tr>\n",
       "      <th>MB-0000</th>\n",
       "      <td>140.500000</td>\n",
       "      <td>LIVING</td>\n",
       "      <td>Living</td>\n",
       "      <td>4ER+</td>\n",
       "      <td>1.0</td>\n",
       "      <td>75.65</td>\n",
       "      <td>r</td>\n",
       "      <td>6.044</td>\n",
       "      <td>pos</td>\n",
       "      <td>post</td>\n",
       "      <td>MASTECTOMY</td>\n",
       "      <td>NaN</td>\n",
       "      <td>NEUT</td>\n",
       "      <td>ER-/HER2-</td>\n",
       "      <td>claudin-low</td>\n",
       "      <td>NO</td>\n",
       "      <td>YES</td>\n",
       "      <td>YES</td>\n",
       "      <td>IDC</td>\n",
       "    </tr>\n",
       "    <tr>\n",
       "      <th>MB-0002</th>\n",
       "      <td>84.633333</td>\n",
       "      <td>LIVING</td>\n",
       "      <td>Living</td>\n",
       "      <td>4ER+</td>\n",
       "      <td>1.0</td>\n",
       "      <td>43.19</td>\n",
       "      <td>r</td>\n",
       "      <td>4.020</td>\n",
       "      <td>pos</td>\n",
       "      <td>pre</td>\n",
       "      <td>BREAST CONSERVING</td>\n",
       "      <td>high</td>\n",
       "      <td>NEUT</td>\n",
       "      <td>ER+/HER2- High Prolif</td>\n",
       "      <td>LumA</td>\n",
       "      <td>NO</td>\n",
       "      <td>YES</td>\n",
       "      <td>YES</td>\n",
       "      <td>IDC</td>\n",
       "    </tr>\n",
       "    <tr>\n",
       "      <th>MB-0005</th>\n",
       "      <td>163.100000</td>\n",
       "      <td>DECEASED</td>\n",
       "      <td>Died of Disease</td>\n",
       "      <td>3</td>\n",
       "      <td>1.0</td>\n",
       "      <td>48.87</td>\n",
       "      <td>r</td>\n",
       "      <td>4.030</td>\n",
       "      <td>pos</td>\n",
       "      <td>pre</td>\n",
       "      <td>MASTECTOMY</td>\n",
       "      <td>high</td>\n",
       "      <td>NEUT</td>\n",
       "      <td>NaN</td>\n",
       "      <td>LumB</td>\n",
       "      <td>YES</td>\n",
       "      <td>YES</td>\n",
       "      <td>NO</td>\n",
       "      <td>IDC</td>\n",
       "    </tr>\n",
       "    <tr>\n",
       "      <th>MB-0006</th>\n",
       "      <td>164.933333</td>\n",
       "      <td>LIVING</td>\n",
       "      <td>Living</td>\n",
       "      <td>9</td>\n",
       "      <td>1.0</td>\n",
       "      <td>47.68</td>\n",
       "      <td>r</td>\n",
       "      <td>4.050</td>\n",
       "      <td>pos</td>\n",
       "      <td>pre</td>\n",
       "      <td>MASTECTOMY</td>\n",
       "      <td>moderate</td>\n",
       "      <td>NEUT</td>\n",
       "      <td>NaN</td>\n",
       "      <td>LumB</td>\n",
       "      <td>YES</td>\n",
       "      <td>YES</td>\n",
       "      <td>YES</td>\n",
       "      <td>IDC</td>\n",
       "    </tr>\n",
       "    <tr>\n",
       "      <th>MB-0008</th>\n",
       "      <td>41.366667</td>\n",
       "      <td>DECEASED</td>\n",
       "      <td>Died of Disease</td>\n",
       "      <td>9</td>\n",
       "      <td>1.0</td>\n",
       "      <td>76.97</td>\n",
       "      <td>r</td>\n",
       "      <td>6.080</td>\n",
       "      <td>pos</td>\n",
       "      <td>post</td>\n",
       "      <td>MASTECTOMY</td>\n",
       "      <td>high</td>\n",
       "      <td>NEUT</td>\n",
       "      <td>ER+/HER2- High Prolif</td>\n",
       "      <td>LumB</td>\n",
       "      <td>YES</td>\n",
       "      <td>YES</td>\n",
       "      <td>YES</td>\n",
       "      <td>IDC</td>\n",
       "    </tr>\n",
       "  </tbody>\n",
       "</table>\n",
       "</div>"
      ],
      "text/plain": [
       "             OS_MONTHS OS_STATUS     VITAL_STATUS INTCLUST  COHORT  \\\n",
       "PATIENT_ID                                                           \n",
       "MB-0000     140.500000    LIVING           Living     4ER+     1.0   \n",
       "MB-0002      84.633333    LIVING           Living     4ER+     1.0   \n",
       "MB-0005     163.100000  DECEASED  Died of Disease        3     1.0   \n",
       "MB-0006     164.933333    LIVING           Living        9     1.0   \n",
       "MB-0008      41.366667  DECEASED  Died of Disease        9     1.0   \n",
       "\n",
       "            AGE_AT_DIAGNOSIS LATERALITY    NPI ER_IHC  \\\n",
       "PATIENT_ID                                              \n",
       "MB-0000                75.65          r  6.044    pos   \n",
       "MB-0002                43.19          r  4.020    pos   \n",
       "MB-0005                48.87          r  4.030    pos   \n",
       "MB-0006                47.68          r  4.050    pos   \n",
       "MB-0008                76.97          r  6.080    pos   \n",
       "\n",
       "           INFERRED_MENOPAUSAL_STATE     BREAST_SURGERY CELLULARITY HER2_SNP6  \\\n",
       "PATIENT_ID                                                                      \n",
       "MB-0000                         post         MASTECTOMY         NaN      NEUT   \n",
       "MB-0002                          pre  BREAST CONSERVING        high      NEUT   \n",
       "MB-0005                          pre         MASTECTOMY        high      NEUT   \n",
       "MB-0006                          pre         MASTECTOMY    moderate      NEUT   \n",
       "MB-0008                         post         MASTECTOMY        high      NEUT   \n",
       "\n",
       "                        THREEGENE CLAUDIN_SUBTYPE CHEMOTHERAPY  \\\n",
       "PATIENT_ID                                                       \n",
       "MB-0000                 ER-/HER2-     claudin-low           NO   \n",
       "MB-0002     ER+/HER2- High Prolif            LumA           NO   \n",
       "MB-0005                       NaN            LumB          YES   \n",
       "MB-0006                       NaN            LumB          YES   \n",
       "MB-0008     ER+/HER2- High Prolif            LumB          YES   \n",
       "\n",
       "           HORMONE_THERAPY RADIO_THERAPY HISTOLOGICAL_SUBTYPE  \n",
       "PATIENT_ID                                                     \n",
       "MB-0000                YES           YES                  IDC  \n",
       "MB-0002                YES           YES                  IDC  \n",
       "MB-0005                YES            NO                  IDC  \n",
       "MB-0006                YES           YES                  IDC  \n",
       "MB-0008                YES           YES                  IDC  "
      ]
     },
     "execution_count": 12,
     "metadata": {},
     "output_type": "execute_result"
    }
   ],
   "source": [
    "surv.head()"
   ]
  },
  {
   "cell_type": "code",
   "execution_count": 13,
   "metadata": {},
   "outputs": [
    {
     "data": {
      "text/plain": [
       "(1980, 19)"
      ]
     },
     "execution_count": 13,
     "metadata": {},
     "output_type": "execute_result"
    }
   ],
   "source": [
    "surv = surv.dropna(subset=['OS_STATUS'])\n",
    "surv.shape"
   ]
  },
  {
   "cell_type": "code",
   "execution_count": 14,
   "metadata": {},
   "outputs": [],
   "source": [
    "surv['death'] = surv['OS_STATUS']\n",
    "surv['death'].replace('DECEASED',1, inplace=True)\n",
    "surv['death'].replace('LIVING',0, inplace=True)\n",
    "surv['Survival'] = surv['OS_MONTHS'] * 30\n",
    "surv['death'] = surv['death'].astype(int)"
   ]
  },
  {
   "cell_type": "code",
   "execution_count": 15,
   "metadata": {},
   "outputs": [],
   "source": [
    "# load CNV"
   ]
  },
  {
   "cell_type": "code",
   "execution_count": 16,
   "metadata": {},
   "outputs": [
    {
     "data": {
      "text/plain": [
       "(22544, 2174)"
      ]
     },
     "execution_count": 16,
     "metadata": {},
     "output_type": "execute_result"
    }
   ],
   "source": [
    "# icnv.to_csv('METABRIC_CNV_implaced_transformed.txt',index=False,sep='\\t')\n",
    "cnv = pd.read_csv('METABRIC_CNV_NOI_transformed.txt',sep='\\t')\n",
    "cnv.shape"
   ]
  },
  {
   "cell_type": "code",
   "execution_count": 17,
   "metadata": {},
   "outputs": [
    {
     "data": {
      "text/html": [
       "<div>\n",
       "<style scoped>\n",
       "    .dataframe tbody tr th:only-of-type {\n",
       "        vertical-align: middle;\n",
       "    }\n",
       "\n",
       "    .dataframe tbody tr th {\n",
       "        vertical-align: top;\n",
       "    }\n",
       "\n",
       "    .dataframe thead th {\n",
       "        text-align: right;\n",
       "    }\n",
       "</style>\n",
       "<table border=\"1\" class=\"dataframe\">\n",
       "  <thead>\n",
       "    <tr style=\"text-align: right;\">\n",
       "      <th></th>\n",
       "      <th>Hugo_Symbol</th>\n",
       "      <th>MB-0000</th>\n",
       "      <th>MB-0039</th>\n",
       "      <th>MB-0045</th>\n",
       "      <th>MB-0046</th>\n",
       "      <th>MB-0048</th>\n",
       "      <th>MB-0050</th>\n",
       "      <th>MB-0053</th>\n",
       "      <th>MB-0062</th>\n",
       "      <th>MB-0064</th>\n",
       "      <th>...</th>\n",
       "      <th>MB-5467</th>\n",
       "      <th>MB-5546</th>\n",
       "      <th>MB-5585</th>\n",
       "      <th>MB-5625</th>\n",
       "      <th>MB-5648</th>\n",
       "      <th>MB-6020</th>\n",
       "      <th>MB-6213</th>\n",
       "      <th>MB-6230</th>\n",
       "      <th>MB-7148</th>\n",
       "      <th>MB-7188</th>\n",
       "    </tr>\n",
       "  </thead>\n",
       "  <tbody>\n",
       "    <tr>\n",
       "      <th>0</th>\n",
       "      <td>A1BG</td>\n",
       "      <td>0.5</td>\n",
       "      <td>0.5</td>\n",
       "      <td>0.25</td>\n",
       "      <td>0.5</td>\n",
       "      <td>0.5</td>\n",
       "      <td>0.5</td>\n",
       "      <td>0.5</td>\n",
       "      <td>0.25</td>\n",
       "      <td>0.5</td>\n",
       "      <td>...</td>\n",
       "      <td>0.5</td>\n",
       "      <td>0.5</td>\n",
       "      <td>0.5</td>\n",
       "      <td>0.5</td>\n",
       "      <td>0.5</td>\n",
       "      <td>0.75</td>\n",
       "      <td>0.5</td>\n",
       "      <td>0.5</td>\n",
       "      <td>0.5</td>\n",
       "      <td>0.5</td>\n",
       "    </tr>\n",
       "    <tr>\n",
       "      <th>1</th>\n",
       "      <td>A1BG-AS1</td>\n",
       "      <td>0.5</td>\n",
       "      <td>0.5</td>\n",
       "      <td>0.25</td>\n",
       "      <td>0.5</td>\n",
       "      <td>0.5</td>\n",
       "      <td>0.5</td>\n",
       "      <td>0.5</td>\n",
       "      <td>0.25</td>\n",
       "      <td>0.5</td>\n",
       "      <td>...</td>\n",
       "      <td>0.5</td>\n",
       "      <td>0.5</td>\n",
       "      <td>0.5</td>\n",
       "      <td>0.5</td>\n",
       "      <td>0.5</td>\n",
       "      <td>0.75</td>\n",
       "      <td>0.5</td>\n",
       "      <td>0.5</td>\n",
       "      <td>0.5</td>\n",
       "      <td>0.5</td>\n",
       "    </tr>\n",
       "  </tbody>\n",
       "</table>\n",
       "<p>2 rows × 2174 columns</p>\n",
       "</div>"
      ],
      "text/plain": [
       "  Hugo_Symbol  MB-0000  MB-0039  MB-0045  MB-0046  MB-0048  MB-0050  MB-0053  \\\n",
       "0        A1BG      0.5      0.5     0.25      0.5      0.5      0.5      0.5   \n",
       "1    A1BG-AS1      0.5      0.5     0.25      0.5      0.5      0.5      0.5   \n",
       "\n",
       "   MB-0062  MB-0064   ...     MB-5467  MB-5546  MB-5585  MB-5625  MB-5648  \\\n",
       "0     0.25      0.5   ...         0.5      0.5      0.5      0.5      0.5   \n",
       "1     0.25      0.5   ...         0.5      0.5      0.5      0.5      0.5   \n",
       "\n",
       "   MB-6020  MB-6213  MB-6230  MB-7148  MB-7188  \n",
       "0     0.75      0.5      0.5      0.5      0.5  \n",
       "1     0.75      0.5      0.5      0.5      0.5  \n",
       "\n",
       "[2 rows x 2174 columns]"
      ]
     },
     "execution_count": 17,
     "metadata": {},
     "output_type": "execute_result"
    }
   ],
   "source": [
    "cnv.head(2)"
   ]
  },
  {
   "cell_type": "code",
   "execution_count": 18,
   "metadata": {},
   "outputs": [
    {
     "data": {
      "text/plain": [
       "Index(['MB-0000', 'MB-0039', 'MB-0045', 'MB-0046', 'MB-0048', 'MB-0050',\n",
       "       'MB-0053', 'MB-0062', 'MB-0064', 'MB-0066',\n",
       "       ...\n",
       "       'MB-5467', 'MB-5546', 'MB-5585', 'MB-5625', 'MB-5648', 'MB-6020',\n",
       "       'MB-6213', 'MB-6230', 'MB-7148', 'MB-7188'],\n",
       "      dtype='object', length=2173)"
      ]
     },
     "execution_count": 18,
     "metadata": {},
     "output_type": "execute_result"
    }
   ],
   "source": [
    "meta_index_cnv = cnv.columns\n",
    "meta_index_cnv = meta_index_cnv[1:]\n",
    "meta_index_cnv"
   ]
  },
  {
   "cell_type": "code",
   "execution_count": 19,
   "metadata": {},
   "outputs": [],
   "source": [
    "def intersect(*d):\n",
    "    sets = iter(map(set, d))\n",
    "    result = sets.next()\n",
    "    for s in sets:\n",
    "        result = result.intersection(s)\n",
    "    return result"
   ]
  },
  {
   "cell_type": "code",
   "execution_count": 20,
   "metadata": {},
   "outputs": [],
   "source": [
    "d = [meta_index_cnv, meta_index_expres, surv.index]"
   ]
  },
  {
   "cell_type": "code",
   "execution_count": 21,
   "metadata": {},
   "outputs": [
    {
     "data": {
      "text/plain": [
       "1904"
      ]
     },
     "execution_count": 21,
     "metadata": {},
     "output_type": "execute_result"
    }
   ],
   "source": [
    "inte = set(d[0]).intersection(*d)\n",
    "len(inte)"
   ]
  },
  {
   "cell_type": "code",
   "execution_count": 22,
   "metadata": {},
   "outputs": [],
   "source": [
    "import numpy as np"
   ]
  },
  {
   "cell_type": "code",
   "execution_count": 23,
   "metadata": {},
   "outputs": [],
   "source": [
    "inte = list(inte)"
   ]
  },
  {
   "cell_type": "code",
   "execution_count": 24,
   "metadata": {},
   "outputs": [],
   "source": [
    "# reorginza all data sam eindex\n",
    "\n",
    "tops = ['Hugo_Symbol']\n",
    "tops.extend( inte)\n",
    "meta_expre_reorga0 = meta_expt[tops]\n",
    "\n",
    "\n"
   ]
  },
  {
   "cell_type": "code",
   "execution_count": 25,
   "metadata": {},
   "outputs": [
    {
     "name": "stderr",
     "output_type": "stream",
     "text": [
      "/home/ccorbi/anaconda3/lib/python3.5/site-packages/ipykernel/__main__.py:1: DeprecationWarning: \n",
      ".ix is deprecated. Please use\n",
      ".loc for label based indexing or\n",
      ".iloc for positional indexing\n",
      "\n",
      "See the documentation here:\n",
      "http://pandas.pydata.org/pandas-docs/stable/indexing.html#ix-indexer-is-deprecated\n",
      "  if __name__ == '__main__':\n"
     ]
    }
   ],
   "source": [
    "surv_reorganized0 = surv.ix[inte]\n"
   ]
  },
  {
   "cell_type": "code",
   "execution_count": 26,
   "metadata": {},
   "outputs": [],
   "source": [
    "\n",
    "tops = ['Hugo_Symbol']\n",
    "tops.extend( inte)\n",
    "meta_cnv_reorga0 = cnv[tops]\n"
   ]
  },
  {
   "cell_type": "code",
   "execution_count": 27,
   "metadata": {},
   "outputs": [
    {
     "data": {
      "text/html": [
       "<div>\n",
       "<style scoped>\n",
       "    .dataframe tbody tr th:only-of-type {\n",
       "        vertical-align: middle;\n",
       "    }\n",
       "\n",
       "    .dataframe tbody tr th {\n",
       "        vertical-align: top;\n",
       "    }\n",
       "\n",
       "    .dataframe thead th {\n",
       "        text-align: right;\n",
       "    }\n",
       "</style>\n",
       "<table border=\"1\" class=\"dataframe\">\n",
       "  <thead>\n",
       "    <tr style=\"text-align: right;\">\n",
       "      <th></th>\n",
       "      <th>Hugo_Symbol</th>\n",
       "      <th>MB-0874</th>\n",
       "      <th>MB-5427</th>\n",
       "      <th>MB-0654</th>\n",
       "      <th>MB-5647</th>\n",
       "      <th>MB-4607</th>\n",
       "      <th>MB-0589</th>\n",
       "      <th>MB-0243</th>\n",
       "      <th>MB-0637</th>\n",
       "      <th>MB-4091</th>\n",
       "      <th>...</th>\n",
       "      <th>MB-0349</th>\n",
       "      <th>MB-5558</th>\n",
       "      <th>MB-0519</th>\n",
       "      <th>MB-5093</th>\n",
       "      <th>MB-5418</th>\n",
       "      <th>MB-0590</th>\n",
       "      <th>MB-4622</th>\n",
       "      <th>MB-0575</th>\n",
       "      <th>MB-0354</th>\n",
       "      <th>MB-5366</th>\n",
       "    </tr>\n",
       "  </thead>\n",
       "  <tbody>\n",
       "    <tr>\n",
       "      <th>0</th>\n",
       "      <td>A1BG</td>\n",
       "      <td>0.25</td>\n",
       "      <td>0.50</td>\n",
       "      <td>0.5</td>\n",
       "      <td>0.5</td>\n",
       "      <td>0.5</td>\n",
       "      <td>0.5</td>\n",
       "      <td>0.5</td>\n",
       "      <td>1.00</td>\n",
       "      <td>0.5</td>\n",
       "      <td>...</td>\n",
       "      <td>0.5</td>\n",
       "      <td>0.50</td>\n",
       "      <td>0.5</td>\n",
       "      <td>0.5</td>\n",
       "      <td>0.5</td>\n",
       "      <td>0.5</td>\n",
       "      <td>0.25</td>\n",
       "      <td>0.5</td>\n",
       "      <td>0.25</td>\n",
       "      <td>0.50</td>\n",
       "    </tr>\n",
       "    <tr>\n",
       "      <th>1</th>\n",
       "      <td>A1BG-AS1</td>\n",
       "      <td>0.25</td>\n",
       "      <td>0.50</td>\n",
       "      <td>0.5</td>\n",
       "      <td>0.5</td>\n",
       "      <td>0.5</td>\n",
       "      <td>0.5</td>\n",
       "      <td>0.5</td>\n",
       "      <td>1.00</td>\n",
       "      <td>0.5</td>\n",
       "      <td>...</td>\n",
       "      <td>0.5</td>\n",
       "      <td>0.50</td>\n",
       "      <td>0.5</td>\n",
       "      <td>0.5</td>\n",
       "      <td>0.5</td>\n",
       "      <td>0.5</td>\n",
       "      <td>0.25</td>\n",
       "      <td>0.5</td>\n",
       "      <td>0.25</td>\n",
       "      <td>0.50</td>\n",
       "    </tr>\n",
       "    <tr>\n",
       "      <th>2</th>\n",
       "      <td>A1CF</td>\n",
       "      <td>0.50</td>\n",
       "      <td>0.25</td>\n",
       "      <td>0.5</td>\n",
       "      <td>0.5</td>\n",
       "      <td>0.5</td>\n",
       "      <td>0.5</td>\n",
       "      <td>0.5</td>\n",
       "      <td>0.25</td>\n",
       "      <td>0.5</td>\n",
       "      <td>...</td>\n",
       "      <td>0.5</td>\n",
       "      <td>0.25</td>\n",
       "      <td>0.5</td>\n",
       "      <td>0.5</td>\n",
       "      <td>0.5</td>\n",
       "      <td>0.5</td>\n",
       "      <td>1.00</td>\n",
       "      <td>0.5</td>\n",
       "      <td>0.25</td>\n",
       "      <td>0.75</td>\n",
       "    </tr>\n",
       "  </tbody>\n",
       "</table>\n",
       "<p>3 rows × 1905 columns</p>\n",
       "</div>"
      ],
      "text/plain": [
       "  Hugo_Symbol  MB-0874  MB-5427  MB-0654  MB-5647  MB-4607  MB-0589  MB-0243  \\\n",
       "0        A1BG     0.25     0.50      0.5      0.5      0.5      0.5      0.5   \n",
       "1    A1BG-AS1     0.25     0.50      0.5      0.5      0.5      0.5      0.5   \n",
       "2        A1CF     0.50     0.25      0.5      0.5      0.5      0.5      0.5   \n",
       "\n",
       "   MB-0637  MB-4091   ...     MB-0349  MB-5558  MB-0519  MB-5093  MB-5418  \\\n",
       "0     1.00      0.5   ...         0.5     0.50      0.5      0.5      0.5   \n",
       "1     1.00      0.5   ...         0.5     0.50      0.5      0.5      0.5   \n",
       "2     0.25      0.5   ...         0.5     0.25      0.5      0.5      0.5   \n",
       "\n",
       "   MB-0590  MB-4622  MB-0575  MB-0354  MB-5366  \n",
       "0      0.5     0.25      0.5     0.25     0.50  \n",
       "1      0.5     0.25      0.5     0.25     0.50  \n",
       "2      0.5     1.00      0.5     0.25     0.75  \n",
       "\n",
       "[3 rows x 1905 columns]"
      ]
     },
     "execution_count": 27,
     "metadata": {},
     "output_type": "execute_result"
    }
   ],
   "source": [
    "meta_cnv_reorga0.head(3)"
   ]
  },
  {
   "cell_type": "code",
   "execution_count": 28,
   "metadata": {},
   "outputs": [],
   "source": [
    "!mkdir DataF_METABRIC_CNV_NOI"
   ]
  },
  {
   "cell_type": "code",
   "execution_count": 29,
   "metadata": {},
   "outputs": [],
   "source": [
    "folder = 'DataF_METABRIC_CNV_NOI'\n",
    "meta_cnv_reorga0.to_csv('{}/METABRIC_CNV_data.txt'.format(folder),index=False,sep='\\t')\n",
    "#meta_cnv_reorga1.to_csv('{}/METABRIC1_CNV_data.txt'.format(folder),index=False,sep='\\t')\n",
    "\n",
    "meta_expre_reorga0.to_csv('{}/METABRIC_Gene_Expression.txt'.format(folder),index=False,sep='\\t')\n",
    "#meta_expre_reorga1.to_csv('{}/METABRIC1_Gene_Expression.txt'.format(folder),index=False,sep='\\t')"
   ]
  },
  {
   "cell_type": "code",
   "execution_count": 30,
   "metadata": {},
   "outputs": [
    {
     "data": {
      "text/plain": [
       "(1904, 2)"
      ]
     },
     "execution_count": 30,
     "metadata": {},
     "output_type": "execute_result"
    }
   ],
   "source": [
    "surv_reorganized_simple0 = surv_reorganized0[['Survival','death' ]]\n",
    "surv_reorganized_simple0.shape"
   ]
  },
  {
   "cell_type": "code",
   "execution_count": 31,
   "metadata": {},
   "outputs": [],
   "source": [
    "surv_reorganized_simple0.to_csv('{}/METABRIC_Survival.txt'.format(folder),sep='\\t')\n"
   ]
  },
  {
   "cell_type": "code",
   "execution_count": 32,
   "metadata": {},
   "outputs": [
    {
     "ename": "OSError",
     "evalue": "[Errno 12] Cannot allocate memory",
     "output_type": "error",
     "traceback": [
      "\u001b[0;31m---------------------------------------------------------------------------\u001b[0m",
      "\u001b[0;31mOSError\u001b[0m                                   Traceback (most recent call last)",
      "\u001b[0;32m<ipython-input-32-8d5fad910f3e>\u001b[0m in \u001b[0;36m<module>\u001b[0;34m()\u001b[0m\n\u001b[0;32m----> 1\u001b[0;31m \u001b[0mget_ipython\u001b[0m\u001b[0;34m(\u001b[0m\u001b[0;34m)\u001b[0m\u001b[0;34m.\u001b[0m\u001b[0msystem\u001b[0m\u001b[0;34m(\u001b[0m\u001b[0;34m'pwd'\u001b[0m\u001b[0;34m)\u001b[0m\u001b[0;34m\u001b[0m\u001b[0m\n\u001b[0m",
      "\u001b[0;32m~/anaconda3/lib/python3.5/site-packages/IPython/core/interactiveshell.py\u001b[0m in \u001b[0;36msystem_piped\u001b[0;34m(self, cmd)\u001b[0m\n\u001b[1;32m   2223\u001b[0m         \u001b[0;31m# a non-None value would trigger :func:`sys.displayhook` calls.\u001b[0m\u001b[0;34m\u001b[0m\u001b[0;34m\u001b[0m\u001b[0m\n\u001b[1;32m   2224\u001b[0m         \u001b[0;31m# Instead, we store the exit_code in user_ns.\u001b[0m\u001b[0;34m\u001b[0m\u001b[0;34m\u001b[0m\u001b[0m\n\u001b[0;32m-> 2225\u001b[0;31m         \u001b[0mself\u001b[0m\u001b[0;34m.\u001b[0m\u001b[0muser_ns\u001b[0m\u001b[0;34m[\u001b[0m\u001b[0;34m'_exit_code'\u001b[0m\u001b[0;34m]\u001b[0m \u001b[0;34m=\u001b[0m \u001b[0msystem\u001b[0m\u001b[0;34m(\u001b[0m\u001b[0mself\u001b[0m\u001b[0;34m.\u001b[0m\u001b[0mvar_expand\u001b[0m\u001b[0;34m(\u001b[0m\u001b[0mcmd\u001b[0m\u001b[0;34m,\u001b[0m \u001b[0mdepth\u001b[0m\u001b[0;34m=\u001b[0m\u001b[0;36m1\u001b[0m\u001b[0;34m)\u001b[0m\u001b[0;34m)\u001b[0m\u001b[0;34m\u001b[0m\u001b[0m\n\u001b[0m\u001b[1;32m   2226\u001b[0m \u001b[0;34m\u001b[0m\u001b[0m\n\u001b[1;32m   2227\u001b[0m     \u001b[0;32mdef\u001b[0m \u001b[0msystem_raw\u001b[0m\u001b[0;34m(\u001b[0m\u001b[0mself\u001b[0m\u001b[0;34m,\u001b[0m \u001b[0mcmd\u001b[0m\u001b[0;34m)\u001b[0m\u001b[0;34m:\u001b[0m\u001b[0;34m\u001b[0m\u001b[0m\n",
      "\u001b[0;32m~/anaconda3/lib/python3.5/site-packages/IPython/utils/_process_posix.py\u001b[0m in \u001b[0;36msystem\u001b[0;34m(self, cmd)\u001b[0m\n\u001b[1;32m    154\u001b[0m                 \u001b[0mchild\u001b[0m \u001b[0;34m=\u001b[0m \u001b[0mpexpect\u001b[0m\u001b[0;34m.\u001b[0m\u001b[0mspawnb\u001b[0m\u001b[0;34m(\u001b[0m\u001b[0mself\u001b[0m\u001b[0;34m.\u001b[0m\u001b[0msh\u001b[0m\u001b[0;34m,\u001b[0m \u001b[0margs\u001b[0m\u001b[0;34m=\u001b[0m\u001b[0;34m[\u001b[0m\u001b[0;34m'-c'\u001b[0m\u001b[0;34m,\u001b[0m \u001b[0mcmd\u001b[0m\u001b[0;34m]\u001b[0m\u001b[0;34m)\u001b[0m \u001b[0;31m# Pexpect-U\u001b[0m\u001b[0;34m\u001b[0m\u001b[0m\n\u001b[1;32m    155\u001b[0m             \u001b[0;32melse\u001b[0m\u001b[0;34m:\u001b[0m\u001b[0;34m\u001b[0m\u001b[0m\n\u001b[0;32m--> 156\u001b[0;31m                 \u001b[0mchild\u001b[0m \u001b[0;34m=\u001b[0m \u001b[0mpexpect\u001b[0m\u001b[0;34m.\u001b[0m\u001b[0mspawn\u001b[0m\u001b[0;34m(\u001b[0m\u001b[0mself\u001b[0m\u001b[0;34m.\u001b[0m\u001b[0msh\u001b[0m\u001b[0;34m,\u001b[0m \u001b[0margs\u001b[0m\u001b[0;34m=\u001b[0m\u001b[0;34m[\u001b[0m\u001b[0;34m'-c'\u001b[0m\u001b[0;34m,\u001b[0m \u001b[0mcmd\u001b[0m\u001b[0;34m]\u001b[0m\u001b[0;34m)\u001b[0m  \u001b[0;31m# Vanilla Pexpect\u001b[0m\u001b[0;34m\u001b[0m\u001b[0m\n\u001b[0m\u001b[1;32m    157\u001b[0m             \u001b[0mflush\u001b[0m \u001b[0;34m=\u001b[0m \u001b[0msys\u001b[0m\u001b[0;34m.\u001b[0m\u001b[0mstdout\u001b[0m\u001b[0;34m.\u001b[0m\u001b[0mflush\u001b[0m\u001b[0;34m\u001b[0m\u001b[0m\n\u001b[1;32m    158\u001b[0m             \u001b[0;32mwhile\u001b[0m \u001b[0;32mTrue\u001b[0m\u001b[0;34m:\u001b[0m\u001b[0;34m\u001b[0m\u001b[0m\n",
      "\u001b[0;32m~/anaconda3/lib/python3.5/site-packages/pexpect/pty_spawn.py\u001b[0m in \u001b[0;36m__init__\u001b[0;34m(self, command, args, timeout, maxread, searchwindowsize, logfile, cwd, env, ignore_sighup, echo, preexec_fn, encoding, codec_errors, dimensions)\u001b[0m\n\u001b[1;32m    196\u001b[0m             \u001b[0mself\u001b[0m\u001b[0;34m.\u001b[0m\u001b[0mname\u001b[0m \u001b[0;34m=\u001b[0m \u001b[0;34m'<pexpect factory incomplete>'\u001b[0m\u001b[0;34m\u001b[0m\u001b[0m\n\u001b[1;32m    197\u001b[0m         \u001b[0;32melse\u001b[0m\u001b[0;34m:\u001b[0m\u001b[0;34m\u001b[0m\u001b[0m\n\u001b[0;32m--> 198\u001b[0;31m             \u001b[0mself\u001b[0m\u001b[0;34m.\u001b[0m\u001b[0m_spawn\u001b[0m\u001b[0;34m(\u001b[0m\u001b[0mcommand\u001b[0m\u001b[0;34m,\u001b[0m \u001b[0margs\u001b[0m\u001b[0;34m,\u001b[0m \u001b[0mpreexec_fn\u001b[0m\u001b[0;34m,\u001b[0m \u001b[0mdimensions\u001b[0m\u001b[0;34m)\u001b[0m\u001b[0;34m\u001b[0m\u001b[0m\n\u001b[0m\u001b[1;32m    199\u001b[0m \u001b[0;34m\u001b[0m\u001b[0m\n\u001b[1;32m    200\u001b[0m     \u001b[0;32mdef\u001b[0m \u001b[0m__str__\u001b[0m\u001b[0;34m(\u001b[0m\u001b[0mself\u001b[0m\u001b[0;34m)\u001b[0m\u001b[0;34m:\u001b[0m\u001b[0;34m\u001b[0m\u001b[0m\n",
      "\u001b[0;32m~/anaconda3/lib/python3.5/site-packages/pexpect/pty_spawn.py\u001b[0m in \u001b[0;36m_spawn\u001b[0;34m(self, command, args, preexec_fn, dimensions)\u001b[0m\n\u001b[1;32m    296\u001b[0m \u001b[0;34m\u001b[0m\u001b[0m\n\u001b[1;32m    297\u001b[0m         self.ptyproc = self._spawnpty(self.args, env=self.env,\n\u001b[0;32m--> 298\u001b[0;31m                                      cwd=self.cwd, **kwargs)\n\u001b[0m\u001b[1;32m    299\u001b[0m \u001b[0;34m\u001b[0m\u001b[0m\n\u001b[1;32m    300\u001b[0m         \u001b[0mself\u001b[0m\u001b[0;34m.\u001b[0m\u001b[0mpid\u001b[0m \u001b[0;34m=\u001b[0m \u001b[0mself\u001b[0m\u001b[0;34m.\u001b[0m\u001b[0mptyproc\u001b[0m\u001b[0;34m.\u001b[0m\u001b[0mpid\u001b[0m\u001b[0;34m\u001b[0m\u001b[0m\n",
      "\u001b[0;32m~/anaconda3/lib/python3.5/site-packages/pexpect/pty_spawn.py\u001b[0m in \u001b[0;36m_spawnpty\u001b[0;34m(self, args, **kwargs)\u001b[0m\n\u001b[1;32m    307\u001b[0m     \u001b[0;32mdef\u001b[0m \u001b[0m_spawnpty\u001b[0m\u001b[0;34m(\u001b[0m\u001b[0mself\u001b[0m\u001b[0;34m,\u001b[0m \u001b[0margs\u001b[0m\u001b[0;34m,\u001b[0m \u001b[0;34m**\u001b[0m\u001b[0mkwargs\u001b[0m\u001b[0;34m)\u001b[0m\u001b[0;34m:\u001b[0m\u001b[0;34m\u001b[0m\u001b[0m\n\u001b[1;32m    308\u001b[0m         \u001b[0;34m'''Spawn a pty and return an instance of PtyProcess.'''\u001b[0m\u001b[0;34m\u001b[0m\u001b[0m\n\u001b[0;32m--> 309\u001b[0;31m         \u001b[0;32mreturn\u001b[0m \u001b[0mptyprocess\u001b[0m\u001b[0;34m.\u001b[0m\u001b[0mPtyProcess\u001b[0m\u001b[0;34m.\u001b[0m\u001b[0mspawn\u001b[0m\u001b[0;34m(\u001b[0m\u001b[0margs\u001b[0m\u001b[0;34m,\u001b[0m \u001b[0;34m**\u001b[0m\u001b[0mkwargs\u001b[0m\u001b[0;34m)\u001b[0m\u001b[0;34m\u001b[0m\u001b[0m\n\u001b[0m\u001b[1;32m    310\u001b[0m \u001b[0;34m\u001b[0m\u001b[0m\n\u001b[1;32m    311\u001b[0m     \u001b[0;32mdef\u001b[0m \u001b[0mclose\u001b[0m\u001b[0;34m(\u001b[0m\u001b[0mself\u001b[0m\u001b[0;34m,\u001b[0m \u001b[0mforce\u001b[0m\u001b[0;34m=\u001b[0m\u001b[0;32mTrue\u001b[0m\u001b[0;34m)\u001b[0m\u001b[0;34m:\u001b[0m\u001b[0;34m\u001b[0m\u001b[0m\n",
      "\u001b[0;32m~/anaconda3/lib/python3.5/site-packages/ptyprocess/ptyprocess.py\u001b[0m in \u001b[0;36mspawn\u001b[0;34m(cls, argv, cwd, env, echo, preexec_fn, dimensions)\u001b[0m\n\u001b[1;32m    220\u001b[0m \u001b[0;34m\u001b[0m\u001b[0m\n\u001b[1;32m    221\u001b[0m         \u001b[0;32mif\u001b[0m \u001b[0muse_native_pty_fork\u001b[0m\u001b[0;34m:\u001b[0m\u001b[0;34m\u001b[0m\u001b[0m\n\u001b[0;32m--> 222\u001b[0;31m             \u001b[0mpid\u001b[0m\u001b[0;34m,\u001b[0m \u001b[0mfd\u001b[0m \u001b[0;34m=\u001b[0m \u001b[0mpty\u001b[0m\u001b[0;34m.\u001b[0m\u001b[0mfork\u001b[0m\u001b[0;34m(\u001b[0m\u001b[0;34m)\u001b[0m\u001b[0;34m\u001b[0m\u001b[0m\n\u001b[0m\u001b[1;32m    223\u001b[0m         \u001b[0;32melse\u001b[0m\u001b[0;34m:\u001b[0m\u001b[0;34m\u001b[0m\u001b[0m\n\u001b[1;32m    224\u001b[0m             \u001b[0;31m# Use internal fork_pty, for Solaris\u001b[0m\u001b[0;34m\u001b[0m\u001b[0;34m\u001b[0m\u001b[0m\n",
      "\u001b[0;32m~/anaconda3/lib/python3.5/pty.py\u001b[0m in \u001b[0;36mfork\u001b[0;34m()\u001b[0m\n\u001b[1;32m     95\u001b[0m \u001b[0;34m\u001b[0m\u001b[0m\n\u001b[1;32m     96\u001b[0m     \u001b[0mmaster_fd\u001b[0m\u001b[0;34m,\u001b[0m \u001b[0mslave_fd\u001b[0m \u001b[0;34m=\u001b[0m \u001b[0mopenpty\u001b[0m\u001b[0;34m(\u001b[0m\u001b[0;34m)\u001b[0m\u001b[0;34m\u001b[0m\u001b[0m\n\u001b[0;32m---> 97\u001b[0;31m     \u001b[0mpid\u001b[0m \u001b[0;34m=\u001b[0m \u001b[0mos\u001b[0m\u001b[0;34m.\u001b[0m\u001b[0mfork\u001b[0m\u001b[0;34m(\u001b[0m\u001b[0;34m)\u001b[0m\u001b[0;34m\u001b[0m\u001b[0m\n\u001b[0m\u001b[1;32m     98\u001b[0m     \u001b[0;32mif\u001b[0m \u001b[0mpid\u001b[0m \u001b[0;34m==\u001b[0m \u001b[0mCHILD\u001b[0m\u001b[0;34m:\u001b[0m\u001b[0;34m\u001b[0m\u001b[0m\n\u001b[1;32m     99\u001b[0m         \u001b[0;31m# Establish a new session.\u001b[0m\u001b[0;34m\u001b[0m\u001b[0;34m\u001b[0m\u001b[0m\n",
      "\u001b[0;31mOSError\u001b[0m: [Errno 12] Cannot allocate memory"
     ]
    }
   ],
   "source": [
    "!pwd"
   ]
  },
  {
   "cell_type": "code",
   "execution_count": null,
   "metadata": {},
   "outputs": [],
   "source": []
  }
 ],
 "metadata": {
  "anaconda-cloud": {},
  "kernelspec": {
   "display_name": "Python [conda root]",
   "language": "python",
   "name": "conda-root-py"
  },
  "language_info": {
   "codemirror_mode": {
    "name": "ipython",
    "version": 3
   },
   "file_extension": ".py",
   "mimetype": "text/x-python",
   "name": "python",
   "nbconvert_exporter": "python",
   "pygments_lexer": "ipython3",
   "version": "3.5.5"
  },
  "nav_menu": {},
  "toc": {
   "navigate_menu": true,
   "number_sections": true,
   "sideBar": true,
   "threshold": 6,
   "toc_cell": false,
   "toc_section_display": "block",
   "toc_window_display": false
  }
 },
 "nbformat": 4,
 "nbformat_minor": 2
}
