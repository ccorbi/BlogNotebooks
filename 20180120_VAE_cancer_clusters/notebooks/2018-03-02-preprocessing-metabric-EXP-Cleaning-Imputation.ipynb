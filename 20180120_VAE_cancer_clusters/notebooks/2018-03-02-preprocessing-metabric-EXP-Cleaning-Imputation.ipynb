{
 "cells": [
  {
   "cell_type": "code",
   "execution_count": 1,
   "metadata": {},
   "outputs": [],
   "source": [
    "import pandas as pd"
   ]
  },
  {
   "cell_type": "code",
   "execution_count": 2,
   "metadata": {},
   "outputs": [
    {
     "data": {
      "text/plain": [
       "(24368, 1906)"
      ]
     },
     "execution_count": 2,
     "metadata": {},
     "output_type": "execute_result"
    }
   ],
   "source": [
    "exp = pd.read_csv('../data/METABRIC/data_expression.txt',sep='\\t')\n",
    "exp.shape"
   ]
  },
  {
   "cell_type": "code",
   "execution_count": 3,
   "metadata": {},
   "outputs": [
    {
     "data": {
      "text/html": [
       "<div>\n",
       "<style scoped>\n",
       "    .dataframe tbody tr th:only-of-type {\n",
       "        vertical-align: middle;\n",
       "    }\n",
       "\n",
       "    .dataframe tbody tr th {\n",
       "        vertical-align: top;\n",
       "    }\n",
       "\n",
       "    .dataframe thead th {\n",
       "        text-align: right;\n",
       "    }\n",
       "</style>\n",
       "<table border=\"1\" class=\"dataframe\">\n",
       "  <thead>\n",
       "    <tr style=\"text-align: right;\">\n",
       "      <th></th>\n",
       "      <th>Hugo_Symbol</th>\n",
       "      <th>Entrez_Gene_Id</th>\n",
       "      <th>MB-0362</th>\n",
       "      <th>MB-0346</th>\n",
       "      <th>MB-0386</th>\n",
       "      <th>MB-0574</th>\n",
       "      <th>MB-0503</th>\n",
       "      <th>MB-0641</th>\n",
       "      <th>MB-0201</th>\n",
       "      <th>MB-0218</th>\n",
       "      <th>...</th>\n",
       "      <th>MB-6122</th>\n",
       "      <th>MB-6192</th>\n",
       "      <th>MB-4820</th>\n",
       "      <th>MB-5527</th>\n",
       "      <th>MB-5167</th>\n",
       "      <th>MB-5465</th>\n",
       "      <th>MB-5453</th>\n",
       "      <th>MB-5471</th>\n",
       "      <th>MB-5127</th>\n",
       "      <th>MB-4313</th>\n",
       "    </tr>\n",
       "  </thead>\n",
       "  <tbody>\n",
       "    <tr>\n",
       "      <th>0</th>\n",
       "      <td>RERE</td>\n",
       "      <td>473.0</td>\n",
       "      <td>8.676978</td>\n",
       "      <td>9.653589</td>\n",
       "      <td>9.033589</td>\n",
       "      <td>8.814855</td>\n",
       "      <td>9.274265</td>\n",
       "      <td>9.286585</td>\n",
       "      <td>8.437347</td>\n",
       "      <td>8.569973</td>\n",
       "      <td>...</td>\n",
       "      <td>8.756024</td>\n",
       "      <td>8.804947</td>\n",
       "      <td>9.991215</td>\n",
       "      <td>9.595923</td>\n",
       "      <td>9.637249</td>\n",
       "      <td>8.131637</td>\n",
       "      <td>9.606915</td>\n",
       "      <td>9.049296</td>\n",
       "      <td>8.858622</td>\n",
       "      <td>8.415867</td>\n",
       "    </tr>\n",
       "    <tr>\n",
       "      <th>1</th>\n",
       "      <td>RNF165</td>\n",
       "      <td>494470.0</td>\n",
       "      <td>6.075331</td>\n",
       "      <td>6.687887</td>\n",
       "      <td>5.910885</td>\n",
       "      <td>5.628740</td>\n",
       "      <td>5.908698</td>\n",
       "      <td>6.206729</td>\n",
       "      <td>6.095592</td>\n",
       "      <td>6.383530</td>\n",
       "      <td>...</td>\n",
       "      <td>7.101087</td>\n",
       "      <td>5.601472</td>\n",
       "      <td>7.103160</td>\n",
       "      <td>6.418987</td>\n",
       "      <td>6.203370</td>\n",
       "      <td>9.101942</td>\n",
       "      <td>7.427494</td>\n",
       "      <td>6.850000</td>\n",
       "      <td>6.550450</td>\n",
       "      <td>6.831722</td>\n",
       "    </tr>\n",
       "  </tbody>\n",
       "</table>\n",
       "<p>2 rows × 1906 columns</p>\n",
       "</div>"
      ],
      "text/plain": [
       "  Hugo_Symbol  Entrez_Gene_Id   MB-0362   MB-0346   MB-0386   MB-0574  \\\n",
       "0        RERE           473.0  8.676978  9.653589  9.033589  8.814855   \n",
       "1      RNF165        494470.0  6.075331  6.687887  5.910885  5.628740   \n",
       "\n",
       "    MB-0503   MB-0641   MB-0201   MB-0218    ...      MB-6122   MB-6192  \\\n",
       "0  9.274265  9.286585  8.437347  8.569973    ...     8.756024  8.804947   \n",
       "1  5.908698  6.206729  6.095592  6.383530    ...     7.101087  5.601472   \n",
       "\n",
       "    MB-4820   MB-5527   MB-5167   MB-5465   MB-5453   MB-5471   MB-5127  \\\n",
       "0  9.991215  9.595923  9.637249  8.131637  9.606915  9.049296  8.858622   \n",
       "1  7.103160  6.418987  6.203370  9.101942  7.427494  6.850000  6.550450   \n",
       "\n",
       "    MB-4313  \n",
       "0  8.415867  \n",
       "1  6.831722  \n",
       "\n",
       "[2 rows x 1906 columns]"
      ]
     },
     "execution_count": 3,
     "metadata": {},
     "output_type": "execute_result"
    }
   ],
   "source": [
    "exp.head(2)"
   ]
  },
  {
   "cell_type": "code",
   "execution_count": 7,
   "metadata": {},
   "outputs": [
    {
     "data": {
      "text/plain": [
       "4873.6"
      ]
     },
     "execution_count": 7,
     "metadata": {},
     "output_type": "execute_result"
    }
   ],
   "source": [
    "# clean Feature if  missing more 20\n",
    "(24368 / 100) *  20"
   ]
  },
  {
   "cell_type": "code",
   "execution_count": 12,
   "metadata": {},
   "outputs": [],
   "source": [
    "b = list()\n",
    "for c in exp.columns:\n",
    "    missing = exp[c].nonzero()\n",
    "    if 24368 - len(missing[0])   >= 1:\n",
    "#        del exp[c]\n",
    "        print(c)\n",
    "        "
   ]
  },
  {
   "cell_type": "code",
   "execution_count": null,
   "metadata": {},
   "outputs": [],
   "source": []
  },
  {
   "cell_type": "code",
   "execution_count": null,
   "metadata": {},
   "outputs": [],
   "source": []
  },
  {
   "cell_type": "code",
   "execution_count": 5,
   "metadata": {},
   "outputs": [],
   "source": [
    "meta_index_exp = exp.columns\n",
    "meta_index_exp= meta_index_exp[2:]\n",
    "tops = ['Hugo_Symbol']\n",
    "tops.extend( list(meta_index_exp))\n",
    "exp = exp[tops]"
   ]
  },
  {
   "cell_type": "code",
   "execution_count": 6,
   "metadata": {},
   "outputs": [
    {
     "data": {
      "text/plain": [
       "(24368, 1905)"
      ]
     },
     "execution_count": 6,
     "metadata": {},
     "output_type": "execute_result"
    }
   ],
   "source": [
    "exp.shape"
   ]
  },
  {
   "cell_type": "code",
   "execution_count": 7,
   "metadata": {},
   "outputs": [
    {
     "data": {
      "text/plain": [
       "4873.6"
      ]
     },
     "execution_count": 7,
     "metadata": {},
     "output_type": "execute_result"
    }
   ],
   "source": [
    "(exp.shape[0] /100)* 20"
   ]
  },
  {
   "cell_type": "code",
   "execution_count": 8,
   "metadata": {},
   "outputs": [],
   "source": [
    "for c in exp.columns:\n",
    "    missing = exp[c].isnull().sum()\n",
    "    if missing >= 4874:\n",
    "        del exp[c]\n",
    "        print(c)"
   ]
  },
  {
   "cell_type": "code",
   "execution_count": 9,
   "metadata": {},
   "outputs": [
    {
     "data": {
      "text/plain": [
       "(24368, 1905)"
      ]
     },
     "execution_count": 9,
     "metadata": {},
     "output_type": "execute_result"
    }
   ],
   "source": [
    "exp.shape"
   ]
  },
  {
   "cell_type": "code",
   "execution_count": 10,
   "metadata": {},
   "outputs": [
    {
     "data": {
      "text/plain": [
       "380.79999999999995"
      ]
     },
     "execution_count": 10,
     "metadata": {},
     "output_type": "execute_result"
    }
   ],
   "source": [
    "(1904 / 100 )*20"
   ]
  },
  {
   "cell_type": "code",
   "execution_count": 11,
   "metadata": {},
   "outputs": [
    {
     "data": {
      "text/plain": [
       "[]"
      ]
     },
     "execution_count": 11,
     "metadata": {},
     "output_type": "execute_result"
    }
   ],
   "source": [
    "#Find is a feature is missing more than 20%\n",
    "missing = exp.isnull().sum(axis=1).tolist()\n",
    "\n",
    "todel = list()\n",
    "for idx, m in enumerate(missing):\n",
    "    if m >= 381:\n",
    "        todel.append(idx)\n",
    "todel"
   ]
  },
  {
   "cell_type": "code",
   "execution_count": 58,
   "metadata": {},
   "outputs": [
    {
     "data": {
      "text/plain": [
       "1"
      ]
     },
     "execution_count": 58,
     "metadata": {},
     "output_type": "execute_result"
    }
   ],
   "source": [
    "max(exp.isnull().sum(axis=0).tolist())\n"
   ]
  },
  {
   "cell_type": "code",
   "execution_count": 59,
   "metadata": {},
   "outputs": [
    {
     "data": {
      "text/plain": [
       "2"
      ]
     },
     "execution_count": 59,
     "metadata": {},
     "output_type": "execute_result"
    }
   ],
   "source": [
    "max(exp.isnull().sum(axis=1).tolist())\n"
   ]
  },
  {
   "cell_type": "code",
   "execution_count": 27,
   "metadata": {},
   "outputs": [],
   "source": [
    "for col in exp:\n",
    "    a = exp[col].value_counts(dropna=False)\n",
    "    if a[a.isnull()].shape[0] > 0:\n",
    "        print(col)"
   ]
  },
  {
   "cell_type": "code",
   "execution_count": 35,
   "metadata": {},
   "outputs": [
    {
     "data": {
      "text/html": [
       "<div>\n",
       "<style scoped>\n",
       "    .dataframe tbody tr th:only-of-type {\n",
       "        vertical-align: middle;\n",
       "    }\n",
       "\n",
       "    .dataframe tbody tr th {\n",
       "        vertical-align: top;\n",
       "    }\n",
       "\n",
       "    .dataframe thead th {\n",
       "        text-align: right;\n",
       "    }\n",
       "</style>\n",
       "<table border=\"1\" class=\"dataframe\">\n",
       "  <thead>\n",
       "    <tr style=\"text-align: right;\">\n",
       "      <th></th>\n",
       "      <th>Hugo_Symbol</th>\n",
       "      <th>MB-0362</th>\n",
       "      <th>MB-0346</th>\n",
       "      <th>MB-0386</th>\n",
       "      <th>MB-0574</th>\n",
       "      <th>MB-0503</th>\n",
       "      <th>MB-0641</th>\n",
       "      <th>MB-0201</th>\n",
       "      <th>MB-0218</th>\n",
       "      <th>MB-0316</th>\n",
       "      <th>...</th>\n",
       "      <th>MB-6122</th>\n",
       "      <th>MB-6192</th>\n",
       "      <th>MB-4820</th>\n",
       "      <th>MB-5527</th>\n",
       "      <th>MB-5167</th>\n",
       "      <th>MB-5465</th>\n",
       "      <th>MB-5453</th>\n",
       "      <th>MB-5471</th>\n",
       "      <th>MB-5127</th>\n",
       "      <th>MB-4313</th>\n",
       "    </tr>\n",
       "  </thead>\n",
       "  <tbody>\n",
       "    <tr>\n",
       "      <th>11926</th>\n",
       "      <td>MRPL24</td>\n",
       "      <td>8.198578</td>\n",
       "      <td>8.027969</td>\n",
       "      <td>9.030172</td>\n",
       "      <td>9.183349</td>\n",
       "      <td>8.342043</td>\n",
       "      <td>8.005128</td>\n",
       "      <td>8.905652</td>\n",
       "      <td>8.785722</td>\n",
       "      <td>8.640236</td>\n",
       "      <td>...</td>\n",
       "      <td>7.860168</td>\n",
       "      <td>7.881089</td>\n",
       "      <td>8.658549</td>\n",
       "      <td>7.562491</td>\n",
       "      <td>9.163658</td>\n",
       "      <td>7.797186</td>\n",
       "      <td>7.908056</td>\n",
       "      <td>8.45412</td>\n",
       "      <td>8.335357</td>\n",
       "      <td>6.656387</td>\n",
       "    </tr>\n",
       "  </tbody>\n",
       "</table>\n",
       "<p>1 rows × 1905 columns</p>\n",
       "</div>"
      ],
      "text/plain": [
       "      Hugo_Symbol   MB-0362   MB-0346   MB-0386   MB-0574   MB-0503   MB-0641  \\\n",
       "11926      MRPL24  8.198578  8.027969  9.030172  9.183349  8.342043  8.005128   \n",
       "\n",
       "        MB-0201   MB-0218   MB-0316    ...      MB-6122   MB-6192   MB-4820  \\\n",
       "11926  8.905652  8.785722  8.640236    ...     7.860168  7.881089  8.658549   \n",
       "\n",
       "        MB-5527   MB-5167   MB-5465   MB-5453  MB-5471   MB-5127   MB-4313  \n",
       "11926  7.562491  9.163658  7.797186  7.908056  8.45412  8.335357  6.656387  \n",
       "\n",
       "[1 rows x 1905 columns]"
      ]
     },
     "execution_count": 35,
     "metadata": {},
     "output_type": "execute_result"
    }
   ],
   "source": [
    "exp[exp['MB-5452'].isnull()]"
   ]
  },
  {
   "cell_type": "code",
   "execution_count": 36,
   "metadata": {},
   "outputs": [],
   "source": [
    "a = exp[exp['MB-5452'].isnull()]"
   ]
  },
  {
   "cell_type": "code",
   "execution_count": 45,
   "metadata": {},
   "outputs": [
    {
     "data": {
      "text/plain": [
       "1"
      ]
     },
     "execution_count": 45,
     "metadata": {},
     "output_type": "execute_result"
    }
   ],
   "source": [
    "a.isnull().sum(axis=1).get_values()[0]"
   ]
  },
  {
   "cell_type": "code",
   "execution_count": 53,
   "metadata": {},
   "outputs": [
    {
     "data": {
      "text/plain": [
       "2"
      ]
     },
     "execution_count": 53,
     "metadata": {},
     "output_type": "execute_result"
    }
   ],
   "source": [
    "control = list()\n",
    "for idx, row in exp.iterrows():\n",
    "    control.append(row.isnull().sum())\n",
    "max(control)"
   ]
  },
  {
   "cell_type": "code",
   "execution_count": 12,
   "metadata": {},
   "outputs": [],
   "source": [
    "# immputation using KNN 20 neigh\n",
    "from sklearn import neighbors\n",
    "import numpy as np"
   ]
  },
  {
   "cell_type": "code",
   "execution_count": 13,
   "metadata": {},
   "outputs": [],
   "source": [
    "# custom version of  https://github.com/bwanglzu/Imputer.py/blob/master/imputer/imputer.py\n",
    "\n",
    "class Imputer:\n",
    "    \"\"\"Imputer class.\"\"\"\n",
    "    def __init():\n",
    "        return\n",
    "\n",
    "    def _fit(self, X, column, k=10, is_categorical=False):\n",
    "        \"\"\"Fit a knn classifier for missing column.\n",
    "        - Args:\n",
    "                X(numpy.ndarray): input data\n",
    "                column(int): column id to be imputed\n",
    "                k(int): number of nearest neighbors, default 10\n",
    "                is_categorical(boolean): is continuous or categorical feature\n",
    "        - Returns:\n",
    "                clf: trained k nearest neighbour classifier\n",
    "        \"\"\"\n",
    "        clf = None\n",
    "        if not is_categorical:\n",
    "            clf = neighbors.KNeighborsRegressor(n_neighbors=k)\n",
    "        else:\n",
    "            clf = neighbors.KNeighborsClassifier(n_neighbors=k)\n",
    "        # use column not null to train the kNN classifier\n",
    "        missing_idxes = np.where(pd.isnull(X[:, column]))[0]\n",
    "        if len(missing_idxes) == 0:\n",
    "            return None\n",
    "        X_copy = np.delete(X, missing_idxes, 0)\n",
    "        X_train = np.delete(X_copy, column, 1)\n",
    "        # if other columns still have missing values fill with mean\n",
    "        col_mean = None\n",
    "        if not is_categorical:\n",
    "            col_mean = np.nanmean(X, 0)\n",
    "        else:\n",
    "            col_mean = np.nanmedian(X, 0)\n",
    "        for col_id in range(0, len(col_mean) - 1):\n",
    "            col_missing_idxes = np.where(np.isnan(X_train[:, col_id]))[0]\n",
    "            if len(col_missing_idxes) == 0:\n",
    "                continue\n",
    "            else:\n",
    "                X_train[col_missing_idxes, col_id] = col_mean[col_id]\n",
    "        y_train = X_copy[:, column]\n",
    "        # fit classifier\n",
    "        clf.fit(X_train, y_train)\n",
    "        return clf\n",
    "\n",
    "    def _transform(self, X, column, clf, is_categorical):\n",
    "        \"\"\"Impute missing values.\n",
    "        - Args:\n",
    "                X(numpy.ndarray): input numpy ndarray\n",
    "                column(int): index of column to be imputed\n",
    "                clf: pretrained classifier\n",
    "                is_categorical(boolean): is continuous or categorical feature\n",
    "        - Returns:\n",
    "                X(pandas.dataframe): imputed dataframe\n",
    "        \"\"\"\n",
    "        missing_idxes = np.where(np.isnan(X[:, column]))[0]\n",
    "        X_test = X[missing_idxes, :]\n",
    "        X_test = np.delete(X_test, column, 1)\n",
    "        # if other columns still have missing values fill with mean\n",
    "        col_mean = None\n",
    "        if not is_categorical:\n",
    "            col_mean = np.nanmean(X, 0)\n",
    "        else:\n",
    "            col_mean = np.nanmedian(X, 0)\n",
    "        # fill missing values in each column with current col_mean\n",
    "        for col_id in range(0, len(col_mean) - 1):\n",
    "            col_missing_idxes = np.where(np.isnan(X_test[:, col_id]))[0]\n",
    "            # if no missing values for current column\n",
    "            if len(col_missing_idxes) == 0:\n",
    "                continue\n",
    "            else:\n",
    "                X_test[col_missing_idxes, col_id] = col_mean[col_id]\n",
    "        # predict missing values\n",
    "        y_test = clf.predict(X_test)\n",
    "        X[missing_idxes, column] = y_test\n",
    "        return X\n",
    "\n",
    "    def knn(self, X, column, k=10, is_categorical=False):\n",
    "        \"\"\"Impute missing value with knn.\n",
    "        - Args:\n",
    "                X(pandas.dataframe): dataframe\n",
    "                column(str): column name to be imputed\n",
    "                k(int): number of nearest neighbors, default 10\n",
    "                is_categorical(boolean): is continuous or categorical feature\n",
    "        - Returns:\n",
    "                X_imputed(pandas.dataframe): imputed pandas dataframe\n",
    "        \"\"\"\n",
    "        X, column = self._check_X_y(X, column)\n",
    "        clf = self._fit(X, column, k, is_categorical)\n",
    "        if clf is None:\n",
    "            return X\n",
    "        else:\n",
    "            X_imputed = self._transform(X, column, clf, is_categorical)\n",
    "            return X_imputed\n",
    "\n",
    "    def _check_X_y(self, X, column):\n",
    "        \"\"\"Check input, if pandas.dataframe, transform to numpy array.\n",
    "        - Args:\n",
    "                X(ndarray/pandas.dataframe): input instances\n",
    "                column(str/int): column index or column name\n",
    "        - Returns:\n",
    "                X(ndarray): input instances\n",
    "        \"\"\"\n",
    "        column_idx = None\n",
    "        X = X.select_dtypes(include=[np.number])\n",
    "\n",
    "        if isinstance(X, pd.core.frame.DataFrame):\n",
    "            if isinstance(column, str):\n",
    "                # get index of current column\n",
    "                column_idx = X.columns.get_loc(column)\n",
    "            else:\n",
    "                column_idx = column\n",
    "            X = X.as_matrix()\n",
    "        else:\n",
    "            column_idx = column\n",
    "        return X, column_idx"
   ]
  },
  {
   "cell_type": "code",
   "execution_count": null,
   "metadata": {},
   "outputs": [],
   "source": []
  },
  {
   "cell_type": "code",
   "execution_count": 14,
   "metadata": {},
   "outputs": [],
   "source": [
    "imputer = Imputer()"
   ]
  },
  {
   "cell_type": "code",
   "execution_count": 15,
   "metadata": {},
   "outputs": [],
   "source": [
    "iexp = exp.copy()\n",
    "#for c in icnv.columns:\n",
    "#    missing = icnv[c].isnull().sum()\n",
    "#    if missing > 0:\n",
    "#        imputed = imputer.knn(icnv, c, k=20 )\n",
    "#        icnv[c] = imputed[c]\n",
    "        \n",
    "#a = imputer.knn(icnv, \"MB-5104\",k=20)       \n"
   ]
  },
  {
   "cell_type": "code",
   "execution_count": 16,
   "metadata": {},
   "outputs": [],
   "source": [
    "for c in iexp.columns:\n",
    "    missing = iexp[c].isnull().sum()\n",
    "    if missing > 0:\n",
    "#        imputed = imputer.knn(icnv, c, k=20 )\n",
    "        iexp[c] = imputer.knn(iexp, c, k=20,  )\n",
    "        \n",
    "#a = imputer.knn(icnv, \"MB-5104\",k=20)      "
   ]
  },
  {
   "cell_type": "code",
   "execution_count": 18,
   "metadata": {},
   "outputs": [
    {
     "data": {
      "text/plain": [
       "Hugo_Symbol    0\n",
       "MB-0362        0\n",
       "MB-0346        0\n",
       "MB-0386        0\n",
       "MB-0574        0\n",
       "MB-0503        0\n",
       "MB-0641        0\n",
       "MB-0201        0\n",
       "MB-0218        0\n",
       "MB-0316        0\n",
       "MB-0189        0\n",
       "MB-0891        0\n",
       "MB-0658        0\n",
       "MB-0899        0\n",
       "MB-0605        0\n",
       "MB-0258        0\n",
       "MB-0506        0\n",
       "MB-0420        0\n",
       "MB-0223        0\n",
       "MB-0445        0\n",
       "MB-0199        0\n",
       "MB-0517        0\n",
       "MB-0155        0\n",
       "MB-0428        0\n",
       "MB-0117        0\n",
       "MB-0906        0\n",
       "MB-0249        0\n",
       "MB-0660        0\n",
       "MB-0497        0\n",
       "MB-0434        0\n",
       "              ..\n",
       "MB-7089        0\n",
       "MB-7030        0\n",
       "MB-7004        0\n",
       "MB-7119        0\n",
       "MB-7263        0\n",
       "MB-7012        0\n",
       "MB-0174        0\n",
       "MB-7182        0\n",
       "MB-7039        0\n",
       "MB-3797        0\n",
       "MB-7112        0\n",
       "MB-0308        0\n",
       "MB-7230        0\n",
       "MB-5452        0\n",
       "MB-6195        0\n",
       "MB-6317        0\n",
       "MB-5464        0\n",
       "MB-5552        0\n",
       "MB-5547        0\n",
       "MB-6189        0\n",
       "MB-6122        0\n",
       "MB-6192        0\n",
       "MB-4820        0\n",
       "MB-5527        0\n",
       "MB-5167        0\n",
       "MB-5465        0\n",
       "MB-5453        0\n",
       "MB-5471        0\n",
       "MB-5127        0\n",
       "MB-4313        0\n",
       "Length: 1905, dtype: int64"
      ]
     },
     "execution_count": 18,
     "metadata": {},
     "output_type": "execute_result"
    }
   ],
   "source": [
    "iexp.isnull().sum()"
   ]
  },
  {
   "cell_type": "code",
   "execution_count": null,
   "metadata": {},
   "outputs": [],
   "source": []
  },
  {
   "cell_type": "code",
   "execution_count": 19,
   "metadata": {},
   "outputs": [],
   "source": [
    "iexp.to_csv('METABRIC_Gene_Expression_data_implaced.txt',index=False,sep='\\t')"
   ]
  },
  {
   "cell_type": "code",
   "execution_count": 20,
   "metadata": {},
   "outputs": [
    {
     "name": "stdout",
     "output_type": "stream",
     "text": [
      "2018-03-02-preprocessing-metabric-CNV-Cleaning.ipynb\r\n",
      "2018-03-02-preprocessing-metabric-EXP-Cleaning.ipynb\r\n",
      "METABRICCNV_CNV_data.txt\r\n",
      "METABRIC_CNV_data.txt\r\n",
      "METABRICCNV_Gene_Expression.txt\r\n",
      "METABRICCNV_Survival.txt\r\n",
      "METABRIC_Gene_Expression_data_implaced.txt\r\n",
      "METABRIC_Gene_Expression.txt\r\n",
      "METABRIC_Mirna_Expression.txt\r\n",
      "METABRIC_Survival.txt\r\n",
      "preprocessing-metabric-CNV.ipynb\r\n",
      "preprocessing-metabric.ipynb\r\n",
      "Untitled1.ipynb\r\n",
      "Untitled2.ipynb\r\n",
      "Untitled.ipynb\r\n"
     ]
    }
   ],
   "source": [
    "!ls"
   ]
  },
  {
   "cell_type": "code",
   "execution_count": null,
   "metadata": {},
   "outputs": [],
   "source": []
  }
 ],
 "metadata": {
  "anaconda-cloud": {},
  "kernelspec": {
   "display_name": "Environment (conda_anaconda3)",
   "language": "python",
   "name": "conda_anaconda3"
  },
  "language_info": {
   "codemirror_mode": {
    "name": "ipython",
    "version": 3
   },
   "file_extension": ".py",
   "mimetype": "text/x-python",
   "name": "python",
   "nbconvert_exporter": "python",
   "pygments_lexer": "ipython3",
   "version": "3.6.5"
  },
  "nav_menu": {},
  "toc": {
   "navigate_menu": true,
   "number_sections": true,
   "sideBar": true,
   "threshold": 6,
   "toc_cell": false,
   "toc_section_display": "block",
   "toc_window_display": false
  }
 },
 "nbformat": 4,
 "nbformat_minor": 2
}
