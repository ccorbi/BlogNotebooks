{
 "cells": [
  {
   "cell_type": "code",
   "execution_count": 1,
   "metadata": {},
   "outputs": [],
   "source": [
    "import pandas as pd"
   ]
  },
  {
   "cell_type": "code",
   "execution_count": 2,
   "metadata": {},
   "outputs": [
    {
     "data": {
      "text/plain": [
       "(853, 1448)"
      ]
     },
     "execution_count": 2,
     "metadata": {},
     "output_type": "execute_result"
    }
   ],
   "source": [
    "mirna = pd.read_csv('../data/METABRIC/_ega-box-04_Agilent_ncRNA_60k_normalised_miRNA_expression.csv', sep='\\t')\n",
    "mirna.shape"
   ]
  },
  {
   "cell_type": "code",
   "execution_count": 3,
   "metadata": {},
   "outputs": [
    {
     "data": {
      "text/html": [
       "<div>\n",
       "<style scoped>\n",
       "    .dataframe tbody tr th:only-of-type {\n",
       "        vertical-align: middle;\n",
       "    }\n",
       "\n",
       "    .dataframe tbody tr th {\n",
       "        vertical-align: top;\n",
       "    }\n",
       "\n",
       "    .dataframe thead th {\n",
       "        text-align: right;\n",
       "    }\n",
       "</style>\n",
       "<table border=\"1\" class=\"dataframe\">\n",
       "  <thead>\n",
       "    <tr style=\"text-align: right;\">\n",
       "      <th></th>\n",
       "      <th>ProbeID</th>\n",
       "      <th>miRNA</th>\n",
       "      <th>MB-2718</th>\n",
       "      <th>MB-2616</th>\n",
       "      <th>MB-2634</th>\n",
       "      <th>MB-2643</th>\n",
       "      <th>MB-2613</th>\n",
       "      <th>MB-2629</th>\n",
       "      <th>MB-2645</th>\n",
       "      <th>MB-2626</th>\n",
       "      <th>...</th>\n",
       "      <th>MB-0619</th>\n",
       "      <th>MB-0171</th>\n",
       "      <th>MB-0310</th>\n",
       "      <th>MB-0489</th>\n",
       "      <th>MB-0621</th>\n",
       "      <th>MB-0614</th>\n",
       "      <th>MB-0372</th>\n",
       "      <th>MB-0335</th>\n",
       "      <th>MB-0407</th>\n",
       "      <th>MB-0374</th>\n",
       "    </tr>\n",
       "  </thead>\n",
       "  <tbody>\n",
       "    <tr>\n",
       "      <th>0</th>\n",
       "      <td>A_25_P00013119</td>\n",
       "      <td>hsa-let-7b*</td>\n",
       "      <td>6.292</td>\n",
       "      <td>6.445</td>\n",
       "      <td>6.406</td>\n",
       "      <td>6.333</td>\n",
       "      <td>6.281</td>\n",
       "      <td>6.410</td>\n",
       "      <td>6.386</td>\n",
       "      <td>6.319</td>\n",
       "      <td>...</td>\n",
       "      <td>6.209</td>\n",
       "      <td>6.526</td>\n",
       "      <td>6.344</td>\n",
       "      <td>6.587</td>\n",
       "      <td>6.304</td>\n",
       "      <td>6.324</td>\n",
       "      <td>6.325</td>\n",
       "      <td>6.322</td>\n",
       "      <td>6.301</td>\n",
       "      <td>6.411</td>\n",
       "    </tr>\n",
       "    <tr>\n",
       "      <th>1</th>\n",
       "      <td>A_25_P00011980</td>\n",
       "      <td>hsa-let-7d</td>\n",
       "      <td>11.813</td>\n",
       "      <td>10.380</td>\n",
       "      <td>10.028</td>\n",
       "      <td>10.624</td>\n",
       "      <td>9.235</td>\n",
       "      <td>9.818</td>\n",
       "      <td>10.675</td>\n",
       "      <td>10.522</td>\n",
       "      <td>...</td>\n",
       "      <td>10.301</td>\n",
       "      <td>9.944</td>\n",
       "      <td>9.006</td>\n",
       "      <td>9.373</td>\n",
       "      <td>10.316</td>\n",
       "      <td>9.773</td>\n",
       "      <td>9.808</td>\n",
       "      <td>8.085</td>\n",
       "      <td>10.171</td>\n",
       "      <td>10.558</td>\n",
       "    </tr>\n",
       "  </tbody>\n",
       "</table>\n",
       "<p>2 rows × 1448 columns</p>\n",
       "</div>"
      ],
      "text/plain": [
       "          ProbeID        miRNA  MB-2718  MB-2616  MB-2634  MB-2643  MB-2613  \\\n",
       "0  A_25_P00013119  hsa-let-7b*    6.292    6.445    6.406    6.333    6.281   \n",
       "1  A_25_P00011980   hsa-let-7d   11.813   10.380   10.028   10.624    9.235   \n",
       "\n",
       "   MB-2629  MB-2645  MB-2626   ...     MB-0619  MB-0171  MB-0310  MB-0489  \\\n",
       "0    6.410    6.386    6.319   ...       6.209    6.526    6.344    6.587   \n",
       "1    9.818   10.675   10.522   ...      10.301    9.944    9.006    9.373   \n",
       "\n",
       "   MB-0621  MB-0614  MB-0372  MB-0335  MB-0407  MB-0374  \n",
       "0    6.304    6.324    6.325    6.322    6.301    6.411  \n",
       "1   10.316    9.773    9.808    8.085   10.171   10.558  \n",
       "\n",
       "[2 rows x 1448 columns]"
      ]
     },
     "execution_count": 3,
     "metadata": {},
     "output_type": "execute_result"
    }
   ],
   "source": [
    "mirna.head(2)"
   ]
  },
  {
   "cell_type": "code",
   "execution_count": 4,
   "metadata": {},
   "outputs": [
    {
     "data": {
      "text/plain": [
       "0"
      ]
     },
     "execution_count": 4,
     "metadata": {},
     "output_type": "execute_result"
    }
   ],
   "source": [
    "# clean missing more 20\n",
    "max(mirna.isnull().sum(axis=0).tolist())\n"
   ]
  },
  {
   "cell_type": "code",
   "execution_count": 5,
   "metadata": {},
   "outputs": [
    {
     "data": {
      "text/plain": [
       "0"
      ]
     },
     "execution_count": 5,
     "metadata": {},
     "output_type": "execute_result"
    }
   ],
   "source": [
    "max(mirna.isnull().sum(axis=1).tolist())\n"
   ]
  },
  {
   "cell_type": "code",
   "execution_count": 6,
   "metadata": {},
   "outputs": [],
   "source": [
    "b = list()\n",
    "for c in mirna.columns:\n",
    "    missing = mirna[c].nonzero()\n",
    "    if 853 - len(missing[0])   >= 1:\n",
    "#        del exp[c]\n",
    "        print(c)"
   ]
  },
  {
   "cell_type": "code",
   "execution_count": 4,
   "metadata": {},
   "outputs": [],
   "source": [
    "meta_index_mirna = mirna.columns\n",
    "meta_index_mirna= meta_index_mirna[2:]\n",
    "tops = ['miRNA']\n",
    "tops.extend( list(meta_index_mirna))\n",
    "mirna = mirna[tops]"
   ]
  },
  {
   "cell_type": "code",
   "execution_count": 5,
   "metadata": {},
   "outputs": [
    {
     "data": {
      "text/plain": [
       "(853, 1447)"
      ]
     },
     "execution_count": 5,
     "metadata": {},
     "output_type": "execute_result"
    }
   ],
   "source": [
    "mirna.shape"
   ]
  },
  {
   "cell_type": "code",
   "execution_count": 6,
   "metadata": {},
   "outputs": [
    {
     "data": {
      "text/plain": [
       "170.6"
      ]
     },
     "execution_count": 6,
     "metadata": {},
     "output_type": "execute_result"
    }
   ],
   "source": [
    "(mirna.shape[0] /100)* 20"
   ]
  },
  {
   "cell_type": "code",
   "execution_count": 7,
   "metadata": {},
   "outputs": [],
   "source": [
    "for c in mirna.columns:\n",
    "    missing = mirna[c].isnull().sum()\n",
    "    if missing >= 171:\n",
    "        del mirna[c]\n",
    "        print(c)"
   ]
  },
  {
   "cell_type": "code",
   "execution_count": 8,
   "metadata": {},
   "outputs": [
    {
     "data": {
      "text/plain": [
       "(853, 1447)"
      ]
     },
     "execution_count": 8,
     "metadata": {},
     "output_type": "execute_result"
    }
   ],
   "source": [
    "mirna.shape"
   ]
  },
  {
   "cell_type": "code",
   "execution_count": 9,
   "metadata": {},
   "outputs": [
    {
     "data": {
      "text/plain": [
       "289.40000000000003"
      ]
     },
     "execution_count": 9,
     "metadata": {},
     "output_type": "execute_result"
    }
   ],
   "source": [
    "(1447 / 100 )*20"
   ]
  },
  {
   "cell_type": "code",
   "execution_count": 10,
   "metadata": {},
   "outputs": [
    {
     "data": {
      "text/plain": [
       "[]"
      ]
     },
     "execution_count": 10,
     "metadata": {},
     "output_type": "execute_result"
    }
   ],
   "source": [
    "#Find is a feature is missing more than 20%\n",
    "missing = mirna.isnull().sum(axis=1).tolist()\n",
    "\n",
    "todel = list()\n",
    "for idx, m in enumerate(missing):\n",
    "    if m >= 289:\n",
    "        todel.append(idx)\n",
    "todel"
   ]
  },
  {
   "cell_type": "code",
   "execution_count": 11,
   "metadata": {},
   "outputs": [],
   "source": [
    "# immputation using KNN 20 neigh\n",
    "from sklearn import neighbors\n",
    "import numpy as np"
   ]
  },
  {
   "cell_type": "code",
   "execution_count": 13,
   "metadata": {},
   "outputs": [],
   "source": [
    "# custom version of  https://github.com/bwanglzu/Imputer.py/blob/master/imputer/imputer.py\n",
    "\n",
    "class Imputer:\n",
    "    \"\"\"Imputer class.\"\"\"\n",
    "    def __init():\n",
    "        return\n",
    "\n",
    "    def _fit(self, X, column, k=10, is_categorical=False):\n",
    "        \"\"\"Fit a knn classifier for missing column.\n",
    "        - Args:\n",
    "                X(numpy.ndarray): input data\n",
    "                column(int): column id to be imputed\n",
    "                k(int): number of nearest neighbors, default 10\n",
    "                is_categorical(boolean): is continuous or categorical feature\n",
    "        - Returns:\n",
    "                clf: trained k nearest neighbour classifier\n",
    "        \"\"\"\n",
    "        clf = None\n",
    "        if not is_categorical:\n",
    "            clf = neighbors.KNeighborsRegressor(n_neighbors=k, n_jobs=4)\n",
    "        else:\n",
    "            clf = neighbors.KNeighborsClassifier(n_neighbors=k, n_jobs=4)\n",
    "        # use column not null to train the kNN classifier\n",
    "        missing_idxes = np.where(pd.isnull(X[:, column]))[0]\n",
    "        if len(missing_idxes) == 0:\n",
    "            return None\n",
    "        X_copy = np.delete(X, missing_idxes, 0)\n",
    "        X_train = np.delete(X_copy, column, 1)\n",
    "        # if other columns still have missing values fill with mean\n",
    "        col_mean = None\n",
    "        if not is_categorical:\n",
    "            col_mean = np.nanmean(X, 0)\n",
    "        else:\n",
    "            col_mean = np.nanmedian(X, 0)\n",
    "        for col_id in range(0, len(col_mean) - 1):\n",
    "            col_missing_idxes = np.where(np.isnan(X_train[:, col_id]))[0]\n",
    "            if len(col_missing_idxes) == 0:\n",
    "                continue\n",
    "            else:\n",
    "                X_train[col_missing_idxes, col_id] = col_mean[col_id]\n",
    "        y_train = X_copy[:, column]\n",
    "        # fit classifier\n",
    "        clf.fit(X_train, y_train)\n",
    "        return clf\n",
    "\n",
    "    def _transform(self, X, column, clf, is_categorical):\n",
    "        \"\"\"Impute missing values.\n",
    "        - Args:\n",
    "                X(numpy.ndarray): input numpy ndarray\n",
    "                column(int): index of column to be imputed\n",
    "                clf: pretrained classifier\n",
    "                is_categorical(boolean): is continuous or categorical feature\n",
    "        - Returns:\n",
    "                X(pandas.dataframe): imputed dataframe\n",
    "        \"\"\"\n",
    "        missing_idxes = np.where(np.isnan(X[:, column]))[0]\n",
    "        X_test = X[missing_idxes, :]\n",
    "        X_test = np.delete(X_test, column, 1)\n",
    "        # if other columns still have missing values fill with mean\n",
    "        col_mean = None\n",
    "        if not is_categorical:\n",
    "            col_mean = np.nanmean(X, 0)\n",
    "        else:\n",
    "            col_mean = np.nanmedian(X, 0)\n",
    "        # fill missing values in each column with current col_mean\n",
    "        for col_id in range(0, len(col_mean) - 1):\n",
    "            col_missing_idxes = np.where(np.isnan(X_test[:, col_id]))[0]\n",
    "            # if no missing values for current column\n",
    "            if len(col_missing_idxes) == 0:\n",
    "                continue\n",
    "            else:\n",
    "                X_test[col_missing_idxes, col_id] = col_mean[col_id]\n",
    "        # predict missing values\n",
    "        y_test = clf.predict(X_test)\n",
    "        X[missing_idxes, column] = y_test\n",
    "        return X\n",
    "\n",
    "    def knn(self, X, column, k=10, is_categorical=False):\n",
    "        \"\"\"Impute missing value with knn.\n",
    "        - Args:\n",
    "                X(pandas.dataframe): dataframe\n",
    "                column(str): column name to be imputed\n",
    "                k(int): number of nearest neighbors, default 10\n",
    "                is_categorical(boolean): is continuous or categorical feature\n",
    "        - Returns:\n",
    "                X_imputed(pandas.dataframe): imputed pandas dataframe\n",
    "        \"\"\"\n",
    "        X, column = self._check_X_y(X, column)\n",
    "        clf = self._fit(X, column, k, is_categorical)\n",
    "        if clf is None:\n",
    "            return X\n",
    "        else:\n",
    "            X_imputed = self._transform(X, column, clf, is_categorical)\n",
    "            return X_imputed\n",
    "\n",
    "    def _check_X_y(self, X, column):\n",
    "        \"\"\"Check input, if pandas.dataframe, transform to numpy array.\n",
    "        - Args:\n",
    "                X(ndarray/pandas.dataframe): input instances\n",
    "                column(str/int): column index or column name\n",
    "        - Returns:\n",
    "                X(ndarray): input instances\n",
    "        \"\"\"\n",
    "        column_idx = None\n",
    "        X = X.select_dtypes(include=[np.number])\n",
    "\n",
    "        if isinstance(X, pd.core.frame.DataFrame):\n",
    "            if isinstance(column, str):\n",
    "                # get index of current column\n",
    "                column_idx = X.columns.get_loc(column)\n",
    "            else:\n",
    "                column_idx = column\n",
    "            X = X.as_matrix()\n",
    "        else:\n",
    "            column_idx = column\n",
    "        return X, column_idx"
   ]
  },
  {
   "cell_type": "code",
   "execution_count": null,
   "metadata": {},
   "outputs": [],
   "source": []
  },
  {
   "cell_type": "code",
   "execution_count": 14,
   "metadata": {},
   "outputs": [],
   "source": [
    "imputer = Imputer()"
   ]
  },
  {
   "cell_type": "code",
   "execution_count": 15,
   "metadata": {},
   "outputs": [],
   "source": [
    "imirna = mirna.copy()\n",
    "#for c in icnv.columns:\n",
    "#    missing = icnv[c].isnull().sum()\n",
    "#    if missing > 0:\n",
    "#        imputed = imputer.knn(icnv, c, k=20 )\n",
    "#        icnv[c] = imputed[c]\n",
    "        \n",
    "#a = imputer.knn(icnv, \"MB-5104\",k=20)       \n"
   ]
  },
  {
   "cell_type": "code",
   "execution_count": 18,
   "metadata": {},
   "outputs": [],
   "source": [
    "for c in imirna.columns:\n",
    "    missing = imirna[c].isnull().sum()\n",
    "    if missing > 0:\n",
    "#        imputed = imputer.knn(icnv, c, k=20 )\n",
    "        imirna[c] = imputer.knn(iexp, c, k=20 )\n",
    "        \n",
    "#a = imputer.knn(icnv, \"MB-5104\",k=20)      "
   ]
  },
  {
   "cell_type": "code",
   "execution_count": 17,
   "metadata": {},
   "outputs": [
    {
     "data": {
      "text/plain": [
       "0"
      ]
     },
     "execution_count": 17,
     "metadata": {},
     "output_type": "execute_result"
    }
   ],
   "source": [
    "sum(mirna.isnull().sum())"
   ]
  },
  {
   "cell_type": "code",
   "execution_count": null,
   "metadata": {},
   "outputs": [],
   "source": []
  },
  {
   "cell_type": "code",
   "execution_count": 19,
   "metadata": {},
   "outputs": [],
   "source": [
    "mirna.to_csv('METABRIC_miRNA_data_implaced.txt',index=False,sep='\\t')"
   ]
  },
  {
   "cell_type": "code",
   "execution_count": 20,
   "metadata": {},
   "outputs": [
    {
     "name": "stdout",
     "output_type": "stream",
     "text": [
      "2018-03-02-preprocessing-metabric-CNV-Cleaning.ipynb\r\n",
      "2018-03-02-preprocessing-metabric-EXP-Cleaning.ipynb\r\n",
      "2018-03-02-preprocessing-metabric-mirna-Cleaning.ipynb\r\n",
      "2018-03-2-Merging-with-CNV.ipynb\r\n",
      "METABRICCNV_CNV_data.txt\r\n",
      "METABRIC_CNV_data.txt\r\n",
      "METABRICCNV_Gene_Expression.txt\r\n",
      "METABRIC_CNV_implaced_transformed.txt\r\n",
      "METABRIC_CNV_implaced.txt\r\n",
      "METABRICCNV_Survival.txt\r\n",
      "METABRIC_Gene_Expression_data_implaced.txt\r\n",
      "METABRIC_Gene_Expression.txt\r\n",
      "METABRIC_miRNA_data_implaced.txt\r\n",
      "METABRIC_Mirna_Expression.txt\r\n",
      "METABRIC_Survival.txt\r\n",
      "preprocessing-metabric-CNV.ipynb\r\n",
      "preprocessing-metabric.ipynb\r\n",
      "Untitled1.ipynb\r\n",
      "Untitled2.ipynb\r\n",
      "Untitled.ipynb\r\n"
     ]
    }
   ],
   "source": [
    "!ls"
   ]
  },
  {
   "cell_type": "code",
   "execution_count": null,
   "metadata": {},
   "outputs": [],
   "source": []
  }
 ],
 "metadata": {
  "anaconda-cloud": {},
  "kernelspec": {
   "display_name": "Python [conda root]",
   "language": "python",
   "name": "conda-root-py"
  },
  "language_info": {
   "codemirror_mode": {
    "name": "ipython",
    "version": 3
   },
   "file_extension": ".py",
   "mimetype": "text/x-python",
   "name": "python",
   "nbconvert_exporter": "python",
   "pygments_lexer": "ipython3",
   "version": "3.5.4"
  },
  "nav_menu": {},
  "toc": {
   "navigate_menu": true,
   "number_sections": true,
   "sideBar": true,
   "threshold": 6,
   "toc_cell": false,
   "toc_section_display": "block",
   "toc_window_display": false
  }
 },
 "nbformat": 4,
 "nbformat_minor": 2
}
