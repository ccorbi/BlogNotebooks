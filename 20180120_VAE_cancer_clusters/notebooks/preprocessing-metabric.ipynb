{
 "cells": [
  {
   "cell_type": "code",
   "execution_count": 1,
   "metadata": {},
   "outputs": [],
   "source": [
    "import pandas as pd"
   ]
  },
  {
   "cell_type": "code",
   "execution_count": 5,
   "metadata": {},
   "outputs": [
    {
     "data": {
      "text/html": [
       "<div>\n",
       "<style scoped>\n",
       "    .dataframe tbody tr th:only-of-type {\n",
       "        vertical-align: middle;\n",
       "    }\n",
       "\n",
       "    .dataframe tbody tr th {\n",
       "        vertical-align: top;\n",
       "    }\n",
       "\n",
       "    .dataframe thead th {\n",
       "        text-align: right;\n",
       "    }\n",
       "</style>\n",
       "<table border=\"1\" class=\"dataframe\">\n",
       "  <thead>\n",
       "    <tr style=\"text-align: right;\">\n",
       "      <th></th>\n",
       "      <th></th>\n",
       "      <th>TCGA-18-3406-01A-01R-1031-01</th>\n",
       "      <th>TCGA-18-3407-01A-01R-1031-01</th>\n",
       "      <th>TCGA-18-3408-01A-01R-1031-01</th>\n",
       "      <th>TCGA-18-3410-01A-01R-1031-01</th>\n",
       "      <th>TCGA-18-3411-01A-01R-1031-01</th>\n",
       "      <th>TCGA-18-3412-01A-01R-1031-01</th>\n",
       "      <th>TCGA-18-3414-01A-01R-1031-01</th>\n",
       "      <th>TCGA-18-3415-01A-01R-1031-01</th>\n",
       "      <th>TCGA-18-3416-01A-01R-1031-01</th>\n",
       "      <th>...</th>\n",
       "      <th>TCGA-66-2787-01A-01R-1031-01</th>\n",
       "      <th>TCGA-66-2788-01A-01R-1031-01</th>\n",
       "      <th>TCGA-66-2789-01A-01R-1031-01</th>\n",
       "      <th>TCGA-66-2790-01A-01R-1031-01</th>\n",
       "      <th>TCGA-66-2791-01A-01R-1031-01</th>\n",
       "      <th>TCGA-66-2792-01A-01R-1031-01</th>\n",
       "      <th>TCGA-66-2793-01A-01R-1199-01</th>\n",
       "      <th>TCGA-66-2794-01A-01R-1199-01</th>\n",
       "      <th>TCGA-66-2795-01A-02R-1031-01</th>\n",
       "      <th>TCGA-66-2800-01A-01R-1199-01</th>\n",
       "    </tr>\n",
       "  </thead>\n",
       "  <tbody>\n",
       "    <tr>\n",
       "      <th>NTS</th>\n",
       "      <td>-0.806226</td>\n",
       "      <td>-0.382872</td>\n",
       "      <td>0.401741</td>\n",
       "      <td>-1.411283</td>\n",
       "      <td>0.753000</td>\n",
       "      <td>0.736499</td>\n",
       "      <td>0.884528</td>\n",
       "      <td>-0.658622</td>\n",
       "      <td>-1.364281</td>\n",
       "      <td>-0.026033</td>\n",
       "      <td>...</td>\n",
       "      <td>1.034772</td>\n",
       "      <td>-0.702329</td>\n",
       "      <td>-1.199132</td>\n",
       "      <td>0.508934</td>\n",
       "      <td>0.970896</td>\n",
       "      <td>1.229138</td>\n",
       "      <td>0.112034</td>\n",
       "      <td>1.176520</td>\n",
       "      <td>0.344574</td>\n",
       "      <td>NaN</td>\n",
       "    </tr>\n",
       "    <tr>\n",
       "      <th>KRT14</th>\n",
       "      <td>1.479097</td>\n",
       "      <td>1.444322</td>\n",
       "      <td>-0.860771</td>\n",
       "      <td>-1.215284</td>\n",
       "      <td>0.393626</td>\n",
       "      <td>0.563601</td>\n",
       "      <td>0.050821</td>\n",
       "      <td>0.637788</td>\n",
       "      <td>-1.426153</td>\n",
       "      <td>-0.384999</td>\n",
       "      <td>...</td>\n",
       "      <td>1.419102</td>\n",
       "      <td>0.598151</td>\n",
       "      <td>-0.381585</td>\n",
       "      <td>0.993165</td>\n",
       "      <td>0.716151</td>\n",
       "      <td>-1.267115</td>\n",
       "      <td>-1.044408</td>\n",
       "      <td>0.583019</td>\n",
       "      <td>-0.377197</td>\n",
       "      <td>NaN</td>\n",
       "    </tr>\n",
       "  </tbody>\n",
       "</table>\n",
       "<p>2 rows × 107 columns</p>\n",
       "</div>"
      ],
      "text/plain": [
       "                 TCGA-18-3406-01A-01R-1031-01  TCGA-18-3407-01A-01R-1031-01  \\\n",
       "NTS   -0.806226                     -0.382872                      0.401741   \n",
       "KRT14  1.479097                      1.444322                     -0.860771   \n",
       "\n",
       "       TCGA-18-3408-01A-01R-1031-01  TCGA-18-3410-01A-01R-1031-01  \\\n",
       "NTS                       -1.411283                      0.753000   \n",
       "KRT14                     -1.215284                      0.393626   \n",
       "\n",
       "       TCGA-18-3411-01A-01R-1031-01  TCGA-18-3412-01A-01R-1031-01  \\\n",
       "NTS                        0.736499                      0.884528   \n",
       "KRT14                      0.563601                      0.050821   \n",
       "\n",
       "       TCGA-18-3414-01A-01R-1031-01  TCGA-18-3415-01A-01R-1031-01  \\\n",
       "NTS                       -0.658622                     -1.364281   \n",
       "KRT14                      0.637788                     -1.426153   \n",
       "\n",
       "       TCGA-18-3416-01A-01R-1031-01              ...               \\\n",
       "NTS                       -0.026033              ...                \n",
       "KRT14                     -0.384999              ...                \n",
       "\n",
       "       TCGA-66-2787-01A-01R-1031-01  TCGA-66-2788-01A-01R-1031-01  \\\n",
       "NTS                        1.034772                     -0.702329   \n",
       "KRT14                      1.419102                      0.598151   \n",
       "\n",
       "       TCGA-66-2789-01A-01R-1031-01  TCGA-66-2790-01A-01R-1031-01  \\\n",
       "NTS                       -1.199132                      0.508934   \n",
       "KRT14                     -0.381585                      0.993165   \n",
       "\n",
       "       TCGA-66-2791-01A-01R-1031-01  TCGA-66-2792-01A-01R-1031-01  \\\n",
       "NTS                        0.970896                      1.229138   \n",
       "KRT14                      0.716151                     -1.267115   \n",
       "\n",
       "       TCGA-66-2793-01A-01R-1199-01  TCGA-66-2794-01A-01R-1199-01  \\\n",
       "NTS                        0.112034                      1.176520   \n",
       "KRT14                     -1.044408                      0.583019   \n",
       "\n",
       "       TCGA-66-2795-01A-02R-1031-01  TCGA-66-2800-01A-01R-1199-01  \n",
       "NTS                        0.344574                           NaN  \n",
       "KRT14                     -0.377197                           NaN  \n",
       "\n",
       "[2 rows x 107 columns]"
      ]
     },
     "execution_count": 5,
     "metadata": {},
     "output_type": "execute_result"
    }
   ],
   "source": [
    "ref = pd.read_csv('../data/LUNG/LUNG_Gene_Expression.txt', sep='\\t')\n",
    "ref.head(2)"
   ]
  },
  {
   "cell_type": "code",
   "execution_count": 9,
   "metadata": {},
   "outputs": [
    {
     "data": {
      "text/html": [
       "<div>\n",
       "<style scoped>\n",
       "    .dataframe tbody tr th:only-of-type {\n",
       "        vertical-align: middle;\n",
       "    }\n",
       "\n",
       "    .dataframe tbody tr th {\n",
       "        vertical-align: top;\n",
       "    }\n",
       "\n",
       "    .dataframe thead th {\n",
       "        text-align: right;\n",
       "    }\n",
       "</style>\n",
       "<table border=\"1\" class=\"dataframe\">\n",
       "  <thead>\n",
       "    <tr style=\"text-align: right;\">\n",
       "      <th></th>\n",
       "      <th></th>\n",
       "      <th>TCGA-18-3406-01A-01T-0981-13</th>\n",
       "      <th>TCGA-18-3407-01A-01T-0981-13</th>\n",
       "      <th>TCGA-18-3408-01A-01T-0981-13</th>\n",
       "      <th>TCGA-18-3410-01A-01T-0981-13</th>\n",
       "      <th>TCGA-18-3411-01A-01T-0981-13</th>\n",
       "      <th>TCGA-18-3412-01A-01T-0981-13</th>\n",
       "      <th>TCGA-18-3414-01A-01T-0981-13</th>\n",
       "      <th>TCGA-18-3415-01A-01T-0981-13</th>\n",
       "      <th>TCGA-18-3416-01A-01T-0981-13</th>\n",
       "      <th>...</th>\n",
       "      <th>TCGA-66-2787-01A-01T-0981-13</th>\n",
       "      <th>TCGA-66-2788-01A-01T-0981-13</th>\n",
       "      <th>TCGA-66-2789-01A-01T-0981-13</th>\n",
       "      <th>TCGA-66-2790-01A-01T-0981-13</th>\n",
       "      <th>TCGA-66-2791-01A-01T-0981-13</th>\n",
       "      <th>TCGA-66-2792-01A-01T-0981-13</th>\n",
       "      <th>TCGA-66-2793-01A-01T-1517-13</th>\n",
       "      <th>TCGA-66-2794-01A-01T-1517-13</th>\n",
       "      <th>TCGA-66-2795-01A-02T-0981-13</th>\n",
       "      <th>TCGA-66-2800-01A-01T-1517-13</th>\n",
       "    </tr>\n",
       "  </thead>\n",
       "  <tbody>\n",
       "    <tr>\n",
       "      <th>hsa-let-7a-1</th>\n",
       "      <td>2.766139</td>\n",
       "      <td>0.510633</td>\n",
       "      <td>2.060634</td>\n",
       "      <td>0.424424</td>\n",
       "      <td>0.292791</td>\n",
       "      <td>0.448047</td>\n",
       "      <td>3.124130</td>\n",
       "      <td>1.014758</td>\n",
       "      <td>-0.126167</td>\n",
       "      <td>-1.189114</td>\n",
       "      <td>...</td>\n",
       "      <td>0.183223</td>\n",
       "      <td>0.053349</td>\n",
       "      <td>0.328862</td>\n",
       "      <td>0.430933</td>\n",
       "      <td>0.040348</td>\n",
       "      <td>-0.687801</td>\n",
       "      <td>0.196365</td>\n",
       "      <td>0.520870</td>\n",
       "      <td>1.551996</td>\n",
       "      <td>NaN</td>\n",
       "    </tr>\n",
       "    <tr>\n",
       "      <th>hsa-let-7a-2</th>\n",
       "      <td>2.718831</td>\n",
       "      <td>0.514435</td>\n",
       "      <td>2.071900</td>\n",
       "      <td>0.402256</td>\n",
       "      <td>0.277827</td>\n",
       "      <td>0.565700</td>\n",
       "      <td>3.094992</td>\n",
       "      <td>0.994815</td>\n",
       "      <td>-0.135827</td>\n",
       "      <td>-1.183850</td>\n",
       "      <td>...</td>\n",
       "      <td>0.118006</td>\n",
       "      <td>0.073525</td>\n",
       "      <td>0.244412</td>\n",
       "      <td>0.345755</td>\n",
       "      <td>0.031369</td>\n",
       "      <td>-0.753868</td>\n",
       "      <td>0.233260</td>\n",
       "      <td>0.480447</td>\n",
       "      <td>1.637500</td>\n",
       "      <td>NaN</td>\n",
       "    </tr>\n",
       "  </tbody>\n",
       "</table>\n",
       "<p>2 rows × 107 columns</p>\n",
       "</div>"
      ],
      "text/plain": [
       "                        TCGA-18-3406-01A-01T-0981-13  \\\n",
       "hsa-let-7a-1  2.766139                      0.510633   \n",
       "hsa-let-7a-2  2.718831                      0.514435   \n",
       "\n",
       "              TCGA-18-3407-01A-01T-0981-13  TCGA-18-3408-01A-01T-0981-13  \\\n",
       "hsa-let-7a-1                      2.060634                      0.424424   \n",
       "hsa-let-7a-2                      2.071900                      0.402256   \n",
       "\n",
       "              TCGA-18-3410-01A-01T-0981-13  TCGA-18-3411-01A-01T-0981-13  \\\n",
       "hsa-let-7a-1                      0.292791                      0.448047   \n",
       "hsa-let-7a-2                      0.277827                      0.565700   \n",
       "\n",
       "              TCGA-18-3412-01A-01T-0981-13  TCGA-18-3414-01A-01T-0981-13  \\\n",
       "hsa-let-7a-1                      3.124130                      1.014758   \n",
       "hsa-let-7a-2                      3.094992                      0.994815   \n",
       "\n",
       "              TCGA-18-3415-01A-01T-0981-13  TCGA-18-3416-01A-01T-0981-13  \\\n",
       "hsa-let-7a-1                     -0.126167                     -1.189114   \n",
       "hsa-let-7a-2                     -0.135827                     -1.183850   \n",
       "\n",
       "                          ...               TCGA-66-2787-01A-01T-0981-13  \\\n",
       "hsa-let-7a-1              ...                                   0.183223   \n",
       "hsa-let-7a-2              ...                                   0.118006   \n",
       "\n",
       "              TCGA-66-2788-01A-01T-0981-13  TCGA-66-2789-01A-01T-0981-13  \\\n",
       "hsa-let-7a-1                      0.053349                      0.328862   \n",
       "hsa-let-7a-2                      0.073525                      0.244412   \n",
       "\n",
       "              TCGA-66-2790-01A-01T-0981-13  TCGA-66-2791-01A-01T-0981-13  \\\n",
       "hsa-let-7a-1                      0.430933                      0.040348   \n",
       "hsa-let-7a-2                      0.345755                      0.031369   \n",
       "\n",
       "              TCGA-66-2792-01A-01T-0981-13  TCGA-66-2793-01A-01T-1517-13  \\\n",
       "hsa-let-7a-1                     -0.687801                      0.196365   \n",
       "hsa-let-7a-2                     -0.753868                      0.233260   \n",
       "\n",
       "              TCGA-66-2794-01A-01T-1517-13  TCGA-66-2795-01A-02T-0981-13  \\\n",
       "hsa-let-7a-1                      0.520870                      1.551996   \n",
       "hsa-let-7a-2                      0.480447                      1.637500   \n",
       "\n",
       "              TCGA-66-2800-01A-01T-1517-13  \n",
       "hsa-let-7a-1                           NaN  \n",
       "hsa-let-7a-2                           NaN  \n",
       "\n",
       "[2 rows x 107 columns]"
      ]
     },
     "execution_count": 9,
     "metadata": {},
     "output_type": "execute_result"
    }
   ],
   "source": [
    "ref2 = pd.read_csv('../data/LUNG/LUNG_Mirna_Expression.txt', sep='\\t')\n",
    "ref2.head(2)"
   ]
  },
  {
   "cell_type": "code",
   "execution_count": 11,
   "metadata": {},
   "outputs": [
    {
     "data": {
      "text/html": [
       "<div>\n",
       "<style scoped>\n",
       "    .dataframe tbody tr th:only-of-type {\n",
       "        vertical-align: middle;\n",
       "    }\n",
       "\n",
       "    .dataframe tbody tr th {\n",
       "        vertical-align: top;\n",
       "    }\n",
       "\n",
       "    .dataframe thead th {\n",
       "        text-align: right;\n",
       "    }\n",
       "</style>\n",
       "<table border=\"1\" class=\"dataframe\">\n",
       "  <thead>\n",
       "    <tr style=\"text-align: right;\">\n",
       "      <th></th>\n",
       "      <th>PatientID</th>\n",
       "      <th>Survival</th>\n",
       "      <th>Death</th>\n",
       "    </tr>\n",
       "  </thead>\n",
       "  <tbody>\n",
       "    <tr>\n",
       "      <th>0</th>\n",
       "      <td>TCGA-18-3406-01A-01T-0981-13</td>\n",
       "      <td>371</td>\n",
       "      <td>0</td>\n",
       "    </tr>\n",
       "    <tr>\n",
       "      <th>1</th>\n",
       "      <td>TCGA-18-3407-01A-01T-0981-13</td>\n",
       "      <td>227</td>\n",
       "      <td>0</td>\n",
       "    </tr>\n",
       "  </tbody>\n",
       "</table>\n",
       "</div>"
      ],
      "text/plain": [
       "                      PatientID  Survival  Death\n",
       "0  TCGA-18-3406-01A-01T-0981-13       371      0\n",
       "1  TCGA-18-3407-01A-01T-0981-13       227      0"
      ]
     },
     "execution_count": 11,
     "metadata": {},
     "output_type": "execute_result"
    }
   ],
   "source": [
    "ref3 = pd.read_csv('../data/LUNG/LUNG_Survival.txt', sep='\\t')\n",
    "ref3.head(2)"
   ]
  },
  {
   "cell_type": "code",
   "execution_count": 30,
   "metadata": {},
   "outputs": [
    {
     "data": {
      "text/plain": [
       "1    66\n",
       "0    40\n",
       "Name: Death, dtype: int64"
      ]
     },
     "execution_count": 30,
     "metadata": {},
     "output_type": "execute_result"
    }
   ],
   "source": [
    "ref3['Death'].value_counts()"
   ]
  },
  {
   "cell_type": "code",
   "execution_count": 6,
   "metadata": {},
   "outputs": [],
   "source": [
    "meta_expt = pd.read_csv('../data/METABRIC/data_expression.txt', sep='\\t')\n"
   ]
  },
  {
   "cell_type": "code",
   "execution_count": 7,
   "metadata": {},
   "outputs": [
    {
     "data": {
      "text/html": [
       "<div>\n",
       "<style scoped>\n",
       "    .dataframe tbody tr th:only-of-type {\n",
       "        vertical-align: middle;\n",
       "    }\n",
       "\n",
       "    .dataframe tbody tr th {\n",
       "        vertical-align: top;\n",
       "    }\n",
       "\n",
       "    .dataframe thead th {\n",
       "        text-align: right;\n",
       "    }\n",
       "</style>\n",
       "<table border=\"1\" class=\"dataframe\">\n",
       "  <thead>\n",
       "    <tr style=\"text-align: right;\">\n",
       "      <th></th>\n",
       "      <th>Hugo_Symbol</th>\n",
       "      <th>Entrez_Gene_Id</th>\n",
       "      <th>MB-0362</th>\n",
       "      <th>MB-0346</th>\n",
       "      <th>MB-0386</th>\n",
       "      <th>MB-0574</th>\n",
       "      <th>MB-0503</th>\n",
       "      <th>MB-0641</th>\n",
       "      <th>MB-0201</th>\n",
       "      <th>MB-0218</th>\n",
       "      <th>...</th>\n",
       "      <th>MB-6122</th>\n",
       "      <th>MB-6192</th>\n",
       "      <th>MB-4820</th>\n",
       "      <th>MB-5527</th>\n",
       "      <th>MB-5167</th>\n",
       "      <th>MB-5465</th>\n",
       "      <th>MB-5453</th>\n",
       "      <th>MB-5471</th>\n",
       "      <th>MB-5127</th>\n",
       "      <th>MB-4313</th>\n",
       "    </tr>\n",
       "  </thead>\n",
       "  <tbody>\n",
       "    <tr>\n",
       "      <th>0</th>\n",
       "      <td>RERE</td>\n",
       "      <td>473.0</td>\n",
       "      <td>8.676978</td>\n",
       "      <td>9.653589</td>\n",
       "      <td>9.033589</td>\n",
       "      <td>8.814855</td>\n",
       "      <td>9.274265</td>\n",
       "      <td>9.286585</td>\n",
       "      <td>8.437347</td>\n",
       "      <td>8.569973</td>\n",
       "      <td>...</td>\n",
       "      <td>8.756024</td>\n",
       "      <td>8.804947</td>\n",
       "      <td>9.991215</td>\n",
       "      <td>9.595923</td>\n",
       "      <td>9.637249</td>\n",
       "      <td>8.131637</td>\n",
       "      <td>9.606915</td>\n",
       "      <td>9.049296</td>\n",
       "      <td>8.858622</td>\n",
       "      <td>8.415867</td>\n",
       "    </tr>\n",
       "    <tr>\n",
       "      <th>1</th>\n",
       "      <td>RNF165</td>\n",
       "      <td>494470.0</td>\n",
       "      <td>6.075331</td>\n",
       "      <td>6.687887</td>\n",
       "      <td>5.910885</td>\n",
       "      <td>5.628740</td>\n",
       "      <td>5.908698</td>\n",
       "      <td>6.206729</td>\n",
       "      <td>6.095592</td>\n",
       "      <td>6.383530</td>\n",
       "      <td>...</td>\n",
       "      <td>7.101087</td>\n",
       "      <td>5.601472</td>\n",
       "      <td>7.103160</td>\n",
       "      <td>6.418987</td>\n",
       "      <td>6.203370</td>\n",
       "      <td>9.101942</td>\n",
       "      <td>7.427494</td>\n",
       "      <td>6.850000</td>\n",
       "      <td>6.550450</td>\n",
       "      <td>6.831722</td>\n",
       "    </tr>\n",
       "  </tbody>\n",
       "</table>\n",
       "<p>2 rows × 1906 columns</p>\n",
       "</div>"
      ],
      "text/plain": [
       "  Hugo_Symbol  Entrez_Gene_Id   MB-0362   MB-0346   MB-0386   MB-0574  \\\n",
       "0        RERE           473.0  8.676978  9.653589  9.033589  8.814855   \n",
       "1      RNF165        494470.0  6.075331  6.687887  5.910885  5.628740   \n",
       "\n",
       "    MB-0503   MB-0641   MB-0201   MB-0218    ...      MB-6122   MB-6192  \\\n",
       "0  9.274265  9.286585  8.437347  8.569973    ...     8.756024  8.804947   \n",
       "1  5.908698  6.206729  6.095592  6.383530    ...     7.101087  5.601472   \n",
       "\n",
       "    MB-4820   MB-5527   MB-5167   MB-5465   MB-5453   MB-5471   MB-5127  \\\n",
       "0  9.991215  9.595923  9.637249  8.131637  9.606915  9.049296  8.858622   \n",
       "1  7.103160  6.418987  6.203370  9.101942  7.427494  6.850000  6.550450   \n",
       "\n",
       "    MB-4313  \n",
       "0  8.415867  \n",
       "1  6.831722  \n",
       "\n",
       "[2 rows x 1906 columns]"
      ]
     },
     "execution_count": 7,
     "metadata": {},
     "output_type": "execute_result"
    }
   ],
   "source": [
    "meta_expt.head(2)"
   ]
  },
  {
   "cell_type": "code",
   "execution_count": 8,
   "metadata": {},
   "outputs": [],
   "source": [
    "del meta_expt['Entrez_Gene_Id']"
   ]
  },
  {
   "cell_type": "code",
   "execution_count": 10,
   "metadata": {},
   "outputs": [],
   "source": [
    "#meta_expt.to_csv('../data/METABRIC/METABRIC_Gene_Expression.txt',sep='\\t')"
   ]
  },
  {
   "cell_type": "code",
   "execution_count": 14,
   "metadata": {},
   "outputs": [],
   "source": [
    "meta_mirna = pd.read_csv('../data/METABRIC/_ega-box-04_Agilent_ncRNA_60k_normalised_miRNA_expression.csv', sep='\\t')\n"
   ]
  },
  {
   "cell_type": "code",
   "execution_count": 15,
   "metadata": {},
   "outputs": [
    {
     "data": {
      "text/html": [
       "<div>\n",
       "<style scoped>\n",
       "    .dataframe tbody tr th:only-of-type {\n",
       "        vertical-align: middle;\n",
       "    }\n",
       "\n",
       "    .dataframe tbody tr th {\n",
       "        vertical-align: top;\n",
       "    }\n",
       "\n",
       "    .dataframe thead th {\n",
       "        text-align: right;\n",
       "    }\n",
       "</style>\n",
       "<table border=\"1\" class=\"dataframe\">\n",
       "  <thead>\n",
       "    <tr style=\"text-align: right;\">\n",
       "      <th></th>\n",
       "      <th>ProbeID</th>\n",
       "      <th>miRNA</th>\n",
       "      <th>MB-2718</th>\n",
       "      <th>MB-2616</th>\n",
       "      <th>MB-2634</th>\n",
       "      <th>MB-2643</th>\n",
       "      <th>MB-2613</th>\n",
       "      <th>MB-2629</th>\n",
       "      <th>MB-2645</th>\n",
       "      <th>MB-2626</th>\n",
       "      <th>...</th>\n",
       "      <th>MB-0619</th>\n",
       "      <th>MB-0171</th>\n",
       "      <th>MB-0310</th>\n",
       "      <th>MB-0489</th>\n",
       "      <th>MB-0621</th>\n",
       "      <th>MB-0614</th>\n",
       "      <th>MB-0372</th>\n",
       "      <th>MB-0335</th>\n",
       "      <th>MB-0407</th>\n",
       "      <th>MB-0374</th>\n",
       "    </tr>\n",
       "  </thead>\n",
       "  <tbody>\n",
       "    <tr>\n",
       "      <th>0</th>\n",
       "      <td>A_25_P00013119</td>\n",
       "      <td>hsa-let-7b*</td>\n",
       "      <td>6.292</td>\n",
       "      <td>6.445</td>\n",
       "      <td>6.406</td>\n",
       "      <td>6.333</td>\n",
       "      <td>6.281</td>\n",
       "      <td>6.410</td>\n",
       "      <td>6.386</td>\n",
       "      <td>6.319</td>\n",
       "      <td>...</td>\n",
       "      <td>6.209</td>\n",
       "      <td>6.526</td>\n",
       "      <td>6.344</td>\n",
       "      <td>6.587</td>\n",
       "      <td>6.304</td>\n",
       "      <td>6.324</td>\n",
       "      <td>6.325</td>\n",
       "      <td>6.322</td>\n",
       "      <td>6.301</td>\n",
       "      <td>6.411</td>\n",
       "    </tr>\n",
       "    <tr>\n",
       "      <th>1</th>\n",
       "      <td>A_25_P00011980</td>\n",
       "      <td>hsa-let-7d</td>\n",
       "      <td>11.813</td>\n",
       "      <td>10.380</td>\n",
       "      <td>10.028</td>\n",
       "      <td>10.624</td>\n",
       "      <td>9.235</td>\n",
       "      <td>9.818</td>\n",
       "      <td>10.675</td>\n",
       "      <td>10.522</td>\n",
       "      <td>...</td>\n",
       "      <td>10.301</td>\n",
       "      <td>9.944</td>\n",
       "      <td>9.006</td>\n",
       "      <td>9.373</td>\n",
       "      <td>10.316</td>\n",
       "      <td>9.773</td>\n",
       "      <td>9.808</td>\n",
       "      <td>8.085</td>\n",
       "      <td>10.171</td>\n",
       "      <td>10.558</td>\n",
       "    </tr>\n",
       "    <tr>\n",
       "      <th>2</th>\n",
       "      <td>A_25_P00013127</td>\n",
       "      <td>hsa-let-7d*</td>\n",
       "      <td>6.315</td>\n",
       "      <td>6.334</td>\n",
       "      <td>6.253</td>\n",
       "      <td>6.305</td>\n",
       "      <td>6.299</td>\n",
       "      <td>6.299</td>\n",
       "      <td>6.247</td>\n",
       "      <td>6.305</td>\n",
       "      <td>...</td>\n",
       "      <td>6.368</td>\n",
       "      <td>6.291</td>\n",
       "      <td>6.249</td>\n",
       "      <td>6.297</td>\n",
       "      <td>6.310</td>\n",
       "      <td>6.303</td>\n",
       "      <td>6.291</td>\n",
       "      <td>6.229</td>\n",
       "      <td>6.297</td>\n",
       "      <td>6.404</td>\n",
       "    </tr>\n",
       "  </tbody>\n",
       "</table>\n",
       "<p>3 rows × 1448 columns</p>\n",
       "</div>"
      ],
      "text/plain": [
       "          ProbeID        miRNA  MB-2718  MB-2616  MB-2634  MB-2643  MB-2613  \\\n",
       "0  A_25_P00013119  hsa-let-7b*    6.292    6.445    6.406    6.333    6.281   \n",
       "1  A_25_P00011980   hsa-let-7d   11.813   10.380   10.028   10.624    9.235   \n",
       "2  A_25_P00013127  hsa-let-7d*    6.315    6.334    6.253    6.305    6.299   \n",
       "\n",
       "   MB-2629  MB-2645  MB-2626   ...     MB-0619  MB-0171  MB-0310  MB-0489  \\\n",
       "0    6.410    6.386    6.319   ...       6.209    6.526    6.344    6.587   \n",
       "1    9.818   10.675   10.522   ...      10.301    9.944    9.006    9.373   \n",
       "2    6.299    6.247    6.305   ...       6.368    6.291    6.249    6.297   \n",
       "\n",
       "   MB-0621  MB-0614  MB-0372  MB-0335  MB-0407  MB-0374  \n",
       "0    6.304    6.324    6.325    6.322    6.301    6.411  \n",
       "1   10.316    9.773    9.808    8.085   10.171   10.558  \n",
       "2    6.310    6.303    6.291    6.229    6.297    6.404  \n",
       "\n",
       "[3 rows x 1448 columns]"
      ]
     },
     "execution_count": 15,
     "metadata": {},
     "output_type": "execute_result"
    }
   ],
   "source": [
    "meta_mirna.head(3)"
   ]
  },
  {
   "cell_type": "code",
   "execution_count": 16,
   "metadata": {},
   "outputs": [],
   "source": [
    "meta_index = meta_mirna.columns"
   ]
  },
  {
   "cell_type": "code",
   "execution_count": 17,
   "metadata": {},
   "outputs": [
    {
     "data": {
      "text/plain": [
       "(1448,)"
      ]
     },
     "execution_count": 17,
     "metadata": {},
     "output_type": "execute_result"
    }
   ],
   "source": [
    "meta_index.shape"
   ]
  },
  {
   "cell_type": "code",
   "execution_count": 18,
   "metadata": {},
   "outputs": [],
   "source": [
    "meta_index2 = meta_expt.columns"
   ]
  },
  {
   "cell_type": "code",
   "execution_count": 19,
   "metadata": {},
   "outputs": [
    {
     "data": {
      "text/plain": [
       "(1905,)"
      ]
     },
     "execution_count": 19,
     "metadata": {},
     "output_type": "execute_result"
    }
   ],
   "source": [
    "meta_index2.shape"
   ]
  },
  {
   "cell_type": "code",
   "execution_count": 25,
   "metadata": {},
   "outputs": [],
   "source": [
    "meta_index = meta_index[2:]\n"
   ]
  },
  {
   "cell_type": "code",
   "execution_count": 24,
   "metadata": {},
   "outputs": [
    {
     "data": {
      "text/plain": [
       "Index(['MB-2718', 'MB-2616', 'MB-2634', 'MB-2643', 'MB-2613', 'MB-2629',\n",
       "       'MB-2645', 'MB-2626', 'MB-2842', 'MB-2772',\n",
       "       ...\n",
       "       'MB-0619', 'MB-0171', 'MB-0310', 'MB-0489', 'MB-0621', 'MB-0614',\n",
       "       'MB-0372', 'MB-0335', 'MB-0407', 'MB-0374'],\n",
       "      dtype='object', length=1446)"
      ]
     },
     "execution_count": 24,
     "metadata": {},
     "output_type": "execute_result"
    }
   ],
   "source": [
    "meta_index[2:]"
   ]
  },
  {
   "cell_type": "code",
   "execution_count": 28,
   "metadata": {},
   "outputs": [
    {
     "data": {
      "text/plain": [
       "(2509, 20)"
      ]
     },
     "execution_count": 28,
     "metadata": {},
     "output_type": "execute_result"
    }
   ],
   "source": [
    "surv = pd.read_csv('../data/METABRIC/data_clinical_patient.txt', sep='\\t', skiprows=4)\n",
    "surv.shape"
   ]
  },
  {
   "cell_type": "code",
   "execution_count": 29,
   "metadata": {},
   "outputs": [
    {
     "data": {
      "text/html": [
       "<div>\n",
       "<style scoped>\n",
       "    .dataframe tbody tr th:only-of-type {\n",
       "        vertical-align: middle;\n",
       "    }\n",
       "\n",
       "    .dataframe tbody tr th {\n",
       "        vertical-align: top;\n",
       "    }\n",
       "\n",
       "    .dataframe thead th {\n",
       "        text-align: right;\n",
       "    }\n",
       "</style>\n",
       "<table border=\"1\" class=\"dataframe\">\n",
       "  <thead>\n",
       "    <tr style=\"text-align: right;\">\n",
       "      <th></th>\n",
       "      <th>PATIENT_ID</th>\n",
       "      <th>OS_MONTHS</th>\n",
       "      <th>OS_STATUS</th>\n",
       "      <th>VITAL_STATUS</th>\n",
       "      <th>INTCLUST</th>\n",
       "      <th>COHORT</th>\n",
       "      <th>AGE_AT_DIAGNOSIS</th>\n",
       "      <th>LATERALITY</th>\n",
       "      <th>NPI</th>\n",
       "      <th>ER_IHC</th>\n",
       "      <th>INFERRED_MENOPAUSAL_STATE</th>\n",
       "      <th>BREAST_SURGERY</th>\n",
       "      <th>CELLULARITY</th>\n",
       "      <th>HER2_SNP6</th>\n",
       "      <th>THREEGENE</th>\n",
       "      <th>CLAUDIN_SUBTYPE</th>\n",
       "      <th>CHEMOTHERAPY</th>\n",
       "      <th>HORMONE_THERAPY</th>\n",
       "      <th>RADIO_THERAPY</th>\n",
       "      <th>HISTOLOGICAL_SUBTYPE</th>\n",
       "    </tr>\n",
       "  </thead>\n",
       "  <tbody>\n",
       "    <tr>\n",
       "      <th>0</th>\n",
       "      <td>MB-0000</td>\n",
       "      <td>140.500000</td>\n",
       "      <td>LIVING</td>\n",
       "      <td>Living</td>\n",
       "      <td>4ER+</td>\n",
       "      <td>1.0</td>\n",
       "      <td>75.65</td>\n",
       "      <td>r</td>\n",
       "      <td>6.044</td>\n",
       "      <td>pos</td>\n",
       "      <td>post</td>\n",
       "      <td>MASTECTOMY</td>\n",
       "      <td>NaN</td>\n",
       "      <td>NEUT</td>\n",
       "      <td>ER-/HER2-</td>\n",
       "      <td>claudin-low</td>\n",
       "      <td>NO</td>\n",
       "      <td>YES</td>\n",
       "      <td>YES</td>\n",
       "      <td>IDC</td>\n",
       "    </tr>\n",
       "    <tr>\n",
       "      <th>1</th>\n",
       "      <td>MB-0002</td>\n",
       "      <td>84.633333</td>\n",
       "      <td>LIVING</td>\n",
       "      <td>Living</td>\n",
       "      <td>4ER+</td>\n",
       "      <td>1.0</td>\n",
       "      <td>43.19</td>\n",
       "      <td>r</td>\n",
       "      <td>4.020</td>\n",
       "      <td>pos</td>\n",
       "      <td>pre</td>\n",
       "      <td>BREAST CONSERVING</td>\n",
       "      <td>high</td>\n",
       "      <td>NEUT</td>\n",
       "      <td>ER+/HER2- High Prolif</td>\n",
       "      <td>LumA</td>\n",
       "      <td>NO</td>\n",
       "      <td>YES</td>\n",
       "      <td>YES</td>\n",
       "      <td>IDC</td>\n",
       "    </tr>\n",
       "    <tr>\n",
       "      <th>2</th>\n",
       "      <td>MB-0005</td>\n",
       "      <td>163.100000</td>\n",
       "      <td>DECEASED</td>\n",
       "      <td>Died of Disease</td>\n",
       "      <td>3</td>\n",
       "      <td>1.0</td>\n",
       "      <td>48.87</td>\n",
       "      <td>r</td>\n",
       "      <td>4.030</td>\n",
       "      <td>pos</td>\n",
       "      <td>pre</td>\n",
       "      <td>MASTECTOMY</td>\n",
       "      <td>high</td>\n",
       "      <td>NEUT</td>\n",
       "      <td>NaN</td>\n",
       "      <td>LumB</td>\n",
       "      <td>YES</td>\n",
       "      <td>YES</td>\n",
       "      <td>NO</td>\n",
       "      <td>IDC</td>\n",
       "    </tr>\n",
       "  </tbody>\n",
       "</table>\n",
       "</div>"
      ],
      "text/plain": [
       "  PATIENT_ID   OS_MONTHS OS_STATUS     VITAL_STATUS INTCLUST  COHORT  \\\n",
       "0    MB-0000  140.500000    LIVING           Living     4ER+     1.0   \n",
       "1    MB-0002   84.633333    LIVING           Living     4ER+     1.0   \n",
       "2    MB-0005  163.100000  DECEASED  Died of Disease        3     1.0   \n",
       "\n",
       "   AGE_AT_DIAGNOSIS LATERALITY    NPI ER_IHC INFERRED_MENOPAUSAL_STATE  \\\n",
       "0             75.65          r  6.044    pos                      post   \n",
       "1             43.19          r  4.020    pos                       pre   \n",
       "2             48.87          r  4.030    pos                       pre   \n",
       "\n",
       "      BREAST_SURGERY CELLULARITY HER2_SNP6              THREEGENE  \\\n",
       "0         MASTECTOMY         NaN      NEUT              ER-/HER2-   \n",
       "1  BREAST CONSERVING        high      NEUT  ER+/HER2- High Prolif   \n",
       "2         MASTECTOMY        high      NEUT                    NaN   \n",
       "\n",
       "  CLAUDIN_SUBTYPE CHEMOTHERAPY HORMONE_THERAPY RADIO_THERAPY  \\\n",
       "0     claudin-low           NO             YES           YES   \n",
       "1            LumA           NO             YES           YES   \n",
       "2            LumB          YES             YES            NO   \n",
       "\n",
       "  HISTOLOGICAL_SUBTYPE  \n",
       "0                  IDC  \n",
       "1                  IDC  \n",
       "2                  IDC  "
      ]
     },
     "execution_count": 29,
     "metadata": {},
     "output_type": "execute_result"
    }
   ],
   "source": [
    "surv.head(3)"
   ]
  },
  {
   "cell_type": "code",
   "execution_count": 32,
   "metadata": {},
   "outputs": [
    {
     "data": {
      "text/plain": [
       "DECEASED    1143\n",
       "LIVING       837\n",
       "Name: OS_STATUS, dtype: int64"
      ]
     },
     "execution_count": 32,
     "metadata": {},
     "output_type": "execute_result"
    }
   ],
   "source": [
    "surv['OS_STATUS'].value_counts()"
   ]
  },
  {
   "cell_type": "code",
   "execution_count": 33,
   "metadata": {},
   "outputs": [],
   "source": [
    "surv['death'] = surv['OS_STATUS']\n",
    "surv['death'].replace('DECEASED',1, inplace=True)\n",
    "surv['death'].replace('LIVING',0, inplace=True)"
   ]
  },
  {
   "cell_type": "code",
   "execution_count": 34,
   "metadata": {},
   "outputs": [],
   "source": [
    "surv['Survival'] = surv['OS_MONTHS'] * 30"
   ]
  },
  {
   "cell_type": "code",
   "execution_count": 38,
   "metadata": {},
   "outputs": [],
   "source": [
    "surv.dropna(subset=['Survival'], inplace=True)"
   ]
  },
  {
   "cell_type": "code",
   "execution_count": 39,
   "metadata": {},
   "outputs": [],
   "source": [
    "surv['Survival'] = surv['Survival'].astype(int)"
   ]
  },
  {
   "cell_type": "code",
   "execution_count": 40,
   "metadata": {},
   "outputs": [
    {
     "data": {
      "text/plain": [
       "(1980,)"
      ]
     },
     "execution_count": 40,
     "metadata": {},
     "output_type": "execute_result"
    }
   ],
   "source": [
    "surv['Survival'].shape"
   ]
  },
  {
   "cell_type": "code",
   "execution_count": 41,
   "metadata": {},
   "outputs": [
    {
     "name": "stderr",
     "output_type": "stream",
     "text": [
      "/home/ccorbi/anaconda3/lib/python3.5/site-packages/ipykernel/__main__.py:1: DeprecationWarning: \n",
      ".ix is deprecated. Please use\n",
      ".loc for label based indexing or\n",
      ".iloc for positional indexing\n",
      "\n",
      "See the documentation here:\n",
      "http://pandas.pydata.org/pandas-docs/stable/indexing.html#ix-indexer-is-deprecated\n",
      "  if __name__ == '__main__':\n"
     ]
    },
    {
     "data": {
      "text/plain": [
       "3    4947\n",
       "4    1241\n",
       "1    2538\n",
       "Name: Survival, dtype: int64"
      ]
     },
     "execution_count": 41,
     "metadata": {},
     "output_type": "execute_result"
    }
   ],
   "source": [
    "surv['Survival'].ix[[3,4,1]]"
   ]
  },
  {
   "cell_type": "code",
   "execution_count": 42,
   "metadata": {},
   "outputs": [],
   "source": [
    "surv.set_index('PATIENT_ID', inplace=True)"
   ]
  },
  {
   "cell_type": "code",
   "execution_count": 45,
   "metadata": {},
   "outputs": [
    {
     "data": {
      "text/html": [
       "<div>\n",
       "<style scoped>\n",
       "    .dataframe tbody tr th:only-of-type {\n",
       "        vertical-align: middle;\n",
       "    }\n",
       "\n",
       "    .dataframe tbody tr th {\n",
       "        vertical-align: top;\n",
       "    }\n",
       "\n",
       "    .dataframe thead th {\n",
       "        text-align: right;\n",
       "    }\n",
       "</style>\n",
       "<table border=\"1\" class=\"dataframe\">\n",
       "  <thead>\n",
       "    <tr style=\"text-align: right;\">\n",
       "      <th></th>\n",
       "      <th>OS_MONTHS</th>\n",
       "      <th>OS_STATUS</th>\n",
       "      <th>VITAL_STATUS</th>\n",
       "      <th>INTCLUST</th>\n",
       "      <th>COHORT</th>\n",
       "      <th>AGE_AT_DIAGNOSIS</th>\n",
       "      <th>LATERALITY</th>\n",
       "      <th>NPI</th>\n",
       "      <th>ER_IHC</th>\n",
       "      <th>INFERRED_MENOPAUSAL_STATE</th>\n",
       "      <th>...</th>\n",
       "      <th>CELLULARITY</th>\n",
       "      <th>HER2_SNP6</th>\n",
       "      <th>THREEGENE</th>\n",
       "      <th>CLAUDIN_SUBTYPE</th>\n",
       "      <th>CHEMOTHERAPY</th>\n",
       "      <th>HORMONE_THERAPY</th>\n",
       "      <th>RADIO_THERAPY</th>\n",
       "      <th>HISTOLOGICAL_SUBTYPE</th>\n",
       "      <th>death</th>\n",
       "      <th>Survival</th>\n",
       "    </tr>\n",
       "    <tr>\n",
       "      <th>PATIENT_ID</th>\n",
       "      <th></th>\n",
       "      <th></th>\n",
       "      <th></th>\n",
       "      <th></th>\n",
       "      <th></th>\n",
       "      <th></th>\n",
       "      <th></th>\n",
       "      <th></th>\n",
       "      <th></th>\n",
       "      <th></th>\n",
       "      <th></th>\n",
       "      <th></th>\n",
       "      <th></th>\n",
       "      <th></th>\n",
       "      <th></th>\n",
       "      <th></th>\n",
       "      <th></th>\n",
       "      <th></th>\n",
       "      <th></th>\n",
       "      <th></th>\n",
       "      <th></th>\n",
       "    </tr>\n",
       "  </thead>\n",
       "  <tbody>\n",
       "    <tr>\n",
       "      <th>MB-0000</th>\n",
       "      <td>140.500000</td>\n",
       "      <td>LIVING</td>\n",
       "      <td>Living</td>\n",
       "      <td>4ER+</td>\n",
       "      <td>1.0</td>\n",
       "      <td>75.65</td>\n",
       "      <td>r</td>\n",
       "      <td>6.044</td>\n",
       "      <td>pos</td>\n",
       "      <td>post</td>\n",
       "      <td>...</td>\n",
       "      <td>NaN</td>\n",
       "      <td>NEUT</td>\n",
       "      <td>ER-/HER2-</td>\n",
       "      <td>claudin-low</td>\n",
       "      <td>NO</td>\n",
       "      <td>YES</td>\n",
       "      <td>YES</td>\n",
       "      <td>IDC</td>\n",
       "      <td>0.0</td>\n",
       "      <td>4215</td>\n",
       "    </tr>\n",
       "    <tr>\n",
       "      <th>MB-0002</th>\n",
       "      <td>84.633333</td>\n",
       "      <td>LIVING</td>\n",
       "      <td>Living</td>\n",
       "      <td>4ER+</td>\n",
       "      <td>1.0</td>\n",
       "      <td>43.19</td>\n",
       "      <td>r</td>\n",
       "      <td>4.020</td>\n",
       "      <td>pos</td>\n",
       "      <td>pre</td>\n",
       "      <td>...</td>\n",
       "      <td>high</td>\n",
       "      <td>NEUT</td>\n",
       "      <td>ER+/HER2- High Prolif</td>\n",
       "      <td>LumA</td>\n",
       "      <td>NO</td>\n",
       "      <td>YES</td>\n",
       "      <td>YES</td>\n",
       "      <td>IDC</td>\n",
       "      <td>0.0</td>\n",
       "      <td>2538</td>\n",
       "    </tr>\n",
       "    <tr>\n",
       "      <th>MB-0005</th>\n",
       "      <td>163.100000</td>\n",
       "      <td>DECEASED</td>\n",
       "      <td>Died of Disease</td>\n",
       "      <td>3</td>\n",
       "      <td>1.0</td>\n",
       "      <td>48.87</td>\n",
       "      <td>r</td>\n",
       "      <td>4.030</td>\n",
       "      <td>pos</td>\n",
       "      <td>pre</td>\n",
       "      <td>...</td>\n",
       "      <td>high</td>\n",
       "      <td>NEUT</td>\n",
       "      <td>NaN</td>\n",
       "      <td>LumB</td>\n",
       "      <td>YES</td>\n",
       "      <td>YES</td>\n",
       "      <td>NO</td>\n",
       "      <td>IDC</td>\n",
       "      <td>1.0</td>\n",
       "      <td>4893</td>\n",
       "    </tr>\n",
       "    <tr>\n",
       "      <th>MB-0006</th>\n",
       "      <td>164.933333</td>\n",
       "      <td>LIVING</td>\n",
       "      <td>Living</td>\n",
       "      <td>9</td>\n",
       "      <td>1.0</td>\n",
       "      <td>47.68</td>\n",
       "      <td>r</td>\n",
       "      <td>4.050</td>\n",
       "      <td>pos</td>\n",
       "      <td>pre</td>\n",
       "      <td>...</td>\n",
       "      <td>moderate</td>\n",
       "      <td>NEUT</td>\n",
       "      <td>NaN</td>\n",
       "      <td>LumB</td>\n",
       "      <td>YES</td>\n",
       "      <td>YES</td>\n",
       "      <td>YES</td>\n",
       "      <td>IDC</td>\n",
       "      <td>0.0</td>\n",
       "      <td>4947</td>\n",
       "    </tr>\n",
       "    <tr>\n",
       "      <th>MB-0008</th>\n",
       "      <td>41.366667</td>\n",
       "      <td>DECEASED</td>\n",
       "      <td>Died of Disease</td>\n",
       "      <td>9</td>\n",
       "      <td>1.0</td>\n",
       "      <td>76.97</td>\n",
       "      <td>r</td>\n",
       "      <td>6.080</td>\n",
       "      <td>pos</td>\n",
       "      <td>post</td>\n",
       "      <td>...</td>\n",
       "      <td>high</td>\n",
       "      <td>NEUT</td>\n",
       "      <td>ER+/HER2- High Prolif</td>\n",
       "      <td>LumB</td>\n",
       "      <td>YES</td>\n",
       "      <td>YES</td>\n",
       "      <td>YES</td>\n",
       "      <td>IDC</td>\n",
       "      <td>1.0</td>\n",
       "      <td>1241</td>\n",
       "    </tr>\n",
       "  </tbody>\n",
       "</table>\n",
       "<p>5 rows × 21 columns</p>\n",
       "</div>"
      ],
      "text/plain": [
       "             OS_MONTHS OS_STATUS     VITAL_STATUS INTCLUST  COHORT  \\\n",
       "PATIENT_ID                                                           \n",
       "MB-0000     140.500000    LIVING           Living     4ER+     1.0   \n",
       "MB-0002      84.633333    LIVING           Living     4ER+     1.0   \n",
       "MB-0005     163.100000  DECEASED  Died of Disease        3     1.0   \n",
       "MB-0006     164.933333    LIVING           Living        9     1.0   \n",
       "MB-0008      41.366667  DECEASED  Died of Disease        9     1.0   \n",
       "\n",
       "            AGE_AT_DIAGNOSIS LATERALITY    NPI ER_IHC  \\\n",
       "PATIENT_ID                                              \n",
       "MB-0000                75.65          r  6.044    pos   \n",
       "MB-0002                43.19          r  4.020    pos   \n",
       "MB-0005                48.87          r  4.030    pos   \n",
       "MB-0006                47.68          r  4.050    pos   \n",
       "MB-0008                76.97          r  6.080    pos   \n",
       "\n",
       "           INFERRED_MENOPAUSAL_STATE    ...    CELLULARITY HER2_SNP6  \\\n",
       "PATIENT_ID                              ...                            \n",
       "MB-0000                         post    ...            NaN      NEUT   \n",
       "MB-0002                          pre    ...           high      NEUT   \n",
       "MB-0005                          pre    ...           high      NEUT   \n",
       "MB-0006                          pre    ...       moderate      NEUT   \n",
       "MB-0008                         post    ...           high      NEUT   \n",
       "\n",
       "                        THREEGENE CLAUDIN_SUBTYPE CHEMOTHERAPY  \\\n",
       "PATIENT_ID                                                       \n",
       "MB-0000                 ER-/HER2-     claudin-low           NO   \n",
       "MB-0002     ER+/HER2- High Prolif            LumA           NO   \n",
       "MB-0005                       NaN            LumB          YES   \n",
       "MB-0006                       NaN            LumB          YES   \n",
       "MB-0008     ER+/HER2- High Prolif            LumB          YES   \n",
       "\n",
       "           HORMONE_THERAPY RADIO_THERAPY HISTOLOGICAL_SUBTYPE death  Survival  \n",
       "PATIENT_ID                                                                     \n",
       "MB-0000                YES           YES                  IDC   0.0      4215  \n",
       "MB-0002                YES           YES                  IDC   0.0      2538  \n",
       "MB-0005                YES            NO                  IDC   1.0      4893  \n",
       "MB-0006                YES           YES                  IDC   0.0      4947  \n",
       "MB-0008                YES           YES                  IDC   1.0      1241  \n",
       "\n",
       "[5 rows x 21 columns]"
      ]
     },
     "execution_count": 45,
     "metadata": {},
     "output_type": "execute_result"
    }
   ],
   "source": [
    "surv.head()"
   ]
  },
  {
   "cell_type": "code",
   "execution_count": 48,
   "metadata": {},
   "outputs": [
    {
     "data": {
      "text/html": [
       "<div>\n",
       "<style scoped>\n",
       "    .dataframe tbody tr th:only-of-type {\n",
       "        vertical-align: middle;\n",
       "    }\n",
       "\n",
       "    .dataframe tbody tr th {\n",
       "        vertical-align: top;\n",
       "    }\n",
       "\n",
       "    .dataframe thead th {\n",
       "        text-align: right;\n",
       "    }\n",
       "</style>\n",
       "<table border=\"1\" class=\"dataframe\">\n",
       "  <thead>\n",
       "    <tr style=\"text-align: right;\">\n",
       "      <th></th>\n",
       "      <th>OS_MONTHS</th>\n",
       "      <th>OS_STATUS</th>\n",
       "      <th>VITAL_STATUS</th>\n",
       "      <th>INTCLUST</th>\n",
       "      <th>COHORT</th>\n",
       "      <th>AGE_AT_DIAGNOSIS</th>\n",
       "      <th>LATERALITY</th>\n",
       "      <th>NPI</th>\n",
       "      <th>ER_IHC</th>\n",
       "      <th>INFERRED_MENOPAUSAL_STATE</th>\n",
       "      <th>...</th>\n",
       "      <th>CELLULARITY</th>\n",
       "      <th>HER2_SNP6</th>\n",
       "      <th>THREEGENE</th>\n",
       "      <th>CLAUDIN_SUBTYPE</th>\n",
       "      <th>CHEMOTHERAPY</th>\n",
       "      <th>HORMONE_THERAPY</th>\n",
       "      <th>RADIO_THERAPY</th>\n",
       "      <th>HISTOLOGICAL_SUBTYPE</th>\n",
       "      <th>death</th>\n",
       "      <th>Survival</th>\n",
       "    </tr>\n",
       "  </thead>\n",
       "  <tbody>\n",
       "    <tr>\n",
       "      <th>MB-2718</th>\n",
       "      <td>278.266667</td>\n",
       "      <td>LIVING</td>\n",
       "      <td>Living</td>\n",
       "      <td>10</td>\n",
       "      <td>2.0</td>\n",
       "      <td>47.94</td>\n",
       "      <td>l</td>\n",
       "      <td>4.040</td>\n",
       "      <td>neg</td>\n",
       "      <td>pre</td>\n",
       "      <td>...</td>\n",
       "      <td>high</td>\n",
       "      <td>NEUT</td>\n",
       "      <td>NaN</td>\n",
       "      <td>Basal</td>\n",
       "      <td>YES</td>\n",
       "      <td>NO</td>\n",
       "      <td>NO</td>\n",
       "      <td>IDC-TUB</td>\n",
       "      <td>0.0</td>\n",
       "      <td>8348.0</td>\n",
       "    </tr>\n",
       "    <tr>\n",
       "      <th>MB-2616</th>\n",
       "      <td>219.166667</td>\n",
       "      <td>DECEASED</td>\n",
       "      <td>Died of Disease</td>\n",
       "      <td>4ER+</td>\n",
       "      <td>2.0</td>\n",
       "      <td>65.07</td>\n",
       "      <td>l</td>\n",
       "      <td>3.036</td>\n",
       "      <td>pos</td>\n",
       "      <td>post</td>\n",
       "      <td>...</td>\n",
       "      <td>moderate</td>\n",
       "      <td>NEUT</td>\n",
       "      <td>ER+/HER2- Low Prolif</td>\n",
       "      <td>claudin-low</td>\n",
       "      <td>NO</td>\n",
       "      <td>NO</td>\n",
       "      <td>YES</td>\n",
       "      <td>IDC+ILC</td>\n",
       "      <td>1.0</td>\n",
       "      <td>6575.0</td>\n",
       "    </tr>\n",
       "    <tr>\n",
       "      <th>MB-2634</th>\n",
       "      <td>274.033333</td>\n",
       "      <td>LIVING</td>\n",
       "      <td>Living</td>\n",
       "      <td>2</td>\n",
       "      <td>2.0</td>\n",
       "      <td>70.69</td>\n",
       "      <td>l</td>\n",
       "      <td>4.020</td>\n",
       "      <td>pos</td>\n",
       "      <td>post</td>\n",
       "      <td>...</td>\n",
       "      <td>high</td>\n",
       "      <td>GAIN</td>\n",
       "      <td>ER+/HER2- High Prolif</td>\n",
       "      <td>LumB</td>\n",
       "      <td>NO</td>\n",
       "      <td>YES</td>\n",
       "      <td>YES</td>\n",
       "      <td>IDC</td>\n",
       "      <td>0.0</td>\n",
       "      <td>8220.0</td>\n",
       "    </tr>\n",
       "    <tr>\n",
       "      <th>MB-2643</th>\n",
       "      <td>52.966667</td>\n",
       "      <td>DECEASED</td>\n",
       "      <td>Died of Disease</td>\n",
       "      <td>4ER-</td>\n",
       "      <td>2.0</td>\n",
       "      <td>34.20</td>\n",
       "      <td>r</td>\n",
       "      <td>3.006</td>\n",
       "      <td>NaN</td>\n",
       "      <td>pre</td>\n",
       "      <td>...</td>\n",
       "      <td>low</td>\n",
       "      <td>NEUT</td>\n",
       "      <td>NaN</td>\n",
       "      <td>claudin-low</td>\n",
       "      <td>NO</td>\n",
       "      <td>NO</td>\n",
       "      <td>YES</td>\n",
       "      <td>IDC</td>\n",
       "      <td>1.0</td>\n",
       "      <td>1589.0</td>\n",
       "    </tr>\n",
       "    <tr>\n",
       "      <th>MB-2613</th>\n",
       "      <td>163.400000</td>\n",
       "      <td>LIVING</td>\n",
       "      <td>Living</td>\n",
       "      <td>1</td>\n",
       "      <td>2.0</td>\n",
       "      <td>59.63</td>\n",
       "      <td>l</td>\n",
       "      <td>4.040</td>\n",
       "      <td>pos</td>\n",
       "      <td>post</td>\n",
       "      <td>...</td>\n",
       "      <td>high</td>\n",
       "      <td>NEUT</td>\n",
       "      <td>ER+/HER2- High Prolif</td>\n",
       "      <td>LumB</td>\n",
       "      <td>NO</td>\n",
       "      <td>YES</td>\n",
       "      <td>NO</td>\n",
       "      <td>IDC</td>\n",
       "      <td>0.0</td>\n",
       "      <td>4902.0</td>\n",
       "    </tr>\n",
       "  </tbody>\n",
       "</table>\n",
       "<p>5 rows × 21 columns</p>\n",
       "</div>"
      ],
      "text/plain": [
       "          OS_MONTHS OS_STATUS     VITAL_STATUS INTCLUST  COHORT  \\\n",
       "MB-2718  278.266667    LIVING           Living       10     2.0   \n",
       "MB-2616  219.166667  DECEASED  Died of Disease     4ER+     2.0   \n",
       "MB-2634  274.033333    LIVING           Living        2     2.0   \n",
       "MB-2643   52.966667  DECEASED  Died of Disease     4ER-     2.0   \n",
       "MB-2613  163.400000    LIVING           Living        1     2.0   \n",
       "\n",
       "         AGE_AT_DIAGNOSIS LATERALITY    NPI ER_IHC INFERRED_MENOPAUSAL_STATE  \\\n",
       "MB-2718             47.94          l  4.040    neg                       pre   \n",
       "MB-2616             65.07          l  3.036    pos                      post   \n",
       "MB-2634             70.69          l  4.020    pos                      post   \n",
       "MB-2643             34.20          r  3.006    NaN                       pre   \n",
       "MB-2613             59.63          l  4.040    pos                      post   \n",
       "\n",
       "           ...    CELLULARITY HER2_SNP6              THREEGENE  \\\n",
       "MB-2718    ...           high      NEUT                    NaN   \n",
       "MB-2616    ...       moderate      NEUT   ER+/HER2- Low Prolif   \n",
       "MB-2634    ...           high      GAIN  ER+/HER2- High Prolif   \n",
       "MB-2643    ...            low      NEUT                    NaN   \n",
       "MB-2613    ...           high      NEUT  ER+/HER2- High Prolif   \n",
       "\n",
       "        CLAUDIN_SUBTYPE CHEMOTHERAPY HORMONE_THERAPY RADIO_THERAPY  \\\n",
       "MB-2718           Basal          YES              NO            NO   \n",
       "MB-2616     claudin-low           NO              NO           YES   \n",
       "MB-2634            LumB           NO             YES           YES   \n",
       "MB-2643     claudin-low           NO              NO           YES   \n",
       "MB-2613            LumB           NO             YES            NO   \n",
       "\n",
       "        HISTOLOGICAL_SUBTYPE death  Survival  \n",
       "MB-2718              IDC-TUB   0.0    8348.0  \n",
       "MB-2616              IDC+ILC   1.0    6575.0  \n",
       "MB-2634                  IDC   0.0    8220.0  \n",
       "MB-2643                  IDC   1.0    1589.0  \n",
       "MB-2613                  IDC   0.0    4902.0  \n",
       "\n",
       "[5 rows x 21 columns]"
      ]
     },
     "execution_count": 48,
     "metadata": {},
     "output_type": "execute_result"
    }
   ],
   "source": [
    "surv.ix[meta_index].head()"
   ]
  },
  {
   "cell_type": "code",
   "execution_count": 54,
   "metadata": {},
   "outputs": [],
   "source": [
    "surv_reorganized = surv.ix[meta_index]"
   ]
  },
  {
   "cell_type": "code",
   "execution_count": 55,
   "metadata": {},
   "outputs": [
    {
     "data": {
      "text/plain": [
       "(1446, 21)"
      ]
     },
     "execution_count": 55,
     "metadata": {},
     "output_type": "execute_result"
    }
   ],
   "source": [
    "# survival\n",
    "surv_reorganized.shape"
   ]
  },
  {
   "cell_type": "code",
   "execution_count": 63,
   "metadata": {},
   "outputs": [],
   "source": [
    "tops = ['miRNA']\n",
    "tops.extend( meta_index.tolist())\n",
    "mirna_reorganized = meta_mirna[tops]"
   ]
  },
  {
   "cell_type": "code",
   "execution_count": 64,
   "metadata": {},
   "outputs": [
    {
     "data": {
      "text/plain": [
       "(853, 1447)"
      ]
     },
     "execution_count": 64,
     "metadata": {},
     "output_type": "execute_result"
    }
   ],
   "source": [
    "mirna_reorganized.shape"
   ]
  },
  {
   "cell_type": "code",
   "execution_count": 72,
   "metadata": {},
   "outputs": [
    {
     "data": {
      "text/plain": [
       "Index(['MB-2718', 'MB-2616', 'MB-2634', 'MB-2643', 'MB-2613', 'MB-2629',\n",
       "       'MB-2645', 'MB-2626', 'MB-2842', 'MB-2772',\n",
       "       ...\n",
       "       'MB-0619', 'MB-0171', 'MB-0310', 'MB-0489', 'MB-0621', 'MB-0614',\n",
       "       'MB-0372', 'MB-0335', 'MB-0407', 'MB-0374'],\n",
       "      dtype='object', length=1446)"
      ]
     },
     "execution_count": 72,
     "metadata": {},
     "output_type": "execute_result"
    }
   ],
   "source": [
    "meta_index"
   ]
  },
  {
   "cell_type": "code",
   "execution_count": 68,
   "metadata": {},
   "outputs": [
    {
     "data": {
      "text/plain": [
       "Index(['Hugo_Symbol', 'MB-0362', 'MB-0346', 'MB-0386', 'MB-0574', 'MB-0503',\n",
       "       'MB-0641', 'MB-0201', 'MB-0218', 'MB-0316',\n",
       "       ...\n",
       "       'MB-6122', 'MB-6192', 'MB-4820', 'MB-5527', 'MB-5167', 'MB-5465',\n",
       "       'MB-5453', 'MB-5471', 'MB-5127', 'MB-4313'],\n",
       "      dtype='object', length=1905)"
      ]
     },
     "execution_count": 68,
     "metadata": {},
     "output_type": "execute_result"
    }
   ],
   "source": [
    "meta_expt.columns"
   ]
  },
  {
   "cell_type": "code",
   "execution_count": 70,
   "metadata": {},
   "outputs": [
    {
     "data": {
      "text/plain": [
       "{'BT20',\n",
       " 'BT474',\n",
       " 'BT549',\n",
       " 'GI101-a',\n",
       " 'HCC1187-a',\n",
       " 'HCC1509',\n",
       " 'Hs578T',\n",
       " 'Kpl1',\n",
       " 'MB-0020',\n",
       " 'MB-0059',\n",
       " 'MB-0099',\n",
       " 'MB-0110',\n",
       " 'MB-0153',\n",
       " 'MB-0156',\n",
       " 'MB-0158',\n",
       " 'MB-0159',\n",
       " 'MB-0160',\n",
       " 'MB-0169',\n",
       " 'MB-0182',\n",
       " 'MB-0185',\n",
       " 'MB-0196',\n",
       " 'MB-0210',\n",
       " 'MB-0217',\n",
       " 'MB-0281',\n",
       " 'MB-0283',\n",
       " 'MB-0299',\n",
       " 'MB-0326',\n",
       " 'MB-0327',\n",
       " 'MB-0329',\n",
       " 'MB-0330',\n",
       " 'MB-0333',\n",
       " 'MB-0335',\n",
       " 'MB-0337',\n",
       " 'MB-0347',\n",
       " 'MB-0351',\n",
       " 'MB-0355',\n",
       " 'MB-0390',\n",
       " 'MB-0403',\n",
       " 'MB-0405',\n",
       " 'MB-0407',\n",
       " 'MB-0408',\n",
       " 'MB-0409',\n",
       " 'MB-0423',\n",
       " 'MB-0432',\n",
       " 'MB-0433',\n",
       " 'MB-0435',\n",
       " 'MB-0448',\n",
       " 'MB-0473',\n",
       " 'MB-0499',\n",
       " 'MB-0539',\n",
       " 'MB-0543',\n",
       " 'MB-0546',\n",
       " 'MB-0547',\n",
       " 'MB-0549',\n",
       " 'MB-0625',\n",
       " 'MB-0635',\n",
       " 'MB-0667',\n",
       " 'MB-0669',\n",
       " 'MB-0680',\n",
       " 'MB-0704',\n",
       " 'MB-0706',\n",
       " 'MB-0708',\n",
       " 'MB-0709',\n",
       " 'MB-0710',\n",
       " 'MB-0712',\n",
       " 'MB-0717',\n",
       " 'MB-0718',\n",
       " 'MB-0719',\n",
       " 'MB-0720',\n",
       " 'MB-0724',\n",
       " 'MB-0728',\n",
       " 'MB-0730',\n",
       " 'MB-0735',\n",
       " 'MB-0736',\n",
       " 'MB-0741',\n",
       " 'MB-0748',\n",
       " 'MB-0751',\n",
       " 'MB-0752',\n",
       " 'MB-0758',\n",
       " 'MB-0759',\n",
       " 'MB-0762',\n",
       " 'MB-0771',\n",
       " 'MB-0830',\n",
       " 'MB-0848',\n",
       " 'MB-0854',\n",
       " 'MB-0876',\n",
       " 'MB-0885',\n",
       " 'MB-0907',\n",
       " 'MB-0929',\n",
       " 'MB-0932',\n",
       " 'MB-0938',\n",
       " 'MB-0952',\n",
       " 'MB-0958',\n",
       " 'MB-0959',\n",
       " 'MB-0961',\n",
       " 'MB-0962',\n",
       " 'MB-0964',\n",
       " 'MB-0971',\n",
       " 'MB-0973',\n",
       " 'MB-0977',\n",
       " 'MB-0988',\n",
       " 'MB-0998',\n",
       " 'MB-1003',\n",
       " 'MB-1005',\n",
       " 'MB-1007',\n",
       " 'MB-1009',\n",
       " 'MB-1014',\n",
       " 'MB-1018',\n",
       " 'MB-1021',\n",
       " 'MB-1022',\n",
       " 'MB-1023',\n",
       " 'MB-1025',\n",
       " 'MB-1028',\n",
       " 'MB-1031',\n",
       " 'MB-1032',\n",
       " 'MB-1033',\n",
       " 'MB-1034',\n",
       " 'MB-1037',\n",
       " 'MB-1039',\n",
       " 'MB-1040',\n",
       " 'MB-1044',\n",
       " 'MB-1049',\n",
       " 'MB-1050',\n",
       " 'MB-1055',\n",
       " 'MB-1057',\n",
       " 'MB-1059',\n",
       " 'MB-1063',\n",
       " 'MB-1065',\n",
       " 'MB-1068',\n",
       " 'MB-1071',\n",
       " 'MB-1072',\n",
       " 'MB-1074',\n",
       " 'MB-1075',\n",
       " 'MB-1076',\n",
       " 'MB-1077',\n",
       " 'MB-1080',\n",
       " 'MB-1081',\n",
       " 'MB-1082',\n",
       " 'MB-1085',\n",
       " 'MB-1086',\n",
       " 'MB-1090',\n",
       " 'MB-1093',\n",
       " 'MB-1096',\n",
       " 'MB-1099',\n",
       " 'MB-1100',\n",
       " 'MB-1102',\n",
       " 'MB-1103',\n",
       " 'MB-1104',\n",
       " 'MB-1105',\n",
       " 'MB-1109',\n",
       " 'MB-1111',\n",
       " 'MB-1112',\n",
       " 'MB-1113',\n",
       " 'MB-1115',\n",
       " 'MB-1119',\n",
       " 'MB-1120',\n",
       " 'MB-1121',\n",
       " 'MB-1122',\n",
       " 'MB-1123',\n",
       " 'MB-1124',\n",
       " 'MB-1126',\n",
       " 'MB-1128',\n",
       " 'MB-1129',\n",
       " 'MB-1130',\n",
       " 'MB-1131',\n",
       " 'MB-1132',\n",
       " 'MB-1133',\n",
       " 'MB-1134',\n",
       " 'MB-1135',\n",
       " 'MB-1136',\n",
       " 'MB-1137',\n",
       " 'MB-1143',\n",
       " 'MB-1145',\n",
       " 'MB-1146',\n",
       " 'MB-1149',\n",
       " 'MB-1157',\n",
       " 'MB-2720',\n",
       " 'MB-3547',\n",
       " 'MB-3823',\n",
       " 'MB-4823',\n",
       " 'MB-4852',\n",
       " 'MB-5076',\n",
       " 'MB-5104',\n",
       " 'MB-5106',\n",
       " 'MB-5109',\n",
       " 'MB-5131',\n",
       " 'MB-5136',\n",
       " 'MB-5137',\n",
       " 'MB-5140',\n",
       " 'MB-5156',\n",
       " 'MB-5158',\n",
       " 'MB-5219',\n",
       " 'MB-5255',\n",
       " 'MB-5325',\n",
       " 'MB-5349',\n",
       " 'MB-5413',\n",
       " 'MB-5467',\n",
       " 'MB-5496',\n",
       " 'MB-5585',\n",
       " 'MB-5625',\n",
       " 'MB-5648',\n",
       " 'MB-6020',\n",
       " 'MB-6230',\n",
       " 'MCF7-a',\n",
       " 'MCF7-b',\n",
       " 'MDAMB134',\n",
       " 'MDAMB157-a',\n",
       " 'MDAMB157-b',\n",
       " 'MDAMB231',\n",
       " 'MDAMB436',\n",
       " 'MDAMB453',\n",
       " 'MDAMB468-a',\n",
       " 'MFM223',\n",
       " 'OCUBF',\n",
       " 'PMC42-a',\n",
       " 'PMC42-b',\n",
       " 'SKBR3-a',\n",
       " 'SKBR3-b',\n",
       " 'SKBR7',\n",
       " 'SUM190',\n",
       " 'T47D',\n",
       " 'ZR751',\n",
       " 'ZR7530'}"
      ]
     },
     "execution_count": 70,
     "metadata": {},
     "output_type": "execute_result"
    }
   ],
   "source": [
    "set(meta_index.tolist()).difference(meta_expt.columns.tolist())\n"
   ]
  },
  {
   "cell_type": "code",
   "execution_count": 73,
   "metadata": {},
   "outputs": [
    {
     "data": {
      "text/plain": [
       "223"
      ]
     },
     "execution_count": 73,
     "metadata": {},
     "output_type": "execute_result"
    }
   ],
   "source": [
    "len(set(meta_index.tolist()).difference(meta_expt.columns.tolist()))"
   ]
  },
  {
   "cell_type": "code",
   "execution_count": 132,
   "metadata": {},
   "outputs": [],
   "source": [
    "sa = set(meta_index.tolist())\n",
    "sb = set(meta_expt.columns.tolist())\n",
    "c = sa.intersection(sb)"
   ]
  },
  {
   "cell_type": "code",
   "execution_count": 133,
   "metadata": {},
   "outputs": [
    {
     "data": {
      "text/plain": [
       "1223"
      ]
     },
     "execution_count": 133,
     "metadata": {},
     "output_type": "execute_result"
    }
   ],
   "source": [
    "len(c)"
   ]
  },
  {
   "cell_type": "code",
   "execution_count": 135,
   "metadata": {},
   "outputs": [
    {
     "data": {
      "text/plain": [
       "(24368, 1224)"
      ]
     },
     "execution_count": 135,
     "metadata": {},
     "output_type": "execute_result"
    }
   ],
   "source": [
    "\n",
    "tops = ['Hugo_Symbol']\n",
    "tops.extend( list(c))\n",
    "expre_reorganized = meta_expt[tops]\n",
    "expre_reorganized.shape"
   ]
  },
  {
   "cell_type": "code",
   "execution_count": 136,
   "metadata": {},
   "outputs": [
    {
     "data": {
      "text/plain": [
       "(853, 1224)"
      ]
     },
     "execution_count": 136,
     "metadata": {},
     "output_type": "execute_result"
    }
   ],
   "source": [
    "tops = ['miRNA']\n",
    "tops.extend( list(c))\n",
    "mirna_reorganized = meta_mirna[tops]\n",
    "mirna_reorganized.shape"
   ]
  },
  {
   "cell_type": "code",
   "execution_count": 137,
   "metadata": {},
   "outputs": [],
   "source": [
    "surv_reorganized = surv.ix[c]"
   ]
  },
  {
   "cell_type": "code",
   "execution_count": 138,
   "metadata": {},
   "outputs": [
    {
     "data": {
      "text/plain": [
       "(1223, 21)"
      ]
     },
     "execution_count": 138,
     "metadata": {},
     "output_type": "execute_result"
    }
   ],
   "source": [
    "surv_reorganized.shape"
   ]
  },
  {
   "cell_type": "code",
   "execution_count": 139,
   "metadata": {},
   "outputs": [
    {
     "data": {
      "text/plain": [
       "(853, 1224)"
      ]
     },
     "execution_count": 139,
     "metadata": {},
     "output_type": "execute_result"
    }
   ],
   "source": [
    "mirna_reorganized.shape"
   ]
  },
  {
   "cell_type": "code",
   "execution_count": 140,
   "metadata": {},
   "outputs": [
    {
     "data": {
      "text/plain": [
       "(24368, 1224)"
      ]
     },
     "execution_count": 140,
     "metadata": {},
     "output_type": "execute_result"
    }
   ],
   "source": [
    "expre_reorganized.shape"
   ]
  },
  {
   "cell_type": "code",
   "execution_count": 141,
   "metadata": {},
   "outputs": [],
   "source": [
    "df = expre_reorganized.dropna()\n",
    "df.to_csv('METABRIC_Gene_Expression.txt',index=False,sep='\\t')"
   ]
  },
  {
   "cell_type": "code",
   "execution_count": 157,
   "metadata": {},
   "outputs": [
    {
     "data": {
      "text/plain": [
       "(24364, 1224)"
      ]
     },
     "execution_count": 157,
     "metadata": {},
     "output_type": "execute_result"
    }
   ],
   "source": [
    "df.shape"
   ]
  },
  {
   "cell_type": "code",
   "execution_count": 142,
   "metadata": {},
   "outputs": [],
   "source": [
    "mirna_reorganized.to_csv('METABRIC_Mirna_Expression.txt',index=False,sep='\\t')"
   ]
  },
  {
   "cell_type": "code",
   "execution_count": 143,
   "metadata": {
    "scrolled": true
   },
   "outputs": [
    {
     "data": {
      "text/html": [
       "<div>\n",
       "<style scoped>\n",
       "    .dataframe tbody tr th:only-of-type {\n",
       "        vertical-align: middle;\n",
       "    }\n",
       "\n",
       "    .dataframe tbody tr th {\n",
       "        vertical-align: top;\n",
       "    }\n",
       "\n",
       "    .dataframe thead th {\n",
       "        text-align: right;\n",
       "    }\n",
       "</style>\n",
       "<table border=\"1\" class=\"dataframe\">\n",
       "  <thead>\n",
       "    <tr style=\"text-align: right;\">\n",
       "      <th></th>\n",
       "      <th>OS_MONTHS</th>\n",
       "      <th>OS_STATUS</th>\n",
       "      <th>VITAL_STATUS</th>\n",
       "      <th>INTCLUST</th>\n",
       "      <th>COHORT</th>\n",
       "      <th>AGE_AT_DIAGNOSIS</th>\n",
       "      <th>LATERALITY</th>\n",
       "      <th>NPI</th>\n",
       "      <th>ER_IHC</th>\n",
       "      <th>INFERRED_MENOPAUSAL_STATE</th>\n",
       "      <th>...</th>\n",
       "      <th>CELLULARITY</th>\n",
       "      <th>HER2_SNP6</th>\n",
       "      <th>THREEGENE</th>\n",
       "      <th>CLAUDIN_SUBTYPE</th>\n",
       "      <th>CHEMOTHERAPY</th>\n",
       "      <th>HORMONE_THERAPY</th>\n",
       "      <th>RADIO_THERAPY</th>\n",
       "      <th>HISTOLOGICAL_SUBTYPE</th>\n",
       "      <th>death</th>\n",
       "      <th>Survival</th>\n",
       "    </tr>\n",
       "    <tr>\n",
       "      <th>PATIENT_ID</th>\n",
       "      <th></th>\n",
       "      <th></th>\n",
       "      <th></th>\n",
       "      <th></th>\n",
       "      <th></th>\n",
       "      <th></th>\n",
       "      <th></th>\n",
       "      <th></th>\n",
       "      <th></th>\n",
       "      <th></th>\n",
       "      <th></th>\n",
       "      <th></th>\n",
       "      <th></th>\n",
       "      <th></th>\n",
       "      <th></th>\n",
       "      <th></th>\n",
       "      <th></th>\n",
       "      <th></th>\n",
       "      <th></th>\n",
       "      <th></th>\n",
       "      <th></th>\n",
       "    </tr>\n",
       "  </thead>\n",
       "  <tbody>\n",
       "    <tr>\n",
       "      <th>MB-4867</th>\n",
       "      <td>221.900000</td>\n",
       "      <td>LIVING</td>\n",
       "      <td>Living</td>\n",
       "      <td>3</td>\n",
       "      <td>3.0</td>\n",
       "      <td>47.03</td>\n",
       "      <td>l</td>\n",
       "      <td>3.050</td>\n",
       "      <td>pos</td>\n",
       "      <td>pre</td>\n",
       "      <td>...</td>\n",
       "      <td>moderate</td>\n",
       "      <td>NEUT</td>\n",
       "      <td>ER+/HER2- Low Prolif</td>\n",
       "      <td>LumA</td>\n",
       "      <td>NO</td>\n",
       "      <td>NO</td>\n",
       "      <td>NO</td>\n",
       "      <td>IDC</td>\n",
       "      <td>0.0</td>\n",
       "      <td>6657</td>\n",
       "    </tr>\n",
       "    <tr>\n",
       "      <th>MB-0188</th>\n",
       "      <td>31.300000</td>\n",
       "      <td>DECEASED</td>\n",
       "      <td>Died of Disease</td>\n",
       "      <td>3</td>\n",
       "      <td>1.0</td>\n",
       "      <td>82.65</td>\n",
       "      <td>r</td>\n",
       "      <td>4.090</td>\n",
       "      <td>pos</td>\n",
       "      <td>post</td>\n",
       "      <td>...</td>\n",
       "      <td>high</td>\n",
       "      <td>NEUT</td>\n",
       "      <td>NaN</td>\n",
       "      <td>Her2</td>\n",
       "      <td>YES</td>\n",
       "      <td>NO</td>\n",
       "      <td>YES</td>\n",
       "      <td>ILC</td>\n",
       "      <td>1.0</td>\n",
       "      <td>939</td>\n",
       "    </tr>\n",
       "    <tr>\n",
       "      <th>MB-5065</th>\n",
       "      <td>184.800000</td>\n",
       "      <td>LIVING</td>\n",
       "      <td>Living</td>\n",
       "      <td>4ER-</td>\n",
       "      <td>3.0</td>\n",
       "      <td>68.66</td>\n",
       "      <td>r</td>\n",
       "      <td>4.032</td>\n",
       "      <td>neg</td>\n",
       "      <td>post</td>\n",
       "      <td>...</td>\n",
       "      <td>moderate</td>\n",
       "      <td>NEUT</td>\n",
       "      <td>ER-/HER2-</td>\n",
       "      <td>claudin-low</td>\n",
       "      <td>NO</td>\n",
       "      <td>NO</td>\n",
       "      <td>NO</td>\n",
       "      <td>IDC</td>\n",
       "      <td>0.0</td>\n",
       "      <td>5544</td>\n",
       "    </tr>\n",
       "    <tr>\n",
       "      <th>MB-4934</th>\n",
       "      <td>70.233333</td>\n",
       "      <td>LIVING</td>\n",
       "      <td>Living</td>\n",
       "      <td>7</td>\n",
       "      <td>3.0</td>\n",
       "      <td>74.85</td>\n",
       "      <td>r</td>\n",
       "      <td>5.056</td>\n",
       "      <td>pos</td>\n",
       "      <td>post</td>\n",
       "      <td>...</td>\n",
       "      <td>high</td>\n",
       "      <td>NEUT</td>\n",
       "      <td>ER+/HER2- High Prolif</td>\n",
       "      <td>LumB</td>\n",
       "      <td>NO</td>\n",
       "      <td>YES</td>\n",
       "      <td>YES</td>\n",
       "      <td>IDC</td>\n",
       "      <td>0.0</td>\n",
       "      <td>2106</td>\n",
       "    </tr>\n",
       "    <tr>\n",
       "      <th>MB-5617</th>\n",
       "      <td>128.200000</td>\n",
       "      <td>DECEASED</td>\n",
       "      <td>Died of Other Causes</td>\n",
       "      <td>4ER+</td>\n",
       "      <td>3.0</td>\n",
       "      <td>81.63</td>\n",
       "      <td>r</td>\n",
       "      <td>4.064</td>\n",
       "      <td>pos</td>\n",
       "      <td>post</td>\n",
       "      <td>...</td>\n",
       "      <td>high</td>\n",
       "      <td>NEUT</td>\n",
       "      <td>ER+/HER2- Low Prolif</td>\n",
       "      <td>LumA</td>\n",
       "      <td>NO</td>\n",
       "      <td>YES</td>\n",
       "      <td>YES</td>\n",
       "      <td>IDC</td>\n",
       "      <td>1.0</td>\n",
       "      <td>3845</td>\n",
       "    </tr>\n",
       "  </tbody>\n",
       "</table>\n",
       "<p>5 rows × 21 columns</p>\n",
       "</div>"
      ],
      "text/plain": [
       "             OS_MONTHS OS_STATUS          VITAL_STATUS INTCLUST  COHORT  \\\n",
       "PATIENT_ID                                                                \n",
       "MB-4867     221.900000    LIVING                Living        3     3.0   \n",
       "MB-0188      31.300000  DECEASED       Died of Disease        3     1.0   \n",
       "MB-5065     184.800000    LIVING                Living     4ER-     3.0   \n",
       "MB-4934      70.233333    LIVING                Living        7     3.0   \n",
       "MB-5617     128.200000  DECEASED  Died of Other Causes     4ER+     3.0   \n",
       "\n",
       "            AGE_AT_DIAGNOSIS LATERALITY    NPI ER_IHC  \\\n",
       "PATIENT_ID                                              \n",
       "MB-4867                47.03          l  3.050    pos   \n",
       "MB-0188                82.65          r  4.090    pos   \n",
       "MB-5065                68.66          r  4.032    neg   \n",
       "MB-4934                74.85          r  5.056    pos   \n",
       "MB-5617                81.63          r  4.064    pos   \n",
       "\n",
       "           INFERRED_MENOPAUSAL_STATE    ...    CELLULARITY HER2_SNP6  \\\n",
       "PATIENT_ID                              ...                            \n",
       "MB-4867                          pre    ...       moderate      NEUT   \n",
       "MB-0188                         post    ...           high      NEUT   \n",
       "MB-5065                         post    ...       moderate      NEUT   \n",
       "MB-4934                         post    ...           high      NEUT   \n",
       "MB-5617                         post    ...           high      NEUT   \n",
       "\n",
       "                        THREEGENE CLAUDIN_SUBTYPE CHEMOTHERAPY  \\\n",
       "PATIENT_ID                                                       \n",
       "MB-4867      ER+/HER2- Low Prolif            LumA           NO   \n",
       "MB-0188                       NaN            Her2          YES   \n",
       "MB-5065                 ER-/HER2-     claudin-low           NO   \n",
       "MB-4934     ER+/HER2- High Prolif            LumB           NO   \n",
       "MB-5617      ER+/HER2- Low Prolif            LumA           NO   \n",
       "\n",
       "           HORMONE_THERAPY RADIO_THERAPY HISTOLOGICAL_SUBTYPE death  Survival  \n",
       "PATIENT_ID                                                                     \n",
       "MB-4867                 NO            NO                  IDC   0.0      6657  \n",
       "MB-0188                 NO           YES                  ILC   1.0       939  \n",
       "MB-5065                 NO            NO                  IDC   0.0      5544  \n",
       "MB-4934                YES           YES                  IDC   0.0      2106  \n",
       "MB-5617                YES           YES                  IDC   1.0      3845  \n",
       "\n",
       "[5 rows x 21 columns]"
      ]
     },
     "execution_count": 143,
     "metadata": {},
     "output_type": "execute_result"
    }
   ],
   "source": [
    "surv_reorganized.head()"
   ]
  },
  {
   "cell_type": "code",
   "execution_count": 144,
   "metadata": {},
   "outputs": [],
   "source": [
    "surv_reorganized['death'] = surv_reorganized['death'].astype(int)"
   ]
  },
  {
   "cell_type": "code",
   "execution_count": 145,
   "metadata": {},
   "outputs": [
    {
     "name": "stderr",
     "output_type": "stream",
     "text": [
      "/home/ccorbi/anaconda3/lib/python3.5/site-packages/pandas/io/formats/format.py:1578: FutureWarning: \n",
      "Passing list-likes to .loc or [] with any missing label will raise\n",
      "KeyError in the future, you can use .reindex() as an alternative.\n",
      "\n",
      "See the documentation here:\n",
      "http://pandas.pydata.org/pandas-docs/stable/indexing.html#deprecate-loc-reindex-listlike\n",
      "  self.obj = self.obj.loc[:, cols]\n",
      "/home/ccorbi/anaconda3/lib/python3.5/site-packages/pandas/core/indexing.py:1367: FutureWarning: \n",
      "Passing list-likes to .loc or [] with any missing label will raise\n",
      "KeyError in the future, you can use .reindex() as an alternative.\n",
      "\n",
      "See the documentation here:\n",
      "http://pandas.pydata.org/pandas-docs/stable/indexing.html#deprecate-loc-reindex-listlike\n",
      "  return self._getitem_tuple(key)\n"
     ]
    }
   ],
   "source": [
    "surv_reorganized.to_csv('METABRIC_Survival.txt',sep='\\t', columns=['PATIENT_ID','Survival','death' ])"
   ]
  },
  {
   "cell_type": "code",
   "execution_count": 159,
   "metadata": {},
   "outputs": [
    {
     "data": {
      "text/plain": [
       "(1223, 24368)"
      ]
     },
     "execution_count": 159,
     "metadata": {},
     "output_type": "execute_result"
    }
   ],
   "source": [
    "#[:, 1:-1].T.astype(float)\n",
    "expre_reorganized.as_matrix()[:, 1:].T.astype(float).shape"
   ]
  },
  {
   "cell_type": "code",
   "execution_count": 147,
   "metadata": {},
   "outputs": [
    {
     "data": {
      "text/plain": [
       "(853, 1224)"
      ]
     },
     "execution_count": 147,
     "metadata": {},
     "output_type": "execute_result"
    }
   ],
   "source": [
    "mirna_reorganized.shape"
   ]
  },
  {
   "cell_type": "code",
   "execution_count": 158,
   "metadata": {},
   "outputs": [
    {
     "data": {
      "text/plain": [
       "(853, 1223)"
      ]
     },
     "execution_count": 158,
     "metadata": {},
     "output_type": "execute_result"
    }
   ],
   "source": [
    "mirna_reorganized.as_matrix()[:, 1:].shape"
   ]
  },
  {
   "cell_type": "code",
   "execution_count": 149,
   "metadata": {},
   "outputs": [
    {
     "data": {
      "text/plain": [
       "1223"
      ]
     },
     "execution_count": 149,
     "metadata": {},
     "output_type": "execute_result"
    }
   ],
   "source": [
    "len(c)"
   ]
  },
  {
   "cell_type": "code",
   "execution_count": 150,
   "metadata": {},
   "outputs": [
    {
     "data": {
      "text/plain": [
       "(1223, 21)"
      ]
     },
     "execution_count": 150,
     "metadata": {},
     "output_type": "execute_result"
    }
   ],
   "source": [
    "surv_reorganized.shape"
   ]
  },
  {
   "cell_type": "code",
   "execution_count": 151,
   "metadata": {},
   "outputs": [
    {
     "data": {
      "text/plain": [
       "(24368, 1224)"
      ]
     },
     "execution_count": 151,
     "metadata": {},
     "output_type": "execute_result"
    }
   ],
   "source": [
    "expre_reorganized.shape"
   ]
  },
  {
   "cell_type": "code",
   "execution_count": 152,
   "metadata": {},
   "outputs": [
    {
     "data": {
      "text/plain": [
       "pandas.core.series.Series"
      ]
     },
     "execution_count": 152,
     "metadata": {},
     "output_type": "execute_result"
    }
   ],
   "source": [
    "type(expre_reorganized.dtypes)"
   ]
  },
  {
   "cell_type": "code",
   "execution_count": 153,
   "metadata": {},
   "outputs": [],
   "source": [
    "a = expre_reorganized.dtypes"
   ]
  },
  {
   "cell_type": "code",
   "execution_count": 154,
   "metadata": {},
   "outputs": [
    {
     "data": {
      "text/plain": [
       "Hugo_Symbol    object\n",
       "dtype: object"
      ]
     },
     "execution_count": 154,
     "metadata": {},
     "output_type": "execute_result"
    }
   ],
   "source": [
    "a[a != 'float64']"
   ]
  },
  {
   "cell_type": "code",
   "execution_count": 155,
   "metadata": {},
   "outputs": [
    {
     "data": {
      "text/plain": [
       "(24368, 1224)"
      ]
     },
     "execution_count": 155,
     "metadata": {},
     "output_type": "execute_result"
    }
   ],
   "source": [
    "expre_reorganized.shape"
   ]
  },
  {
   "cell_type": "code",
   "execution_count": 156,
   "metadata": {},
   "outputs": [
    {
     "data": {
      "text/plain": [
       "(24364, 1224)"
      ]
     },
     "execution_count": 156,
     "metadata": {},
     "output_type": "execute_result"
    }
   ],
   "source": [
    "expre_reorganized.dropna().shape"
   ]
  },
  {
   "cell_type": "code",
   "execution_count": null,
   "metadata": {},
   "outputs": [],
   "source": []
  }
 ],
 "metadata": {
  "anaconda-cloud": {},
  "kernelspec": {
   "display_name": "Python [conda root]",
   "language": "python",
   "name": "conda-root-py"
  },
  "language_info": {
   "codemirror_mode": {
    "name": "ipython",
    "version": 3
   },
   "file_extension": ".py",
   "mimetype": "text/x-python",
   "name": "python",
   "nbconvert_exporter": "python",
   "pygments_lexer": "ipython3",
   "version": "3.5.4"
  },
  "nav_menu": {},
  "toc": {
   "navigate_menu": true,
   "number_sections": true,
   "sideBar": true,
   "threshold": 6,
   "toc_cell": false,
   "toc_section_display": "block",
   "toc_window_display": false
  }
 },
 "nbformat": 4,
 "nbformat_minor": 2
}
