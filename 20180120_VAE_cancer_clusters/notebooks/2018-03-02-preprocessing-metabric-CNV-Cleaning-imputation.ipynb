{
 "cells": [
  {
   "cell_type": "code",
   "execution_count": 1,
   "metadata": {},
   "outputs": [],
   "source": [
    "import pandas as pd"
   ]
  },
  {
   "cell_type": "code",
   "execution_count": 2,
   "metadata": {},
   "outputs": [
    {
     "data": {
      "text/plain": [
       "(22544, 2175)"
      ]
     },
     "execution_count": 2,
     "metadata": {},
     "output_type": "execute_result"
    }
   ],
   "source": [
    "cnv = pd.read_csv('../data/METABRIC/data_CNA.txt',sep='\\t')\n",
    "cnv.shape"
   ]
  },
  {
   "cell_type": "code",
   "execution_count": 3,
   "metadata": {},
   "outputs": [
    {
     "data": {
      "text/html": [
       "<div>\n",
       "<style scoped>\n",
       "    .dataframe tbody tr th:only-of-type {\n",
       "        vertical-align: middle;\n",
       "    }\n",
       "\n",
       "    .dataframe tbody tr th {\n",
       "        vertical-align: top;\n",
       "    }\n",
       "\n",
       "    .dataframe thead th {\n",
       "        text-align: right;\n",
       "    }\n",
       "</style>\n",
       "<table border=\"1\" class=\"dataframe\">\n",
       "  <thead>\n",
       "    <tr style=\"text-align: right;\">\n",
       "      <th></th>\n",
       "      <th>Hugo_Symbol</th>\n",
       "      <th>Entrez_Gene_Id</th>\n",
       "      <th>MB-0000</th>\n",
       "      <th>MB-0039</th>\n",
       "      <th>MB-0045</th>\n",
       "      <th>MB-0046</th>\n",
       "      <th>MB-0048</th>\n",
       "      <th>MB-0050</th>\n",
       "      <th>MB-0053</th>\n",
       "      <th>MB-0062</th>\n",
       "      <th>...</th>\n",
       "      <th>MB-5467</th>\n",
       "      <th>MB-5546</th>\n",
       "      <th>MB-5585</th>\n",
       "      <th>MB-5625</th>\n",
       "      <th>MB-5648</th>\n",
       "      <th>MB-6020</th>\n",
       "      <th>MB-6213</th>\n",
       "      <th>MB-6230</th>\n",
       "      <th>MB-7148</th>\n",
       "      <th>MB-7188</th>\n",
       "    </tr>\n",
       "  </thead>\n",
       "  <tbody>\n",
       "    <tr>\n",
       "      <th>0</th>\n",
       "      <td>A1BG</td>\n",
       "      <td>1.0</td>\n",
       "      <td>0</td>\n",
       "      <td>0</td>\n",
       "      <td>-1</td>\n",
       "      <td>0</td>\n",
       "      <td>0</td>\n",
       "      <td>0</td>\n",
       "      <td>0</td>\n",
       "      <td>-1</td>\n",
       "      <td>...</td>\n",
       "      <td>0.0</td>\n",
       "      <td>0.0</td>\n",
       "      <td>0.0</td>\n",
       "      <td>0.0</td>\n",
       "      <td>0.0</td>\n",
       "      <td>1.0</td>\n",
       "      <td>0.0</td>\n",
       "      <td>0.0</td>\n",
       "      <td>0.0</td>\n",
       "      <td>0.0</td>\n",
       "    </tr>\n",
       "    <tr>\n",
       "      <th>1</th>\n",
       "      <td>A1BG-AS1</td>\n",
       "      <td>503538.0</td>\n",
       "      <td>0</td>\n",
       "      <td>0</td>\n",
       "      <td>-1</td>\n",
       "      <td>0</td>\n",
       "      <td>0</td>\n",
       "      <td>0</td>\n",
       "      <td>0</td>\n",
       "      <td>-1</td>\n",
       "      <td>...</td>\n",
       "      <td>0.0</td>\n",
       "      <td>0.0</td>\n",
       "      <td>0.0</td>\n",
       "      <td>0.0</td>\n",
       "      <td>0.0</td>\n",
       "      <td>1.0</td>\n",
       "      <td>0.0</td>\n",
       "      <td>0.0</td>\n",
       "      <td>0.0</td>\n",
       "      <td>0.0</td>\n",
       "    </tr>\n",
       "  </tbody>\n",
       "</table>\n",
       "<p>2 rows × 2175 columns</p>\n",
       "</div>"
      ],
      "text/plain": [
       "  Hugo_Symbol  Entrez_Gene_Id  MB-0000  MB-0039  MB-0045  MB-0046  MB-0048  \\\n",
       "0        A1BG             1.0        0        0       -1        0        0   \n",
       "1    A1BG-AS1        503538.0        0        0       -1        0        0   \n",
       "\n",
       "   MB-0050  MB-0053  MB-0062   ...     MB-5467  MB-5546  MB-5585  MB-5625  \\\n",
       "0        0        0       -1   ...         0.0      0.0      0.0      0.0   \n",
       "1        0        0       -1   ...         0.0      0.0      0.0      0.0   \n",
       "\n",
       "   MB-5648  MB-6020  MB-6213  MB-6230  MB-7148  MB-7188  \n",
       "0      0.0      1.0      0.0      0.0      0.0      0.0  \n",
       "1      0.0      1.0      0.0      0.0      0.0      0.0  \n",
       "\n",
       "[2 rows x 2175 columns]"
      ]
     },
     "execution_count": 3,
     "metadata": {},
     "output_type": "execute_result"
    }
   ],
   "source": [
    "cnv.head(2)"
   ]
  },
  {
   "cell_type": "code",
   "execution_count": 4,
   "metadata": {},
   "outputs": [
    {
     "data": {
      "text/plain": [
       "3426"
      ]
     },
     "execution_count": 4,
     "metadata": {},
     "output_type": "execute_result"
    }
   ],
   "source": [
    "# clean missing more 20\n",
    "max(cnv.isnull().sum(axis=0).tolist())\n"
   ]
  },
  {
   "cell_type": "code",
   "execution_count": 6,
   "metadata": {},
   "outputs": [
    {
     "data": {
      "text/plain": [
       "41"
      ]
     },
     "execution_count": 6,
     "metadata": {},
     "output_type": "execute_result"
    }
   ],
   "source": [
    "max(cnv.isnull().sum(axis=1).tolist())\n"
   ]
  },
  {
   "cell_type": "code",
   "execution_count": 23,
   "metadata": {},
   "outputs": [],
   "source": [
    "meta_index_cnv = cnv.columns\n",
    "meta_index_cnv= meta_index_cnv[2:]\n",
    "tops = ['Hugo_Symbol']\n",
    "tops.extend( list(meta_index_cnv))\n",
    "cnv = cnv[tops]"
   ]
  },
  {
   "cell_type": "code",
   "execution_count": 24,
   "metadata": {},
   "outputs": [
    {
     "data": {
      "text/plain": [
       "(22544, 2174)"
      ]
     },
     "execution_count": 24,
     "metadata": {},
     "output_type": "execute_result"
    }
   ],
   "source": [
    "cnv.shape"
   ]
  },
  {
   "cell_type": "code",
   "execution_count": 25,
   "metadata": {},
   "outputs": [
    {
     "data": {
      "text/plain": [
       "4508.8"
      ]
     },
     "execution_count": 25,
     "metadata": {},
     "output_type": "execute_result"
    }
   ],
   "source": [
    "(cnv.shape[0] /100)* 20"
   ]
  },
  {
   "cell_type": "code",
   "execution_count": 26,
   "metadata": {},
   "outputs": [],
   "source": [
    "for c in cnv.columns:\n",
    "    missing = cnv[c].isnull().sum()\n",
    "    if missing >= 4509:\n",
    "        del cnv[c]\n",
    "        print(c)"
   ]
  },
  {
   "cell_type": "code",
   "execution_count": 27,
   "metadata": {},
   "outputs": [
    {
     "data": {
      "text/plain": [
       "(22544, 2174)"
      ]
     },
     "execution_count": 27,
     "metadata": {},
     "output_type": "execute_result"
    }
   ],
   "source": [
    "cnv.shape"
   ]
  },
  {
   "cell_type": "code",
   "execution_count": 28,
   "metadata": {},
   "outputs": [
    {
     "data": {
      "text/plain": [
       "434.79999999999995"
      ]
     },
     "execution_count": 28,
     "metadata": {},
     "output_type": "execute_result"
    }
   ],
   "source": [
    "(2174 / 100 )*20"
   ]
  },
  {
   "cell_type": "code",
   "execution_count": 29,
   "metadata": {},
   "outputs": [
    {
     "data": {
      "text/plain": [
       "[]"
      ]
     },
     "execution_count": 29,
     "metadata": {},
     "output_type": "execute_result"
    }
   ],
   "source": [
    "#Find is a feature is missing more than 20%\n",
    "missing = cnv.isnull().sum(axis=1).tolist()\n",
    "\n",
    "todel = list()\n",
    "for idx, m in enumerate(missing):\n",
    "    if m >= 435:\n",
    "        todel.append(idx)\n",
    "todel"
   ]
  },
  {
   "cell_type": "code",
   "execution_count": 11,
   "metadata": {},
   "outputs": [],
   "source": [
    "# immputation using KNN 20 neigh\n",
    "from sklearn import neighbors\n",
    "import numpy as np"
   ]
  },
  {
   "cell_type": "code",
   "execution_count": 32,
   "metadata": {},
   "outputs": [],
   "source": [
    "# custom version of  https://github.com/bwanglzu/Imputer.py/blob/master/imputer/imputer.py\n",
    "\n",
    "class Imputer:\n",
    "    \"\"\"Imputer class.\"\"\"\n",
    "    def __init():\n",
    "        return\n",
    "\n",
    "    def _fit(self, X, column, k=10, is_categorical=False):\n",
    "        \"\"\"Fit a knn classifier for missing column.\n",
    "        - Args:\n",
    "                X(numpy.ndarray): input data\n",
    "                column(int): column id to be imputed\n",
    "                k(int): number of nearest neighbors, default 10\n",
    "                is_categorical(boolean): is continuous or categorical feature\n",
    "        - Returns:\n",
    "                clf: trained k nearest neighbour classifier\n",
    "        \"\"\"\n",
    "        clf = None\n",
    "        if not is_categorical:\n",
    "            clf = neighbors.KNeighborsRegressor(n_neighbors=k)\n",
    "        else:\n",
    "            clf = neighbors.KNeighborsClassifier(n_neighbors=k)\n",
    "        # use column not null to train the kNN classifier\n",
    "        missing_idxes = np.where(pd.isnull(X[:, column]))[0]\n",
    "        if len(missing_idxes) == 0:\n",
    "            return None\n",
    "        X_copy = np.delete(X, missing_idxes, 0)\n",
    "        X_train = np.delete(X_copy, column, 1)\n",
    "        # if other columns still have missing values fill with mean\n",
    "        col_mean = None\n",
    "        if not is_categorical:\n",
    "            col_mean = np.nanmean(X, 0)\n",
    "        else:\n",
    "            col_mean = np.nanmedian(X, 0)\n",
    "        for col_id in range(0, len(col_mean) - 1):\n",
    "            col_missing_idxes = np.where(np.isnan(X_train[:, col_id]))[0]\n",
    "            if len(col_missing_idxes) == 0:\n",
    "                continue\n",
    "            else:\n",
    "                X_train[col_missing_idxes, col_id] = col_mean[col_id]\n",
    "        y_train = X_copy[:, column]\n",
    "        # fit classifier\n",
    "        clf.fit(X_train, y_train)\n",
    "        return clf\n",
    "\n",
    "    def _transform(self, X, column, clf, is_categorical):\n",
    "        \"\"\"Impute missing values.\n",
    "        - Args:\n",
    "                X(numpy.ndarray): input numpy ndarray\n",
    "                column(int): index of column to be imputed\n",
    "                clf: pretrained classifier\n",
    "                is_categorical(boolean): is continuous or categorical feature\n",
    "        - Returns:\n",
    "                X(pandas.dataframe): imputed dataframe\n",
    "        \"\"\"\n",
    "        missing_idxes = np.where(np.isnan(X[:, column]))[0]\n",
    "        X_test = X[missing_idxes, :]\n",
    "        X_test = np.delete(X_test, column, 1)\n",
    "        # if other columns still have missing values fill with mean\n",
    "        col_mean = None\n",
    "        if not is_categorical:\n",
    "            col_mean = np.nanmean(X, 0)\n",
    "        else:\n",
    "            col_mean = np.nanmedian(X, 0)\n",
    "        # fill missing values in each column with current col_mean\n",
    "        for col_id in range(0, len(col_mean) - 1):\n",
    "            col_missing_idxes = np.where(np.isnan(X_test[:, col_id]))[0]\n",
    "            # if no missing values for current column\n",
    "            if len(col_missing_idxes) == 0:\n",
    "                continue\n",
    "            else:\n",
    "                X_test[col_missing_idxes, col_id] = col_mean[col_id]\n",
    "        # predict missing values\n",
    "        y_test = clf.predict(X_test)\n",
    "        X[missing_idxes, column] = y_test\n",
    "        return X\n",
    "\n",
    "    def knn(self, X, column, k=10, is_categorical=False):\n",
    "        \"\"\"Impute missing value with knn.\n",
    "        - Args:\n",
    "                X(pandas.dataframe): dataframe\n",
    "                column(str): column name to be imputed\n",
    "                k(int): number of nearest neighbors, default 10\n",
    "                is_categorical(boolean): is continuous or categorical feature\n",
    "        - Returns:\n",
    "                X_imputed(pandas.dataframe): imputed pandas dataframe\n",
    "        \"\"\"\n",
    "        X, column = self._check_X_y(X, column)\n",
    "        clf = self._fit(X, column, k, is_categorical)\n",
    "        if clf is None:\n",
    "            return X\n",
    "        else:\n",
    "            X_imputed = self._transform(X, column, clf, is_categorical)\n",
    "            return X_imputed\n",
    "\n",
    "    def _check_X_y(self, X, column):\n",
    "        \"\"\"Check input, if pandas.dataframe, transform to numpy array.\n",
    "        - Args:\n",
    "                X(ndarray/pandas.dataframe): input instances\n",
    "                column(str/int): column index or column name\n",
    "        - Returns:\n",
    "                X(ndarray): input instances\n",
    "        \"\"\"\n",
    "        column_idx = None\n",
    "        X = X.select_dtypes(include=[np.number])\n",
    "\n",
    "        if isinstance(X, pd.core.frame.DataFrame):\n",
    "            if isinstance(column, str):\n",
    "                # get index of current column\n",
    "                column_idx = X.columns.get_loc(column)\n",
    "            else:\n",
    "                column_idx = column\n",
    "            X = X.as_matrix()\n",
    "        else:\n",
    "            column_idx = column\n",
    "        return X, column_idx"
   ]
  },
  {
   "cell_type": "code",
   "execution_count": null,
   "metadata": {},
   "outputs": [],
   "source": []
  },
  {
   "cell_type": "code",
   "execution_count": 33,
   "metadata": {},
   "outputs": [],
   "source": [
    "imputer = Imputer()"
   ]
  },
  {
   "cell_type": "code",
   "execution_count": 34,
   "metadata": {},
   "outputs": [],
   "source": [
    "icnv = cnv.copy()\n",
    "#for c in icnv.columns:\n",
    "#    missing = icnv[c].isnull().sum()\n",
    "#    if missing > 0:\n",
    "#        imputed = imputer.knn(icnv, c, k=20 )\n",
    "#        icnv[c] = imputed[c]\n",
    "        \n",
    "#a = imputer.knn(icnv, \"MB-5104\",k=20)       \n"
   ]
  },
  {
   "cell_type": "code",
   "execution_count": 38,
   "metadata": {},
   "outputs": [],
   "source": [
    "a = imputer.knn(icnv, 'MB-5104',k=20, is_categorical=True)"
   ]
  },
  {
   "cell_type": "code",
   "execution_count": 39,
   "metadata": {},
   "outputs": [
    {
     "data": {
      "text/plain": [
       "numpy.ndarray"
      ]
     },
     "execution_count": 39,
     "metadata": {},
     "output_type": "execute_result"
    }
   ],
   "source": [
    "type(a)"
   ]
  },
  {
   "cell_type": "code",
   "execution_count": 40,
   "metadata": {},
   "outputs": [
    {
     "data": {
      "text/plain": [
       "array([[ 0.,  0., -1., ...,  0.,  0.,  0.],\n",
       "       [ 0.,  0., -1., ...,  0.,  0.,  0.],\n",
       "       [ 0.,  0.,  0., ...,  0., -1.,  0.],\n",
       "       ..., \n",
       "       [ 0., -1.,  0., ...,  0.,  0., -1.],\n",
       "       [ 0.,  0., -2., ...,  0.,  0.,  0.],\n",
       "       [ 0.,  0.,  0., ...,  0.,  0.,  0.]])"
      ]
     },
     "execution_count": 40,
     "metadata": {},
     "output_type": "execute_result"
    }
   ],
   "source": [
    "a"
   ]
  },
  {
   "cell_type": "code",
   "execution_count": 42,
   "metadata": {},
   "outputs": [],
   "source": [
    "for c in icnv.columns:\n",
    "    missing = icnv[c].isnull().sum()\n",
    "    if missing > 0:\n",
    "#        imputed = imputer.knn(icnv, c, k=20 )\n",
    "        icnv[c] = imputer.knn(icnv, c, k=20, is_categorical=True )\n",
    "        \n",
    "#a = imputer.knn(icnv, \"MB-5104\",k=20)      "
   ]
  },
  {
   "cell_type": "code",
   "execution_count": 43,
   "metadata": {},
   "outputs": [
    {
     "data": {
      "text/plain": [
       "Hugo_Symbol    0\n",
       "MB-0000        0\n",
       "MB-0039        0\n",
       "MB-0045        0\n",
       "MB-0046        0\n",
       "MB-0048        0\n",
       "MB-0050        0\n",
       "MB-0053        0\n",
       "MB-0062        0\n",
       "MB-0064        0\n",
       "MB-0066        0\n",
       "MB-0068        0\n",
       "MB-0079        0\n",
       "MB-0081        0\n",
       "MB-0083        0\n",
       "MB-0093        0\n",
       "MB-0095        0\n",
       "MB-0097        0\n",
       "MB-0100        0\n",
       "MB-0108        0\n",
       "MB-0113        0\n",
       "MB-0120        0\n",
       "MB-0124        0\n",
       "MB-0134        0\n",
       "MB-0138        0\n",
       "MB-0139        0\n",
       "MB-0148        0\n",
       "MB-0149        0\n",
       "MB-0157        0\n",
       "MB-0171        0\n",
       "              ..\n",
       "MB-5104        0\n",
       "MB-5106        0\n",
       "MB-5109        0\n",
       "MB-5131        0\n",
       "MB-5136        0\n",
       "MB-5137        0\n",
       "MB-5140        0\n",
       "MB-5158        0\n",
       "MB-5219        0\n",
       "MB-5255        0\n",
       "MB-5289        0\n",
       "MB-5301        0\n",
       "MB-5302        0\n",
       "MB-5325        0\n",
       "MB-5349        0\n",
       "MB-5385        0\n",
       "MB-5387        0\n",
       "MB-5394        0\n",
       "MB-5413        0\n",
       "MB-5460        0\n",
       "MB-5467        0\n",
       "MB-5546        0\n",
       "MB-5585        0\n",
       "MB-5625        0\n",
       "MB-5648        0\n",
       "MB-6020        0\n",
       "MB-6213        0\n",
       "MB-6230        0\n",
       "MB-7148        0\n",
       "MB-7188        0\n",
       "Length: 2174, dtype: int64"
      ]
     },
     "execution_count": 43,
     "metadata": {},
     "output_type": "execute_result"
    }
   ],
   "source": [
    "icnv.isnull().sum()"
   ]
  },
  {
   "cell_type": "code",
   "execution_count": 45,
   "metadata": {},
   "outputs": [
    {
     "data": {
      "text/plain": [
       "0"
      ]
     },
     "execution_count": 45,
     "metadata": {},
     "output_type": "execute_result"
    }
   ],
   "source": [
    "max(icnv.isnull().sum())\n"
   ]
  },
  {
   "cell_type": "code",
   "execution_count": 47,
   "metadata": {},
   "outputs": [],
   "source": [
    "icnv.to_csv('METABRIC_CNV_implaced.txt',index=False,sep='\\t')"
   ]
  },
  {
   "cell_type": "code",
   "execution_count": 48,
   "metadata": {},
   "outputs": [],
   "source": [
    "def transformation(row):\n",
    "\n",
    "        if row == -2:\n",
    "            return 0\n",
    "        if row == -1:\n",
    "            return .25\n",
    "        if row == 0:\n",
    "            return .5\n",
    "        if row == 1:\n",
    "            return .75\n",
    "        if row == 2:\n",
    "            return 1\n",
    "        else:\n",
    "            print(row)"
   ]
  },
  {
   "cell_type": "code",
   "execution_count": 49,
   "metadata": {},
   "outputs": [],
   "source": [
    "for c in icnv.columns:\n",
    "    if c == 'Hugo_Symbol':\n",
    "        pass\n",
    "    else:\n",
    "        icnv[c] = icnv[c].apply(transformation)"
   ]
  },
  {
   "cell_type": "code",
   "execution_count": 50,
   "metadata": {},
   "outputs": [],
   "source": [
    "icnv.to_csv('METABRIC_CNV_implaced_transformed.txt',index=False,sep='\\t')"
   ]
  },
  {
   "cell_type": "code",
   "execution_count": null,
   "metadata": {},
   "outputs": [],
   "source": []
  }
 ],
 "metadata": {
  "anaconda-cloud": {},
  "kernelspec": {
   "display_name": "Python [conda root]",
   "language": "python",
   "name": "conda-root-py"
  },
  "language_info": {
   "codemirror_mode": {
    "name": "ipython",
    "version": 3
   },
   "file_extension": ".py",
   "mimetype": "text/x-python",
   "name": "python",
   "nbconvert_exporter": "python",
   "pygments_lexer": "ipython3",
   "version": "3.5.5"
  },
  "nav_menu": {},
  "toc": {
   "navigate_menu": true,
   "number_sections": true,
   "sideBar": true,
   "threshold": 6,
   "toc_cell": false,
   "toc_section_display": "block",
   "toc_window_display": false
  }
 },
 "nbformat": 4,
 "nbformat_minor": 2
}
